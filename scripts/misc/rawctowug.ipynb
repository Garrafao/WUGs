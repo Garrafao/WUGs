{
  "cells": [
    {
      "cell_type": "code",
      "execution_count": 342,
      "metadata": {
        "colab": {
          "base_uri": "https://localhost:8080/"
        },
        "id": "C3CH2tL5TGkf",
        "outputId": "d46cd27b-5866-436a-9355-e1eded3ca5b7"
      },
      "outputs": [
        {
          "output_type": "stream",
          "name": "stdout",
          "text": [
            "Looking in indexes: https://pypi.org/simple, https://us-python.pkg.dev/colab-wheels/public/simple/\n",
            "Requirement already satisfied: fuzzywuzzy in /usr/local/lib/python3.9/dist-packages (0.18.0)\n"
          ]
        }
      ],
      "source": [
        "import requests\n",
        "import pandas as pd\n",
        "import io\n",
        "import numpy as np\n",
        "import os\n",
        "import warnings\n",
        "\n",
        "#!pip install fuzzywuzzy\n",
        "import fuzzywuzzy\n",
        "\n",
        "from fuzzywuzzy import fuzz\n",
        "import re\n",
        "\n",
        "warnings.filterwarnings(\"ignore\")\n",
        "import spacy\n",
        "nlp = spacy.load(\"en_core_web_sm\")"
      ]
    },
    {
      "cell_type": "code",
      "execution_count": 343,
      "metadata": {
        "id": "cz2ugYbUSIJG"
      },
      "outputs": [],
      "source": [
        "directory =os.makedirs( '/content/raw-c', exist_ok=True )"
      ]
    },
    {
      "cell_type": "code",
      "execution_count": 344,
      "metadata": {
        "id": "2-uCiw1JaXTj"
      },
      "outputs": [],
      "source": [
        "URL = \"https://raw.githubusercontent.com/seantrott/raw-c/main/data/processed/raw-c.csv\"\n",
        "download = requests.get(URL).content\n",
        "df = pd.read_csv(io.StringIO(download.decode('utf-8')),sep = ',')\n",
        "#directory = URL.split('/')[4]"
      ]
    },
    {
      "cell_type": "code",
      "execution_count": 345,
      "metadata": {
        "id": "14p_Qgm4Kkyi"
      },
      "outputs": [],
      "source": [
        "def getname(dataset):\n",
        "  return dataset.split('.')[0]"
      ]
    },
    {
      "cell_type": "code",
      "execution_count": 442,
      "metadata": {
        "id": "YXCDkDvle70B"
      },
      "outputs": [],
      "source": [
        "url1 = \"https://raw.githubusercontent.com/seantrott/raw-c/main/data/processed/normed_critical.csv\"\n",
        "dload = requests.get(URL).content\n",
        "norm = pd.read_csv(io.StringIO(dload.decode('utf-8')),sep = ',')"
      ]
    },
    {
      "cell_type": "code",
      "source": [
        "df_ = pd.merge(df, norm, how = 'inner', on=['word','same', 'Class', 'ambiguity_type', 'version'])"
      ],
      "metadata": {
        "id": "ZzoqopDWID_w"
      },
      "execution_count": 349,
      "outputs": []
    },
    {
      "cell_type": "code",
      "execution_count": 351,
      "metadata": {
        "id": "rQSJjKDXbpwO"
      },
      "outputs": [],
      "source": [
        "df_dash = df_[['word', 'sentence1', 'sentence2', \"Class\", 'version']]\n",
        "dataf = df[['word', 'sentence1', 'sentence2', \"Class\", 'version']]"
      ]
    },
    {
      "cell_type": "code",
      "execution_count": 352,
      "metadata": {
        "id": "6-iRFbfTbfK8"
      },
      "outputs": [],
      "source": [
        "def ver1(indd):\n",
        "  return \"_\".join(indd.split(\"_\", 2)[:2])"
      ]
    },
    {
      "cell_type": "code",
      "execution_count": 353,
      "metadata": {
        "id": "KLBH3GQNbtel"
      },
      "outputs": [],
      "source": [
        "def ver2(indd):\n",
        "  return \"_\".join(indd.split(\"_\", 2)[2:])"
      ]
    },
    {
      "cell_type": "code",
      "execution_count": 354,
      "metadata": {
        "id": "viO7Ocsyb64N"
      },
      "outputs": [],
      "source": [
        "df_dash['version1'] = df_dash['version'].apply(ver1)\n",
        "dataf['version1'] = dataf['version'].apply(ver1)"
      ]
    },
    {
      "cell_type": "code",
      "execution_count": 355,
      "metadata": {
        "id": "LJYbhAw6ccQ0"
      },
      "outputs": [],
      "source": [
        "df_dash['version2'] = df_dash['version'].apply(ver2)\n",
        "dataf['version2'] = dataf['version'].apply(ver2)"
      ]
    },
    {
      "cell_type": "code",
      "execution_count": 356,
      "metadata": {
        "id": "ZUwGXJBGbsSO"
      },
      "outputs": [],
      "source": [
        "df1 = df_dash[['word', 'sentence1', 'Class', 'version1']]\n",
        "df1.columns =  ['word', 'sent', 'class', 'version']\n",
        "df1[\"index\"] = df1.groupby(\"word\").cumcount()*2"
      ]
    },
    {
      "cell_type": "code",
      "source": [
        "df_1 = dataf[['word', 'sentence1', 'Class', 'version1']]\n",
        "df_1.columns =  ['word', 'sent', 'class', 'version']\n",
        "df_1[\"index\"] = df_1.groupby(\"word\").cumcount()*2"
      ],
      "metadata": {
        "id": "fvQaeqwNVUTL"
      },
      "execution_count": 357,
      "outputs": []
    },
    {
      "cell_type": "code",
      "execution_count": 358,
      "metadata": {
        "id": "TMrao0I9btnl"
      },
      "outputs": [],
      "source": [
        "df2 =  df_dash[['word', 'sentence2', 'Class', 'version2']]\n",
        "df2.columns =  ['word', 'sent', 'class', 'version']\n",
        "df2[\"index\"] = df2.groupby(\"word\").cumcount()*2+1"
      ]
    },
    {
      "cell_type": "code",
      "source": [
        "df_2 =  dataf[['word', 'sentence2', 'Class', 'version2']]\n",
        "df_2.columns =  ['word', 'sent', 'class', 'version']\n",
        "df_2[\"index\"] = df_2.groupby(\"word\").cumcount()*2+1"
      ],
      "metadata": {
        "id": "iZgSJ3qoVcsu"
      },
      "execution_count": 359,
      "outputs": []
    },
    {
      "cell_type": "code",
      "execution_count": 360,
      "metadata": {
        "id": "llHGGCC9bv3t"
      },
      "outputs": [],
      "source": [
        "df_final = pd.concat([df1, df2])\n",
        "df_final = df_final.sort_values(by = ['word', 'index'], ascending = [True, True])"
      ]
    },
    {
      "cell_type": "code",
      "source": [
        "datafl = pd.concat([df_1, df_2])\n",
        "datafl = datafl.sort_values(by = ['word', 'index'], ascending = [True, True])"
      ],
      "metadata": {
        "id": "Y6ExPZe7Vkol"
      },
      "execution_count": 361,
      "outputs": []
    },
    {
      "cell_type": "code",
      "execution_count": 362,
      "metadata": {
        "id": "jrXZueo5b1TA"
      },
      "outputs": [],
      "source": [
        "df_final[\"identifier\"] = df_final[\"word\"]+\"-\"+df_final[\"version\"].astype(str)"
      ]
    },
    {
      "cell_type": "code",
      "execution_count": 363,
      "metadata": {
        "id": "-Q4kYWazb4Ce"
      },
      "outputs": [],
      "source": [
        "df_odd = df_final[1::2]\n",
        "df_odd.columns = [\"word2\", \"sent2\", 'class2', 'version2', \"index2\", \"identifier2\"]\n",
        "df_even = df_final[::2]\n",
        "df_even.columns = [\"word1\", \"sent1\", \"class1\", 'version1', \"index1\", \"identifier1\"]\n",
        "df_final = pd.concat([df_even, df_odd], axis=1)"
      ]
    },
    {
      "cell_type": "code",
      "source": [
        "datafl[\"identifier\"] = datafl[\"word\"]+\"-\"+datafl[\"version\"].astype(str)"
      ],
      "metadata": {
        "id": "ffu2ADzhUZKZ"
      },
      "execution_count": 364,
      "outputs": []
    },
    {
      "cell_type": "code",
      "source": [
        "dataf_odd = datafl[1::2]\n",
        "dataf_odd.columns = [\"word2\", \"sent2\", 'class2', 'version2', \"index2\", \"identifier2\"]\n",
        "dataf_even = datafl[::2]\n",
        "dataf_even.columns = [\"word1\", \"sent1\", \"class1\", 'version1', \"index1\", \"identifier1\"]\n",
        "data_fl = pd.concat([dataf_even, dataf_odd], axis=1)"
      ],
      "metadata": {
        "id": "lRPkJddLT0GT"
      },
      "execution_count": 368,
      "outputs": []
    },
    {
      "cell_type": "code",
      "execution_count": 371,
      "metadata": {
        "id": "-qtQ3Uc-b7Xv"
      },
      "outputs": [],
      "source": [
        "df_final = df_final[[\"word2\", \"sent2\", \"identifier2\", 'class2',\"sent1\", \"identifier1\", 'class1', 'index1', 'index2', 'version2', 'version1']]\n",
        "data_fl = data_fl[[\"word2\", \"sent2\", \"identifier2\", 'class2',\"sent1\", \"identifier1\", 'class1', 'index2', 'index1', 'version2', 'version1']]\n",
        "df_final_next_stage = data_fl.rename(columns={\"word2\":\"lemma\"})"
      ]
    },
    {
      "cell_type": "code",
      "execution_count": 372,
      "metadata": {
        "id": "3-NnCZwpcBeu"
      },
      "outputs": [],
      "source": [
        "data_fl = df_final_next_stage"
      ]
    },
    {
      "cell_type": "code",
      "source": [
        "df_final = df_final.rename(columns={\"word2\":\"lemma\"})"
      ],
      "metadata": {
        "id": "d0aeabesXef9"
      },
      "execution_count": 374,
      "outputs": []
    },
    {
      "cell_type": "code",
      "execution_count": 375,
      "metadata": {
        "id": "mdaqGTpFcFMg"
      },
      "outputs": [],
      "source": [
        "df_final[\"judgment\"] = df_[\"relatedness\"]"
      ]
    },
    {
      "cell_type": "code",
      "execution_count": 376,
      "metadata": {
        "id": "RjnwFi-HcPKz"
      },
      "outputs": [],
      "source": [
        "df_final = df_final[['lemma', 'identifier2', 'identifier1', 'judgment']]"
      ]
    },
    {
      "cell_type": "code",
      "execution_count": 377,
      "metadata": {
        "id": "Fvl7ov_MBuMb"
      },
      "outputs": [],
      "source": [
        "df_final[\"annotator\"] = df_[\"subject\"]\n",
        "df_final[\"comment\"] = \" \"\n",
        "df_final[\"description\"] = df_['ambiguity_type']\n",
        "#df_final['split'] = df_final['split2']"
      ]
    },
    {
      "cell_type": "code",
      "execution_count": 378,
      "metadata": {
        "id": "YwYkw9XXBjga"
      },
      "outputs": [],
      "source": [
        "df_final = df_final[[\"identifier1\", \"identifier2\", \"annotator\", \"judgment\", \"comment\", \"lemma\", \"description\"]]"
      ]
    },
    {
      "cell_type": "code",
      "execution_count": 380,
      "metadata": {
        "id": "EjH5p3JVcUjF"
      },
      "outputs": [],
      "source": [
        "for i in list(df_final[\"lemma\"].value_counts().index):\n",
        "  df_temp = df_final[df_final[\"lemma\"]==i]\n",
        "  numpy_df = df_temp.to_numpy()\n",
        "  header = list(df_temp.columns)\n",
        "  numpy_df = np.vstack([header, numpy_df])\n",
        "  if not os.path.exists('/content/raw-c'+\"/\"+i):\n",
        "      os.mkdir('/content/raw-c'+\"/\"+i)\n",
        "  np.savetxt('/content/raw-c'+\"/\"+i+\"/judgments.csv\", numpy_df,fmt='%s', delimiter='\\t')\n"
      ]
    },
    {
      "cell_type": "code",
      "execution_count": 400,
      "metadata": {
        "id": "DjyG8JK6cn_z"
      },
      "outputs": [],
      "source": [
        "df1 = df_final_next_stage[['lemma', 'sent1', 'class1', 'identifier1', 'index1']]\n",
        "df1.columns =  ['word', 'sent', 'pos', 'identifier', 'index']\n",
        "df2 = df_final_next_stage[['lemma', 'sent2', 'class2', 'identifier2', 'index2']]\n",
        "df2.columns =  ['word', 'sent', 'pos', 'identifier', 'index']\n"
      ]
    },
    {
      "cell_type": "code",
      "execution_count": 401,
      "metadata": {
        "id": "odDQEYKwEh8R"
      },
      "outputs": [],
      "source": [
        "df_final = pd.concat([df1, df2])"
      ]
    },
    {
      "cell_type": "code",
      "execution_count": 402,
      "metadata": {
        "id": "xm3C2stlSquo"
      },
      "outputs": [],
      "source": [
        "df_final = df_final.reset_index(drop = True)"
      ]
    },
    {
      "cell_type": "code",
      "execution_count": 403,
      "metadata": {
        "id": "i0_PMcBiUWNh"
      },
      "outputs": [],
      "source": [
        "from fuzzywuzzy import process\n",
        "tag = ''\n",
        "def get_indices_of_tags(sentence, word):\n",
        "   i = sentence.split(\" \")\n",
        "   tag = process.extractOne(word, i)\n",
        "   tag = tag[0]\n",
        "   #print(tag)\n",
        "   tag = re.sub('\\W+', '', tag)\n",
        "   return(str(sentence.find(tag))+\":\"+str(sentence.find(tag)+len(tag)))\n"
      ]
    },
    {
      "cell_type": "code",
      "execution_count": 404,
      "metadata": {
        "id": "JEmsncmWhl5n"
      },
      "outputs": [],
      "source": [
        "def get_target(sentence, word):\n",
        "   tok = sentence.split(\" \")\n",
        "   tag = process.extractOne(word, tok)\n",
        "   tag = tag[0]\n",
        "   #print(tag)\n",
        "   for i in tok:\n",
        "     if tag == i:\n",
        "       ind = tok.index(i)\n",
        "   return ind"
      ]
    },
    {
      "cell_type": "code",
      "execution_count": 405,
      "metadata": {
        "id": "P58HhaRCcubS"
      },
      "outputs": [],
      "source": [
        "df_final[\"indexes_target_token\"] = df_final.apply(lambda x: get_indices_of_tags(x.sent, x.word), axis=1)"
      ]
    },
    {
      "cell_type": "code",
      "execution_count": 406,
      "metadata": {
        "id": "0BjKB9j8lD7E"
      },
      "outputs": [],
      "source": [
        "df_final['indexes_target_token_tokenized'] = df_final.apply(lambda x: get_target(x.sent, x.word), axis=1)"
      ]
    },
    {
      "cell_type": "code",
      "execution_count": 407,
      "metadata": {
        "id": "OoqLXSHSc0MS"
      },
      "outputs": [],
      "source": [
        "def get_indices_of_sent(sentence):\n",
        "    return \"0:\"+str(len(sentence))"
      ]
    },
    {
      "cell_type": "code",
      "execution_count": 408,
      "metadata": {
        "id": "QRJS0LeBc1b1"
      },
      "outputs": [],
      "source": [
        "df_final[\"indexes_target_sentence\"] = df_final[\"sent\"].apply(get_indices_of_sent)"
      ]
    },
    {
      "cell_type": "code",
      "execution_count": 409,
      "metadata": {
        "id": "sdZMLeskc3rD"
      },
      "outputs": [],
      "source": [
        "df_final = df_final.rename(columns = {\"sent\":\"context\", \"word\":\"lemma\"})"
      ]
    },
    {
      "cell_type": "code",
      "execution_count": 410,
      "metadata": {
        "id": "cMntJjUFebbu"
      },
      "outputs": [],
      "source": [
        "df_final['description'] = \" \"\n",
        "df_final['date'] = \" \"\n",
        "df_final['grouping'] = 1"
      ]
    },
    {
      "cell_type": "code",
      "execution_count": 411,
      "metadata": {
        "id": "GgTeQGN8e3S0"
      },
      "outputs": [],
      "source": [
        "df_final = df_final[['lemma', 'pos', 'date', 'grouping', 'identifier', 'description', 'context', 'indexes_target_token', 'indexes_target_sentence', 'indexes_target_token_tokenized', 'index']]"
      ]
    },
    {
      "cell_type": "code",
      "execution_count": 412,
      "metadata": {
        "id": "W24fFeuIgUe5"
      },
      "outputs": [],
      "source": [
        "df_final['context_tokenized'] = df_final['context']"
      ]
    },
    {
      "cell_type": "code",
      "execution_count": 413,
      "metadata": {
        "id": "CuQJI1DhfJPX"
      },
      "outputs": [],
      "source": [
        "def get_len_tok(sentence):\n",
        "  return \"0:\"+str(len(sentence.split(\" \")))"
      ]
    },
    {
      "cell_type": "code",
      "execution_count": 414,
      "metadata": {
        "id": "_GmrYnKlfhbC"
      },
      "outputs": [],
      "source": [
        "df_final['indexes_target_sentence_tokenized'] = df_final[\"context_tokenized\"].apply(get_len_tok)"
      ]
    },
    {
      "cell_type": "code",
      "execution_count": 415,
      "metadata": {
        "id": "EmXILVAcgb4W"
      },
      "outputs": [],
      "source": [
        "lem = ''\n",
        "def lemmatizr(sent):\n",
        "  doc = nlp(sent)\n",
        "  for i in doc:\n",
        "    lem += i.lemma_\n",
        "    return lem"
      ]
    },
    {
      "cell_type": "code",
      "execution_count": 416,
      "metadata": {
        "id": "HYLJkWnjgf2Q"
      },
      "outputs": [],
      "source": [
        "df_final['context_lemmatized'] = df_final[\"context_tokenized\"].apply(lambda row: \" \".join([w.lemma_ for w in nlp(row)]))"
      ]
    },
    {
      "cell_type": "code",
      "execution_count": 417,
      "metadata": {
        "id": "tApa17e7gx94"
      },
      "outputs": [],
      "source": [
        "df_final['context_pos'] = df_final[\"context_tokenized\"].apply(lambda row: \" \".join([w.pos_ for w in nlp(row)]))"
      ]
    },
    {
      "cell_type": "code",
      "execution_count": 418,
      "metadata": {
        "id": "pmCWZ7yrhGGb"
      },
      "outputs": [],
      "source": [
        "final_df = df_final[['lemma', 'pos', 'date', 'grouping', 'identifier', 'description', 'context', 'indexes_target_token', 'indexes_target_sentence', 'context_tokenized', 'indexes_target_token_tokenized', 'indexes_target_sentence_tokenized', 'context_lemmatized', 'context_pos', 'index']]"
      ]
    },
    {
      "cell_type": "code",
      "source": [
        "final_df = final_df.sort_values(by = ['lemma','index'], ascending =[True, True]).drop(\"index\", axis=1)"
      ],
      "metadata": {
        "id": "bXa87c5FZhjG"
      },
      "execution_count": 427,
      "outputs": []
    },
    {
      "cell_type": "code",
      "execution_count": 428,
      "metadata": {
        "id": "3RaOiPZLoqC8"
      },
      "outputs": [],
      "source": [
        "final_df = final_df.reset_index(drop = True)"
      ]
    },
    {
      "cell_type": "code",
      "source": [
        "final_df = final_df.drop_duplicates().reset_index(drop = True)"
      ],
      "metadata": {
        "id": "6ors6NMRZLl7"
      },
      "execution_count": 439,
      "outputs": []
    },
    {
      "cell_type": "code",
      "execution_count": 440,
      "metadata": {
        "id": "4Th3DyJVJH5u"
      },
      "outputs": [],
      "source": [
        "for i in list(final_df[\"lemma\"].value_counts().index):\n",
        "  df_temp = final_df[final_df[\"lemma\"]==i]\n",
        "  numpy_df = df_temp.to_numpy()\n",
        "  header = list(df_temp.columns)\n",
        "  numpy_df = np.vstack([header, numpy_df])\n",
        "  if not os.path.exists('/content/raw-c'+\"/\"+i):\n",
        "      os.mkdir('/content/raw-c'+\"/\"+i)\n",
        "  np.savetxt('/content/raw-c'+\"/\"+i+\"/uses.csv\", numpy_df,fmt='%s', delimiter='\\t')\n"
      ]
    },
    {
      "cell_type": "code",
      "execution_count": null,
      "metadata": {
        "id": "NSu4hFGDIcrX"
      },
      "outputs": [],
      "source": [
        "#for i in list(final_df[\"lemma\"].value_counts().index):\n",
        "   # df_temp = final_df[final_df[\"lemma\"]==i]\n",
        "    #numpy_df = df_temp.to_numpy()\n",
        "    #header = list(df_temp.columns)\n",
        "    #numpy_df = np.vstack([header, numpy_df])\n",
        "    #if not os.path.exists(i):\n",
        "        #os.mkdir(i)\n",
        "    #np.savetxt(i+\"/uses.csv\", numpy_df,fmt='%s', delimiter='\\t')"
      ]
    },
    {
      "cell_type": "code",
      "source": [],
      "metadata": {
        "id": "u60wsBxqPdD-"
      },
      "execution_count": null,
      "outputs": []
    }
  ],
  "metadata": {
    "colab": {
      "provenance": []
    },
    "kernelspec": {
      "display_name": "Python 3",
      "name": "python3"
    },
    "language_info": {
      "name": "python"
    }
  },
  "nbformat": 4,
  "nbformat_minor": 0
}