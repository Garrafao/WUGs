{
  "nbformat": 4,
  "nbformat_minor": 0,
  "metadata": {
    "colab": {
      "provenance": []
    },
    "kernelspec": {
      "name": "python3",
      "display_name": "Python 3"
    },
    "language_info": {
      "name": "python"
    }
  },
  "cells": [
    {
      "cell_type": "code",
      "source": [
        "from bs4 import BeautifulSoup\n",
        "import requests\n",
        "import pandas as pd\n",
        "import io\n",
        "import numpy as np"
      ],
      "metadata": {
        "id": "DF_EmVh_2LPF"
      },
      "execution_count": 1,
      "outputs": []
    },
    {
      "cell_type": "code",
      "source": [
        "URL = 'https://github.com/akutuzov/rushifteval_public/tree/main/durel/rushifteval1/data'\n",
        "\n",
        "page = requests.get(URL)\n",
        "  \n",
        "soup = BeautifulSoup( page.content , 'html.parser')\n",
        "find_by_class = soup.find_all('a', class_=\"Link--primary\")"
      ],
      "metadata": {
        "id": "xpsldp-xtTHX"
      },
      "execution_count": 2,
      "outputs": []
    },
    {
      "cell_type": "code",
      "source": [
        "print(find_by_class,sep=\"\\n\")"
      ],
      "metadata": {
        "colab": {
          "base_uri": "https://localhost:8080/"
        },
        "id": "3XoudTPEuDtC",
        "outputId": "9c698033-af2c-446b-b4bd-655e224fce7a"
      },
      "execution_count": 3,
      "outputs": [
        {
          "output_type": "stream",
          "name": "stdout",
          "text": [
            "[<a class=\"Link--primary markdown-title\" data-pjax=\"true\" data-test-selector=\"commit-tease-commit-message\" href=\"/akutuzov/rushifteval_public/commit/9e1bda7c82939b920d5cab12cfda357c348ed7f6\" title=\"Durel format\">Durel format</a>, <a class=\"Link--primary text-bold\" data-pjax=\"#repo-content-pjax-container\" data-test-selector=\"commit-tease-commit-message\" data-turbo-frame=\"repo-content-turbo-frame\" href=\"/akutuzov/rushifteval_public/commit/9e1bda7c82939b920d5cab12cfda357c348ed7f6\">Durel format</a>, <a class=\"pl-3 pr-3 py-3 p-md-0 mt-n3 mb-n3 mr-n3 m-md-0 Link--primary no-underline no-wrap\" data-pjax=\"#repo-content-pjax-container\" data-turbo-frame=\"repo-content-turbo-frame\" href=\"/akutuzov/rushifteval_public/commits/main/durel/rushifteval1/data\">\n",
            "<svg aria-hidden=\"true\" class=\"octicon octicon-history\" data-view-component=\"true\" height=\"16\" text=\"gray\" version=\"1.1\" viewbox=\"0 0 16 16\" width=\"16\">\n",
            "<path d=\"M1.643 3.143L.427 1.927A.25.25 0 000 2.104V5.75c0 .138.112.25.25.25h3.646a.25.25 0 00.177-.427L2.715 4.215a6.5 6.5 0 11-1.18 4.458.75.75 0 10-1.493.154 8.001 8.001 0 101.6-5.684zM7.75 4a.75.75 0 01.75.75v2.992l2.028.812a.75.75 0 01-.557 1.392l-2.5-1A.75.75 0 017 8.25v-3.5A.75.75 0 017.75 4z\" fill-rule=\"evenodd\"></path>\n",
            "</svg>\n",
            "<span class=\"d-none d-sm-inline\">\n",
            "<strong>History</strong>\n",
            "</span>\n",
            "</a>, <a class=\"js-navigation-open Link--primary\" data-turbo-frame=\"repo-content-turbo-frame\" href=\"/akutuzov/rushifteval_public/tree/main/durel/rushifteval1/data/%D0%B0%D0%B2%D1%82%D0%BE%D1%80%D0%B8%D1%82%D0%B5%D1%82\" title=\"авторитет\">авторитет</a>, <a class=\"js-navigation-open Link--primary\" data-turbo-frame=\"repo-content-turbo-frame\" href=\"/akutuzov/rushifteval_public/tree/main/durel/rushifteval1/data/%D0%B0%D0%BC%D0%B1%D0%B8%D1%86%D0%B8%D1%8F\" title=\"амбиция\">амбиция</a>, <a class=\"js-navigation-open Link--primary\" data-turbo-frame=\"repo-content-turbo-frame\" href=\"/akutuzov/rushifteval_public/tree/main/durel/rushifteval1/data/%D0%B0%D0%BF%D0%BE%D1%81%D1%82%D0%BE%D0%BB\" title=\"апостол\">апостол</a>, <a class=\"js-navigation-open Link--primary\" data-turbo-frame=\"repo-content-turbo-frame\" href=\"/akutuzov/rushifteval_public/tree/main/durel/rushifteval1/data/%D0%B1%D0%BB%D0%B0%D0%B3%D0%BE%D0%B4%D0%B0%D1%80%D0%BD%D0%BE%D1%81%D1%82%D1%8C\" title=\"благодарность\">благодарность</a>, <a class=\"js-navigation-open Link--primary\" data-turbo-frame=\"repo-content-turbo-frame\" href=\"/akutuzov/rushifteval_public/tree/main/durel/rushifteval1/data/%D0%B1%D0%BB%D0%B8%D0%BD\" title=\"блин\">блин</a>, <a class=\"js-navigation-open Link--primary\" data-turbo-frame=\"repo-content-turbo-frame\" href=\"/akutuzov/rushifteval_public/tree/main/durel/rushifteval1/data/%D0%B1%D0%BB%D0%BE%D0%BD%D0%B4%D0%B8%D0%BD\" title=\"блондин\">блондин</a>, <a class=\"js-navigation-open Link--primary\" data-turbo-frame=\"repo-content-turbo-frame\" href=\"/akutuzov/rushifteval_public/tree/main/durel/rushifteval1/data/%D0%B1%D1%80%D0%B0%D1%82\" title=\"брат\">брат</a>, <a class=\"js-navigation-open Link--primary\" data-turbo-frame=\"repo-content-turbo-frame\" href=\"/akutuzov/rushifteval_public/tree/main/durel/rushifteval1/data/%D0%B1%D1%80%D0%B8%D0%B3%D0%B0%D0%B4%D0%B0\" title=\"бригада\">бригада</a>, <a class=\"js-navigation-open Link--primary\" data-turbo-frame=\"repo-content-turbo-frame\" href=\"/akutuzov/rushifteval_public/tree/main/durel/rushifteval1/data/%D0%B2%D0%B5%D0%B5%D1%80\" title=\"веер\">веер</a>, <a class=\"js-navigation-open Link--primary\" data-turbo-frame=\"repo-content-turbo-frame\" href=\"/akutuzov/rushifteval_public/tree/main/durel/rushifteval1/data/%D0%B2%D0%B5%D0%BA\" title=\"век\">век</a>, <a class=\"js-navigation-open Link--primary\" data-turbo-frame=\"repo-content-turbo-frame\" href=\"/akutuzov/rushifteval_public/tree/main/durel/rushifteval1/data/%D0%B2%D0%B5%D1%80%D1%85%D0%BE%D0%B2%D1%8C%D0%B5\" title=\"верховье\">верховье</a>, <a class=\"js-navigation-open Link--primary\" data-turbo-frame=\"repo-content-turbo-frame\" href=\"/akutuzov/rushifteval_public/tree/main/durel/rushifteval1/data/%D0%B2%D0%BE%D0%B7%D1%80%D0%B0%D1%81%D1%82\" title=\"возраст\">возраст</a>, <a class=\"js-navigation-open Link--primary\" data-turbo-frame=\"repo-content-turbo-frame\" href=\"/akutuzov/rushifteval_public/tree/main/durel/rushifteval1/data/%D0%B2%D1%8B%D0%B7%D0%BE%D0%B2\" title=\"вызов\">вызов</a>, <a class=\"js-navigation-open Link--primary\" data-turbo-frame=\"repo-content-turbo-frame\" href=\"/akutuzov/rushifteval_public/tree/main/durel/rushifteval1/data/%D0%B3%D0%BE%D0%BB%D0%BE%D0%B2%D0%BA%D0%B0\" title=\"головка\">головка</a>, <a class=\"js-navigation-open Link--primary\" data-turbo-frame=\"repo-content-turbo-frame\" href=\"/akutuzov/rushifteval_public/tree/main/durel/rushifteval1/data/%D0%B3%D1%80%D0%B5%D1%85\" title=\"грех\">грех</a>, <a class=\"js-navigation-open Link--primary\" data-turbo-frame=\"repo-content-turbo-frame\" href=\"/akutuzov/rushifteval_public/tree/main/durel/rushifteval1/data/%D0%B4%D1%83%D1%85\" title=\"дух\">дух</a>, <a class=\"js-navigation-open Link--primary\" data-turbo-frame=\"repo-content-turbo-frame\" href=\"/akutuzov/rushifteval_public/tree/main/durel/rushifteval1/data/%D0%B4%D1%8F%D0%B4%D1%8C%D0%BA%D0%B0\" title=\"дядька\">дядька</a>, <a class=\"js-navigation-open Link--primary\" data-turbo-frame=\"repo-content-turbo-frame\" href=\"/akutuzov/rushifteval_public/tree/main/durel/rushifteval1/data/%D0%B4%D1%8F%D0%B4%D1%8F\" title=\"дядя\">дядя</a>, <a class=\"js-navigation-open Link--primary\" data-turbo-frame=\"repo-content-turbo-frame\" href=\"/akutuzov/rushifteval_public/tree/main/durel/rushifteval1/data/%D0%B6%D0%B5%D0%BB%D0%B5%D0%B7%D0%BE\" title=\"железо\">железо</a>, <a class=\"js-navigation-open Link--primary\" data-turbo-frame=\"repo-content-turbo-frame\" href=\"/akutuzov/rushifteval_public/tree/main/durel/rushifteval1/data/%D0%B6%D0%B5%D1%81%D1%82%D1%8C\" title=\"жесть\">жесть</a>, <a class=\"js-navigation-open Link--primary\" data-turbo-frame=\"repo-content-turbo-frame\" href=\"/akutuzov/rushifteval_public/tree/main/durel/rushifteval1/data/%D0%B6%D0%B8%D0%B2%D0%BE%D1%82\" title=\"живот\">живот</a>, <a class=\"js-navigation-open Link--primary\" data-turbo-frame=\"repo-content-turbo-frame\" href=\"/akutuzov/rushifteval_public/tree/main/durel/rushifteval1/data/%D0%B7%D0%B0%D0%B1%D0%BB%D1%83%D0%B6%D0%B4%D0%B5%D0%BD%D0%B8%D0%B5\" title=\"заблуждение\">заблуждение</a>, <a class=\"js-navigation-open Link--primary\" data-turbo-frame=\"repo-content-turbo-frame\" href=\"/akutuzov/rushifteval_public/tree/main/durel/rushifteval1/data/%D0%B7%D0%B0%D0%B2%D0%BE%D0%B4\" title=\"завод\">завод</a>, <a class=\"js-navigation-open Link--primary\" data-turbo-frame=\"repo-content-turbo-frame\" href=\"/akutuzov/rushifteval_public/tree/main/durel/rushifteval1/data/%D0%B7%D0%B0%D0%BA%D0%BB%D0%B0%D0%B4%D0%BA%D0%B0\" title=\"закладка\">закладка</a>, <a class=\"js-navigation-open Link--primary\" data-turbo-frame=\"repo-content-turbo-frame\" href=\"/akutuzov/rushifteval_public/tree/main/durel/rushifteval1/data/%D0%B7%D0%B5%D0%BC%D0%BB%D1%8F\" title=\"земля\">земля</a>, <a class=\"js-navigation-open Link--primary\" data-turbo-frame=\"repo-content-turbo-frame\" href=\"/akutuzov/rushifteval_public/tree/main/durel/rushifteval1/data/%D0%B8%D0%B7%D0%B4%D0%B0%D1%82%D0%B5%D0%BB%D1%8C%D1%81%D1%82%D0%B2%D0%BE\" title=\"издательство\">издательство</a>, <a class=\"js-navigation-open Link--primary\" data-turbo-frame=\"repo-content-turbo-frame\" href=\"/akutuzov/rushifteval_public/tree/main/durel/rushifteval1/data/%D0%B8%D1%82%D0%B0%D0%BB%D1%8C%D1%8F%D0%BD%D0%B5%D1%86\" title=\"итальянец\">итальянец</a>, <a class=\"js-navigation-open Link--primary\" data-turbo-frame=\"repo-content-turbo-frame\" href=\"/akutuzov/rushifteval_public/tree/main/durel/rushifteval1/data/%D0%BA%D0%B0%D0%B1%D0%B0%D0%BD\" title=\"кабан\">кабан</a>, <a class=\"js-navigation-open Link--primary\" data-turbo-frame=\"repo-content-turbo-frame\" href=\"/akutuzov/rushifteval_public/tree/main/durel/rushifteval1/data/%D0%BA%D0%B0%D1%80%D0%BC%D0%B0%D0%BD\" title=\"карман\">карман</a>, <a class=\"js-navigation-open Link--primary\" data-turbo-frame=\"repo-content-turbo-frame\" href=\"/akutuzov/rushifteval_public/tree/main/durel/rushifteval1/data/%D0%BA%D1%80%D1%83%D1%88%D0%B5%D0%BD%D0%B8%D0%B5\" title=\"крушение\">крушение</a>, <a class=\"js-navigation-open Link--primary\" data-turbo-frame=\"repo-content-turbo-frame\" href=\"/akutuzov/rushifteval_public/tree/main/durel/rushifteval1/data/%D0%BA%D1%80%D1%8B%D1%88%D0%B0\" title=\"крыша\">крыша</a>, <a class=\"js-navigation-open Link--primary\" data-turbo-frame=\"repo-content-turbo-frame\" href=\"/akutuzov/rushifteval_public/tree/main/durel/rushifteval1/data/%D0%BA%D1%83%D0%BB%D0%B8%D1%81%D0%B0\" title=\"кулиса\">кулиса</a>, <a class=\"js-navigation-open Link--primary\" data-turbo-frame=\"repo-content-turbo-frame\" href=\"/akutuzov/rushifteval_public/tree/main/durel/rushifteval1/data/%D0%BB%D0%B5%D1%87%D0%B5%D0%BD%D0%B8%D0%B5\" title=\"лечение\">лечение</a>, <a class=\"js-navigation-open Link--primary\" data-turbo-frame=\"repo-content-turbo-frame\" href=\"/akutuzov/rushifteval_public/tree/main/durel/rushifteval1/data/%D0%BB%D0%B8%D0%BD%D0%B5%D0%B9%D0%BA%D0%B0\" title=\"линейка\">линейка</a>, <a class=\"js-navigation-open Link--primary\" data-turbo-frame=\"repo-content-turbo-frame\" href=\"/akutuzov/rushifteval_public/tree/main/durel/rushifteval1/data/%D0%BB%D0%B8%D1%88%D0%B5%D0%BD%D0%B8%D0%B5\" title=\"лишение\">лишение</a>, <a class=\"js-navigation-open Link--primary\" data-turbo-frame=\"repo-content-turbo-frame\" href=\"/akutuzov/rushifteval_public/tree/main/durel/rushifteval1/data/%D0%BB%D0%BE%D0%BA%D0%BE%D1%82%D1%8C\" title=\"локоть\">локоть</a>, <a class=\"js-navigation-open Link--primary\" data-turbo-frame=\"repo-content-turbo-frame\" href=\"/akutuzov/rushifteval_public/tree/main/durel/rushifteval1/data/%D0%BB%D0%BE%D1%85\" title=\"лох\">лох</a>, <a class=\"js-navigation-open Link--primary\" data-turbo-frame=\"repo-content-turbo-frame\" href=\"/akutuzov/rushifteval_public/tree/main/durel/rushifteval1/data/%D0%BB%D1%8E%D0%B1%D0%BE%D0%B2%D0%BD%D0%B8%D0%BA\" title=\"любовник\">любовник</a>, <a class=\"js-navigation-open Link--primary\" data-turbo-frame=\"repo-content-turbo-frame\" href=\"/akutuzov/rushifteval_public/tree/main/durel/rushifteval1/data/%D0%BB%D1%8E%D0%B1%D0%BE%D0%B2%D1%8C\" title=\"любовь\">любовь</a>, <a class=\"js-navigation-open Link--primary\" data-turbo-frame=\"repo-content-turbo-frame\" href=\"/akutuzov/rushifteval_public/tree/main/durel/rushifteval1/data/%D0%BC%D0%B0%D0%BD%D1%8C%D1%8F%D0%BA\" title=\"маньяк\">маньяк</a>, <a class=\"js-navigation-open Link--primary\" data-turbo-frame=\"repo-content-turbo-frame\" href=\"/akutuzov/rushifteval_public/tree/main/durel/rushifteval1/data/%D0%BC%D0%BE%D0%BD%D1%81%D1%82%D1%80\" title=\"монстр\">монстр</a>, <a class=\"js-navigation-open Link--primary\" data-turbo-frame=\"repo-content-turbo-frame\" href=\"/akutuzov/rushifteval_public/tree/main/durel/rushifteval1/data/%D0%BD%D0%B0%D0%B2%D0%BE%D0%BB%D0%BE%D1%87%D0%BA%D0%B0\" title=\"наволочка\">наволочка</a>, <a class=\"js-navigation-open Link--primary\" data-turbo-frame=\"repo-content-turbo-frame\" href=\"/akutuzov/rushifteval_public/tree/main/durel/rushifteval1/data/%D0%BD%D0%B0%D0%B7%D0%B2%D0%B0%D0%BD%D0%B8%D0%B5\" title=\"название\">название</a>, <a class=\"js-navigation-open Link--primary\" data-turbo-frame=\"repo-content-turbo-frame\" href=\"/akutuzov/rushifteval_public/tree/main/durel/rushifteval1/data/%D0%BD%D0%B0%D0%BB%D0%BE%D0%B6%D0%B5%D0%BD%D0%B8%D0%B5\" title=\"наложение\">наложение</a>, <a class=\"js-navigation-open Link--primary\" data-turbo-frame=\"repo-content-turbo-frame\" href=\"/akutuzov/rushifteval_public/tree/main/durel/rushifteval1/data/%D0%BE%D0%B1%D0%BB%D0%B0%D0%BA%D0%BE\" title=\"облако\">облако</a>, <a class=\"js-navigation-open Link--primary\" data-turbo-frame=\"repo-content-turbo-frame\" href=\"/akutuzov/rushifteval_public/tree/main/durel/rushifteval1/data/%D0%BE%D0%B1%D0%BE%D1%81%D0%BD%D0%BE%D0%B2%D0%B0%D0%BD%D0%B8%D0%B5\" title=\"обоснование\">обоснование</a>, <a class=\"js-navigation-open Link--primary\" data-turbo-frame=\"repo-content-turbo-frame\" href=\"/akutuzov/rushifteval_public/tree/main/durel/rushifteval1/data/%D0%BE%D0%B3%D0%BE%D0%BD%D1%8C\" title=\"огонь\">огонь</a>, <a class=\"js-navigation-open Link--primary\" data-turbo-frame=\"repo-content-turbo-frame\" href=\"/akutuzov/rushifteval_public/tree/main/durel/rushifteval1/data/%D0%BF%D0%B0%D0%BC%D1%8F%D1%82%D0%BD%D0%B8%D0%BA\" title=\"памятник\">памятник</a>, <a class=\"js-navigation-open Link--primary\" data-turbo-frame=\"repo-content-turbo-frame\" href=\"/akutuzov/rushifteval_public/tree/main/durel/rushifteval1/data/%D0%BF%D0%B0%D1%84%D0%BE%D1%81\" title=\"пафос\">пафос</a>, <a class=\"js-navigation-open Link--primary\" data-turbo-frame=\"repo-content-turbo-frame\" href=\"/akutuzov/rushifteval_public/tree/main/durel/rushifteval1/data/%D0%BF%D0%B8%D1%81%D0%BA\" title=\"писк\">писк</a>, <a class=\"js-navigation-open Link--primary\" data-turbo-frame=\"repo-content-turbo-frame\" href=\"/akutuzov/rushifteval_public/tree/main/durel/rushifteval1/data/%D0%BF%D0%BB%D0%B0%D0%BD\" title=\"план\">план</a>, <a class=\"js-navigation-open Link--primary\" data-turbo-frame=\"repo-content-turbo-frame\" href=\"/akutuzov/rushifteval_public/tree/main/durel/rushifteval1/data/%D0%BF%D0%BE%D0%BA%D0%BE%D0%BB%D0%B5%D0%BD%D0%B8%D0%B5\" title=\"поколение\">поколение</a>, <a class=\"js-navigation-open Link--primary\" data-turbo-frame=\"repo-content-turbo-frame\" href=\"/akutuzov/rushifteval_public/tree/main/durel/rushifteval1/data/%D0%BF%D0%BE%D0%BB%D0%BE%D0%B2%D0%B8%D0%BD%D0%BA%D0%B0\" title=\"половинка\">половинка</a>, <a class=\"js-navigation-open Link--primary\" data-turbo-frame=\"repo-content-turbo-frame\" href=\"/akutuzov/rushifteval_public/tree/main/durel/rushifteval1/data/%D0%BF%D0%BE%D0%BB%D0%BE%D1%81%D0%B0\" title=\"полоса\">полоса</a>, <a class=\"js-navigation-open Link--primary\" data-turbo-frame=\"repo-content-turbo-frame\" href=\"/akutuzov/rushifteval_public/tree/main/durel/rushifteval1/data/%D0%BF%D0%BE%D0%BB%D0%BE%D1%81%D1%82%D1%8C\" title=\"полость\">полость</a>, <a class=\"js-navigation-open Link--primary\" data-turbo-frame=\"repo-content-turbo-frame\" href=\"/akutuzov/rushifteval_public/tree/main/durel/rushifteval1/data/%D0%BF%D0%BE%D0%BB%D1%83%D0%BA%D1%80%D1%83%D0%B3\" title=\"полукруг\">полукруг</a>, <a class=\"js-navigation-open Link--primary\" data-turbo-frame=\"repo-content-turbo-frame\" href=\"/akutuzov/rushifteval_public/tree/main/durel/rushifteval1/data/%D0%BF%D0%BE%D0%BC%D0%BE%D1%89%D0%BD%D0%B8%D0%BA\" title=\"помощник\">помощник</a>, <a class=\"js-navigation-open Link--primary\" data-turbo-frame=\"repo-content-turbo-frame\" href=\"/akutuzov/rushifteval_public/tree/main/durel/rushifteval1/data/%D0%BF%D0%BE%D0%BD%D0%B5%D0%B4%D0%B5%D0%BB%D1%8C%D0%BD%D0%B8%D0%BA\" title=\"понедельник\">понедельник</a>, <a class=\"js-navigation-open Link--primary\" data-turbo-frame=\"repo-content-turbo-frame\" href=\"/akutuzov/rushifteval_public/tree/main/durel/rushifteval1/data/%D0%BF%D0%BE%D1%81%D1%82%D0%B0%D0%B2%D1%89%D0%B8%D0%BA\" title=\"поставщик\">поставщик</a>, <a class=\"js-navigation-open Link--primary\" data-turbo-frame=\"repo-content-turbo-frame\" href=\"/akutuzov/rushifteval_public/tree/main/durel/rushifteval1/data/%D0%BF%D0%BE%D1%8D%D0%B7%D0%B8%D1%8F\" title=\"поэзия\">поэзия</a>, <a class=\"js-navigation-open Link--primary\" data-turbo-frame=\"repo-content-turbo-frame\" href=\"/akutuzov/rushifteval_public/tree/main/durel/rushifteval1/data/%D0%BF%D1%80%D0%B0%D0%B2%D0%B4%D0%B0\" title=\"правда\">правда</a>, <a class=\"js-navigation-open Link--primary\" data-turbo-frame=\"repo-content-turbo-frame\" href=\"/akutuzov/rushifteval_public/tree/main/durel/rushifteval1/data/%D0%BF%D1%80%D0%B5%D0%B4%D0%B0%D1%82%D0%B5%D0%BB%D1%8C%D1%81%D1%82%D0%B2%D0%BE\" title=\"предательство\">предательство</a>, <a class=\"js-navigation-open Link--primary\" data-turbo-frame=\"repo-content-turbo-frame\" href=\"/akutuzov/rushifteval_public/tree/main/durel/rushifteval1/data/%D0%BF%D1%80%D0%B5%D1%86%D0%B5%D0%B4%D0%B5%D0%BD%D1%82\" title=\"прецедент\">прецедент</a>, <a class=\"js-navigation-open Link--primary\" data-turbo-frame=\"repo-content-turbo-frame\" href=\"/akutuzov/rushifteval_public/tree/main/durel/rushifteval1/data/%D0%BF%D1%80%D0%BE%D0%BB%D0%B5%D1%82%D0%B0%D1%80%D0%B8%D0%B9\" title=\"пролетарий\">пролетарий</a>, <a class=\"js-navigation-open Link--primary\" data-turbo-frame=\"repo-content-turbo-frame\" href=\"/akutuzov/rushifteval_public/tree/main/durel/rushifteval1/data/%D0%BF%D1%80%D0%BE%D0%BC%D1%8B%D1%88%D0%BB%D0%B5%D0%BD%D0%BD%D0%BE%D1%81%D1%82%D1%8C\" title=\"промышленность\">промышленность</a>, <a class=\"js-navigation-open Link--primary\" data-turbo-frame=\"repo-content-turbo-frame\" href=\"/akutuzov/rushifteval_public/tree/main/durel/rushifteval1/data/%D0%BF%D1%80%D0%BE%D0%BD%D0%B8%D0%BA%D0%BD%D0%BE%D0%B2%D0%B5%D0%BD%D0%B8%D0%B5\" title=\"проникновение\">проникновение</a>, <a class=\"js-navigation-open Link--primary\" data-turbo-frame=\"repo-content-turbo-frame\" href=\"/akutuzov/rushifteval_public/tree/main/durel/rushifteval1/data/%D0%BF%D1%80%D0%BE%D1%80%D1%8B%D0%B2\" title=\"прорыв\">прорыв</a>, <a class=\"js-navigation-open Link--primary\" data-turbo-frame=\"repo-content-turbo-frame\" href=\"/akutuzov/rushifteval_public/tree/main/durel/rushifteval1/data/%D0%BF%D1%83%D1%82%D1%8C\" title=\"путь\">путь</a>, <a class=\"js-navigation-open Link--primary\" data-turbo-frame=\"repo-content-turbo-frame\" href=\"/akutuzov/rushifteval_public/tree/main/durel/rushifteval1/data/%D1%80%D0%B0%D0%B4%D0%B8%D0%BA%D0%B0%D0%BB\" title=\"радикал\">радикал</a>, <a class=\"js-navigation-open Link--primary\" data-turbo-frame=\"repo-content-turbo-frame\" href=\"/akutuzov/rushifteval_public/tree/main/durel/rushifteval1/data/%D1%80%D0%B0%D0%B7%D0%BC%D1%8B%D1%88%D0%BB%D0%B5%D0%BD%D0%B8%D0%B5\" title=\"размышление\">размышление</a>, <a class=\"js-navigation-open Link--primary\" data-turbo-frame=\"repo-content-turbo-frame\" href=\"/akutuzov/rushifteval_public/tree/main/durel/rushifteval1/data/%D1%80%D0%B0%D0%BD%D0%B5%D1%86\" title=\"ранец\">ранец</a>, <a class=\"js-navigation-open Link--primary\" data-turbo-frame=\"repo-content-turbo-frame\" href=\"/akutuzov/rushifteval_public/tree/main/durel/rushifteval1/data/%D1%80%D0%B0%D1%81%D1%87%D0%B5%D1%82\" title=\"расчет\">расчет</a>, <a class=\"js-navigation-open Link--primary\" data-turbo-frame=\"repo-content-turbo-frame\" href=\"/akutuzov/rushifteval_public/tree/main/durel/rushifteval1/data/%D1%80%D0%B8%D1%82%D0%BE%D1%80%D0%B8%D0%BA%D0%B0\" title=\"риторика\">риторика</a>, <a class=\"js-navigation-open Link--primary\" data-turbo-frame=\"repo-content-turbo-frame\" href=\"/akutuzov/rushifteval_public/tree/main/durel/rushifteval1/data/%D1%80%D0%BE%D1%81%D0%BF%D0%B8%D1%81%D1%8C\" title=\"роспись\">роспись</a>, <a class=\"js-navigation-open Link--primary\" data-turbo-frame=\"repo-content-turbo-frame\" href=\"/akutuzov/rushifteval_public/tree/main/durel/rushifteval1/data/%D1%81%D0%B2%D0%B5%D1%80%D1%81%D1%82%D0%BD%D0%B8%D0%BA\" title=\"сверстник\">сверстник</a>, <a class=\"js-navigation-open Link--primary\" data-turbo-frame=\"repo-content-turbo-frame\" href=\"/akutuzov/rushifteval_public/tree/main/durel/rushifteval1/data/%D1%81%D0%B2%D1%8F%D0%B7%D0%BA%D0%B0\" title=\"связка\">связка</a>, <a class=\"js-navigation-open Link--primary\" data-turbo-frame=\"repo-content-turbo-frame\" href=\"/akutuzov/rushifteval_public/tree/main/durel/rushifteval1/data/%D1%81%D0%BE%D0%B1%D1%80%D0%B0%D1%82\" title=\"собрат\">собрат</a>, <a class=\"js-navigation-open Link--primary\" data-turbo-frame=\"repo-content-turbo-frame\" href=\"/akutuzov/rushifteval_public/tree/main/durel/rushifteval1/data/%D1%81%D0%BE%D0%B2%D0%B5%D1%80%D1%88%D0%B5%D0%BD%D1%81%D1%82%D0%B2%D0%BE\" title=\"совершенство\">совершенство</a>, <a class=\"js-navigation-open Link--primary\" data-turbo-frame=\"repo-content-turbo-frame\" href=\"/akutuzov/rushifteval_public/tree/main/durel/rushifteval1/data/%D1%81%D0%BE%D0%B2%D0%B5%D1%82%D1%87%D0%B8%D0%BA\" title=\"советчик\">советчик</a>, <a class=\"js-navigation-open Link--primary\" data-turbo-frame=\"repo-content-turbo-frame\" href=\"/akutuzov/rushifteval_public/tree/main/durel/rushifteval1/data/%D1%81%D0%BE%D1%8E%D0%B7%D0%BD%D0%B8%D0%BA\" title=\"союзник\">союзник</a>, <a class=\"js-navigation-open Link--primary\" data-turbo-frame=\"repo-content-turbo-frame\" href=\"/akutuzov/rushifteval_public/tree/main/durel/rushifteval1/data/%D1%81%D0%BF%D0%B8%D1%81%D0%BE%D0%BA\" title=\"список\">список</a>, <a class=\"js-navigation-open Link--primary\" data-turbo-frame=\"repo-content-turbo-frame\" href=\"/akutuzov/rushifteval_public/tree/main/durel/rushifteval1/data/%D1%81%D0%BF%D1%83%D1%82%D0%BD%D0%B8%D0%BA\" title=\"спутник\">спутник</a>, <a class=\"js-navigation-open Link--primary\" data-turbo-frame=\"repo-content-turbo-frame\" href=\"/akutuzov/rushifteval_public/tree/main/durel/rushifteval1/data/%D1%81%D1%81%D1%8B%D0%BB%D0%BA%D0%B0\" title=\"ссылка\">ссылка</a>, <a class=\"js-navigation-open Link--primary\" data-turbo-frame=\"repo-content-turbo-frame\" href=\"/akutuzov/rushifteval_public/tree/main/durel/rushifteval1/data/%D1%81%D1%82%D0%B5%D0%BD%D0%B0\" title=\"стена\">стена</a>, <a class=\"js-navigation-open Link--primary\" data-turbo-frame=\"repo-content-turbo-frame\" href=\"/akutuzov/rushifteval_public/tree/main/durel/rushifteval1/data/%D1%81%D1%82%D0%B8%D0%BF%D0%B5%D0%BD%D0%B4%D0%B8%D1%8F\" title=\"стипендия\">стипендия</a>, <a class=\"js-navigation-open Link--primary\" data-turbo-frame=\"repo-content-turbo-frame\" href=\"/akutuzov/rushifteval_public/tree/main/durel/rushifteval1/data/%D1%81%D1%82%D0%BE%D0%BB\" title=\"стол\">стол</a>, <a class=\"js-navigation-open Link--primary\" data-turbo-frame=\"repo-content-turbo-frame\" href=\"/akutuzov/rushifteval_public/tree/main/durel/rushifteval1/data/%D1%82%D0%B0%D1%87%D0%BA%D0%B0\" title=\"тачка\">тачка</a>, <a class=\"js-navigation-open Link--primary\" data-turbo-frame=\"repo-content-turbo-frame\" href=\"/akutuzov/rushifteval_public/tree/main/durel/rushifteval1/data/%D1%82%D1%83%D0%BF%D0%B8%D0%BA\" title=\"тупик\">тупик</a>, <a class=\"js-navigation-open Link--primary\" data-turbo-frame=\"repo-content-turbo-frame\" href=\"/akutuzov/rushifteval_public/tree/main/durel/rushifteval1/data/%D1%83%D0%B2%D0%BE%D0%BB%D1%8C%D0%BD%D0%B5%D0%BD%D0%B8%D0%B5\" title=\"увольнение\">увольнение</a>, <a class=\"js-navigation-open Link--primary\" data-turbo-frame=\"repo-content-turbo-frame\" href=\"/akutuzov/rushifteval_public/tree/main/durel/rushifteval1/data/%D1%83%D0%B3%D0%BB%D0%B5%D0%B2%D0%BE%D0%B4%D0%BE%D1%80%D0%BE%D0%B4\" title=\"углеводород\">углеводород</a>, <a class=\"js-navigation-open Link--primary\" data-turbo-frame=\"repo-content-turbo-frame\" href=\"/akutuzov/rushifteval_public/tree/main/durel/rushifteval1/data/%D1%83%D0%B4%D0%BE%D0%B1%D1%81%D1%82%D0%B2%D0%BE\" title=\"удобство\">удобство</a>, <a class=\"js-navigation-open Link--primary\" data-turbo-frame=\"repo-content-turbo-frame\" href=\"/akutuzov/rushifteval_public/tree/main/durel/rushifteval1/data/%D1%83%D0%BA%D0%BB%D0%B0%D0%B4\" title=\"уклад\">уклад</a>, <a class=\"js-navigation-open Link--primary\" data-turbo-frame=\"repo-content-turbo-frame\" href=\"/akutuzov/rushifteval_public/tree/main/durel/rushifteval1/data/%D1%83%D0%BD%D0%B8%D0%B2%D0%B5%D1%80%D1%81%D0%B8%D1%82%D0%B5%D1%82\" title=\"университет\">университет</a>, <a class=\"js-navigation-open Link--primary\" data-turbo-frame=\"repo-content-turbo-frame\" href=\"/akutuzov/rushifteval_public/tree/main/durel/rushifteval1/data/%D1%83%D1%81%D1%82%D0%B0%D0%BD%D0%BE%D0%B2%D0%BB%D0%B5%D0%BD%D0%B8%D0%B5\" title=\"установление\">установление</a>, <a class=\"js-navigation-open Link--primary\" data-turbo-frame=\"repo-content-turbo-frame\" href=\"/akutuzov/rushifteval_public/tree/main/durel/rushifteval1/data/%D1%84%D0%B0%D0%B2%D0%BE%D1%80%D0%B8%D1%82\" title=\"фаворит\">фаворит</a>, <a class=\"js-navigation-open Link--primary\" data-turbo-frame=\"repo-content-turbo-frame\" href=\"/akutuzov/rushifteval_public/tree/main/durel/rushifteval1/data/%D1%84%D0%BE%D1%80%D0%BC%D0%B0%D1%82\" title=\"формат\">формат</a>, <a class=\"js-navigation-open Link--primary\" data-turbo-frame=\"repo-content-turbo-frame\" href=\"/akutuzov/rushifteval_public/tree/main/durel/rushifteval1/data/%D1%84%D0%BE%D1%80%D0%BC%D1%83%D0%BB%D0%B0\" title=\"формула\">формула</a>, <a class=\"js-navigation-open Link--primary\" data-turbo-frame=\"repo-content-turbo-frame\" href=\"/akutuzov/rushifteval_public/tree/main/durel/rushifteval1/data/%D1%85%D0%BE%D0%B7%D1%8F%D0%B9%D0%BA%D0%B0\" title=\"хозяйка\">хозяйка</a>, <a class=\"js-navigation-open Link--primary\" data-turbo-frame=\"repo-content-turbo-frame\" href=\"/akutuzov/rushifteval_public/tree/main/durel/rushifteval1/data/%D1%85%D0%BE%D1%80\" title=\"хор\">хор</a>, <a class=\"js-navigation-open Link--primary\" data-turbo-frame=\"repo-content-turbo-frame\" href=\"/akutuzov/rushifteval_public/tree/main/durel/rushifteval1/data/%D1%85%D1%80%D0%B5%D0%BD\" title=\"хрен\">хрен</a>, <a class=\"js-navigation-open Link--primary\" data-turbo-frame=\"repo-content-turbo-frame\" href=\"/akutuzov/rushifteval_public/tree/main/durel/rushifteval1/data/%D1%86%D0%B5%D0%BD%D0%B7%D1%83%D1%80%D0%B0\" title=\"цензура\">цензура</a>, <a class=\"js-navigation-open Link--primary\" data-turbo-frame=\"repo-content-turbo-frame\" href=\"/akutuzov/rushifteval_public/tree/main/durel/rushifteval1/data/%D1%86%D0%B5%D0%BD%D1%82%D1%80\" title=\"центр\">центр</a>, <a class=\"js-navigation-open Link--primary\" data-turbo-frame=\"repo-content-turbo-frame\" href=\"/akutuzov/rushifteval_public/tree/main/durel/rushifteval1/data/%D1%86%D0%B8%D1%84%D1%80%D0%B0\" title=\"цифра\">цифра</a>, <a class=\"js-navigation-open Link--primary\" data-turbo-frame=\"repo-content-turbo-frame\" href=\"/akutuzov/rushifteval_public/tree/main/durel/rushifteval1/data/%D1%87%D0%B0%D1%81%D1%82%D0%B8%D1%86%D0%B0\" title=\"частица\">частица</a>, <a class=\"js-navigation-open Link--primary\" data-turbo-frame=\"repo-content-turbo-frame\" href=\"/akutuzov/rushifteval_public/tree/main/durel/rushifteval1/data/%D1%87%D0%B5%D0%BA\" title=\"чек\">чек</a>, <a class=\"js-navigation-open Link--primary\" data-turbo-frame=\"repo-content-turbo-frame\" href=\"/akutuzov/rushifteval_public/tree/main/durel/rushifteval1/data/%D1%87%D0%B5%D1%82%D0%B2%D0%B5%D1%80%D1%82%D1%8C\" title=\"четверть\">четверть</a>, <a class=\"js-navigation-open Link--primary\" data-turbo-frame=\"repo-content-turbo-frame\" href=\"/akutuzov/rushifteval_public/tree/main/durel/rushifteval1/data/%D1%88%D1%82%D0%B0%D0%B1\" title=\"штаб\">штаб</a>, <a class=\"js-navigation-open Link--primary\" data-turbo-frame=\"repo-content-turbo-frame\" href=\"/akutuzov/rushifteval_public/tree/main/durel/rushifteval1/data/%D1%8D%D1%88%D0%B5%D0%BB%D0%BE%D0%BD\" title=\"эшелон\">эшелон</a>, <a class=\"js-navigation-open Link--primary\" data-turbo-frame=\"repo-content-turbo-frame\" href=\"/akutuzov/rushifteval_public/tree/main/durel/rushifteval1/data/%D1%8E%D0%B1%D0%B8%D0%BB%D0%B5%D0%B9\" title=\"юбилей\">юбилей</a>, <a class=\"js-navigation-open Link--primary\" data-turbo-frame=\"repo-content-turbo-frame\" href=\"/akutuzov/rushifteval_public/tree/main/durel/rushifteval1/data/%D1%8F%D0%B4%D1%80%D0%BE\" title=\"ядро\">ядро</a>, <a class=\"js-navigation-open Link--primary\" data-turbo-frame=\"repo-content-turbo-frame\" href=\"/akutuzov/rushifteval_public/tree/main/durel/rushifteval1/data/%D1%8F%D1%81%D0%BB%D0%B8\" title=\"ясли\">ясли</a>]\n"
          ]
        }
      ]
    },
    {
      "cell_type": "code",
      "source": [
        "judgements = []\n",
        "uses = []\n",
        "for i in find_by_class[3:]:\n",
        "    judgements.append(\"https://raw.githubusercontent.com/\"+i['href']+\"/judgments.csv\")\n",
        "    uses.append(\"https://raw.githubusercontent.com/\"+i['href']+\"/uses.csv\")"
      ],
      "metadata": {
        "id": "uTjddnWNuE1o"
      },
      "execution_count": 4,
      "outputs": []
    },
    {
      "cell_type": "code",
      "source": [
        "judgements_df = pd.DataFrame()\n",
        "for i in judgements:\n",
        "    judgements_df = pd.concat([judgements_df, pd.read_csv(io.StringIO(requests.get(i.replace(\"/tree\",\"\")).content.decode('utf-8')), delimiter='\\t')])"
      ],
      "metadata": {
        "id": "Qf3m3QQ6xJ-M"
      },
      "execution_count": 10,
      "outputs": []
    },
    {
      "cell_type": "code",
      "source": [
        "uses_df = pd.DataFrame()\n",
        "for i in uses:\n",
        "    uses_df = pd.concat([uses_df, pd.read_csv(io.StringIO(requests.get(i.replace(\"/tree\",\"\")).content.decode('utf-8')), delimiter='\\t')])"
      ],
      "metadata": {
        "id": "rhhOvgn30FtZ"
      },
      "execution_count": 11,
      "outputs": []
    },
    {
      "cell_type": "code",
      "source": [
        "judgements_df.to_csv(\"judgements.csv\", index=False)\n",
        "uses_df.to_csv(\"uses.csv\", index=False)"
      ],
      "metadata": {
        "id": "k_VTTO_u1TIe"
      },
      "execution_count": 12,
      "outputs": []
    },
    {
      "cell_type": "code",
      "source": [
        "# Aggregate use pairs and extract median column\n",
        "judgements_df = judgements_df.groupby(['identifier1', 'identifier2', 'lemma'])['judgment'].apply(list).reset_index(name='judgments')\n",
        "#judgements_df['median_judgment'] = judgements_df['judgments'].apply(lambda x: np.nanmedian(list(x)))\n",
        "\n",
        "# Remove pairs with nan median\n",
        "#judgements_df = judgements_df[~judgements_df['median_judgment'].isnull()]\n",
        "display(judgements_df)"
      ],
      "metadata": {
        "colab": {
          "base_uri": "https://localhost:8080/",
          "height": 419
        },
        "id": "wBIXVQ1E5J7O",
        "outputId": "f2c096c1-d790-474f-8d82-301a5bcbe31b"
      },
      "execution_count": 13,
      "outputs": [
        {
          "output_type": "display_data",
          "data": {
            "text/plain": [
              "      identifier1  identifier2     lemma        judgments\n",
              "0               0            1  верховье  [4.0, 3.0, 4.0]\n",
              "1               2            3  верховье  [2.0, 3.0, 4.0]\n",
              "2               4            5  верховье  [4.0, 4.0, 4.0]\n",
              "3               6            7  верховье  [3.0, 2.0, 3.0]\n",
              "4               8            9  верховье  [2.0, 2.0, 3.0]\n",
              "...           ...          ...       ...              ...\n",
              "3298         6596         6597      ясли  [4.0, 4.0, 4.0]\n",
              "3299         6598         6599      ясли  [3.0, 1.0, 1.0]\n",
              "3300         6600         6601      ясли  [4.0, 4.0, 4.0]\n",
              "3301         6602         6603      ясли  [1.0, 3.0, 4.0]\n",
              "3302         6604         6605      ясли  [1.0, 1.0, 1.0]\n",
              "\n",
              "[3303 rows x 4 columns]"
            ],
            "text/html": [
              "\n",
              "  <div id=\"df-62ae5098-285e-4cb9-be8a-a824b1c0e0b8\">\n",
              "    <div class=\"colab-df-container\">\n",
              "      <div>\n",
              "<style scoped>\n",
              "    .dataframe tbody tr th:only-of-type {\n",
              "        vertical-align: middle;\n",
              "    }\n",
              "\n",
              "    .dataframe tbody tr th {\n",
              "        vertical-align: top;\n",
              "    }\n",
              "\n",
              "    .dataframe thead th {\n",
              "        text-align: right;\n",
              "    }\n",
              "</style>\n",
              "<table border=\"1\" class=\"dataframe\">\n",
              "  <thead>\n",
              "    <tr style=\"text-align: right;\">\n",
              "      <th></th>\n",
              "      <th>identifier1</th>\n",
              "      <th>identifier2</th>\n",
              "      <th>lemma</th>\n",
              "      <th>judgments</th>\n",
              "    </tr>\n",
              "  </thead>\n",
              "  <tbody>\n",
              "    <tr>\n",
              "      <th>0</th>\n",
              "      <td>0</td>\n",
              "      <td>1</td>\n",
              "      <td>верховье</td>\n",
              "      <td>[4.0, 3.0, 4.0]</td>\n",
              "    </tr>\n",
              "    <tr>\n",
              "      <th>1</th>\n",
              "      <td>2</td>\n",
              "      <td>3</td>\n",
              "      <td>верховье</td>\n",
              "      <td>[2.0, 3.0, 4.0]</td>\n",
              "    </tr>\n",
              "    <tr>\n",
              "      <th>2</th>\n",
              "      <td>4</td>\n",
              "      <td>5</td>\n",
              "      <td>верховье</td>\n",
              "      <td>[4.0, 4.0, 4.0]</td>\n",
              "    </tr>\n",
              "    <tr>\n",
              "      <th>3</th>\n",
              "      <td>6</td>\n",
              "      <td>7</td>\n",
              "      <td>верховье</td>\n",
              "      <td>[3.0, 2.0, 3.0]</td>\n",
              "    </tr>\n",
              "    <tr>\n",
              "      <th>4</th>\n",
              "      <td>8</td>\n",
              "      <td>9</td>\n",
              "      <td>верховье</td>\n",
              "      <td>[2.0, 2.0, 3.0]</td>\n",
              "    </tr>\n",
              "    <tr>\n",
              "      <th>...</th>\n",
              "      <td>...</td>\n",
              "      <td>...</td>\n",
              "      <td>...</td>\n",
              "      <td>...</td>\n",
              "    </tr>\n",
              "    <tr>\n",
              "      <th>3298</th>\n",
              "      <td>6596</td>\n",
              "      <td>6597</td>\n",
              "      <td>ясли</td>\n",
              "      <td>[4.0, 4.0, 4.0]</td>\n",
              "    </tr>\n",
              "    <tr>\n",
              "      <th>3299</th>\n",
              "      <td>6598</td>\n",
              "      <td>6599</td>\n",
              "      <td>ясли</td>\n",
              "      <td>[3.0, 1.0, 1.0]</td>\n",
              "    </tr>\n",
              "    <tr>\n",
              "      <th>3300</th>\n",
              "      <td>6600</td>\n",
              "      <td>6601</td>\n",
              "      <td>ясли</td>\n",
              "      <td>[4.0, 4.0, 4.0]</td>\n",
              "    </tr>\n",
              "    <tr>\n",
              "      <th>3301</th>\n",
              "      <td>6602</td>\n",
              "      <td>6603</td>\n",
              "      <td>ясли</td>\n",
              "      <td>[1.0, 3.0, 4.0]</td>\n",
              "    </tr>\n",
              "    <tr>\n",
              "      <th>3302</th>\n",
              "      <td>6604</td>\n",
              "      <td>6605</td>\n",
              "      <td>ясли</td>\n",
              "      <td>[1.0, 1.0, 1.0]</td>\n",
              "    </tr>\n",
              "  </tbody>\n",
              "</table>\n",
              "<p>3303 rows × 4 columns</p>\n",
              "</div>\n",
              "      <button class=\"colab-df-convert\" onclick=\"convertToInteractive('df-62ae5098-285e-4cb9-be8a-a824b1c0e0b8')\"\n",
              "              title=\"Convert this dataframe to an interactive table.\"\n",
              "              style=\"display:none;\">\n",
              "        \n",
              "  <svg xmlns=\"http://www.w3.org/2000/svg\" height=\"24px\"viewBox=\"0 0 24 24\"\n",
              "       width=\"24px\">\n",
              "    <path d=\"M0 0h24v24H0V0z\" fill=\"none\"/>\n",
              "    <path d=\"M18.56 5.44l.94 2.06.94-2.06 2.06-.94-2.06-.94-.94-2.06-.94 2.06-2.06.94zm-11 1L8.5 8.5l.94-2.06 2.06-.94-2.06-.94L8.5 2.5l-.94 2.06-2.06.94zm10 10l.94 2.06.94-2.06 2.06-.94-2.06-.94-.94-2.06-.94 2.06-2.06.94z\"/><path d=\"M17.41 7.96l-1.37-1.37c-.4-.4-.92-.59-1.43-.59-.52 0-1.04.2-1.43.59L10.3 9.45l-7.72 7.72c-.78.78-.78 2.05 0 2.83L4 21.41c.39.39.9.59 1.41.59.51 0 1.02-.2 1.41-.59l7.78-7.78 2.81-2.81c.8-.78.8-2.07 0-2.86zM5.41 20L4 18.59l7.72-7.72 1.47 1.35L5.41 20z\"/>\n",
              "  </svg>\n",
              "      </button>\n",
              "      \n",
              "  <style>\n",
              "    .colab-df-container {\n",
              "      display:flex;\n",
              "      flex-wrap:wrap;\n",
              "      gap: 12px;\n",
              "    }\n",
              "\n",
              "    .colab-df-convert {\n",
              "      background-color: #E8F0FE;\n",
              "      border: none;\n",
              "      border-radius: 50%;\n",
              "      cursor: pointer;\n",
              "      display: none;\n",
              "      fill: #1967D2;\n",
              "      height: 32px;\n",
              "      padding: 0 0 0 0;\n",
              "      width: 32px;\n",
              "    }\n",
              "\n",
              "    .colab-df-convert:hover {\n",
              "      background-color: #E2EBFA;\n",
              "      box-shadow: 0px 1px 2px rgba(60, 64, 67, 0.3), 0px 1px 3px 1px rgba(60, 64, 67, 0.15);\n",
              "      fill: #174EA6;\n",
              "    }\n",
              "\n",
              "    [theme=dark] .colab-df-convert {\n",
              "      background-color: #3B4455;\n",
              "      fill: #D2E3FC;\n",
              "    }\n",
              "\n",
              "    [theme=dark] .colab-df-convert:hover {\n",
              "      background-color: #434B5C;\n",
              "      box-shadow: 0px 1px 3px 1px rgba(0, 0, 0, 0.15);\n",
              "      filter: drop-shadow(0px 1px 2px rgba(0, 0, 0, 0.3));\n",
              "      fill: #FFFFFF;\n",
              "    }\n",
              "  </style>\n",
              "\n",
              "      <script>\n",
              "        const buttonEl =\n",
              "          document.querySelector('#df-62ae5098-285e-4cb9-be8a-a824b1c0e0b8 button.colab-df-convert');\n",
              "        buttonEl.style.display =\n",
              "          google.colab.kernel.accessAllowed ? 'block' : 'none';\n",
              "\n",
              "        async function convertToInteractive(key) {\n",
              "          const element = document.querySelector('#df-62ae5098-285e-4cb9-be8a-a824b1c0e0b8');\n",
              "          const dataTable =\n",
              "            await google.colab.kernel.invokeFunction('convertToInteractive',\n",
              "                                                     [key], {});\n",
              "          if (!dataTable) return;\n",
              "\n",
              "          const docLinkHtml = 'Like what you see? Visit the ' +\n",
              "            '<a target=\"_blank\" href=https://colab.research.google.com/notebooks/data_table.ipynb>data table notebook</a>'\n",
              "            + ' to learn more about interactive tables.';\n",
              "          element.innerHTML = '';\n",
              "          dataTable['output_type'] = 'display_data';\n",
              "          await google.colab.output.renderOutput(dataTable, element);\n",
              "          const docLink = document.createElement('div');\n",
              "          docLink.innerHTML = docLinkHtml;\n",
              "          element.appendChild(docLink);\n",
              "        }\n",
              "      </script>\n",
              "    </div>\n",
              "  </div>\n",
              "  "
            ]
          },
          "metadata": {}
        }
      ]
    },
    {
      "cell_type": "code",
      "source": [
        "judgements_df.to_csv(\"judgements_grouped.csv\", index=False)"
      ],
      "metadata": {
        "id": "WSJnOLLT5jGi"
      },
      "execution_count": 9,
      "outputs": []
    },
    {
      "cell_type": "code",
      "source": [],
      "metadata": {
        "id": "PaBY0P_n5sU3"
      },
      "execution_count": 9,
      "outputs": []
    }
  ]
}