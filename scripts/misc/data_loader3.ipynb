{
  "nbformat": 4,
  "nbformat_minor": 0,
  "metadata": {
    "colab": {
      "provenance": []
    },
    "kernelspec": {
      "name": "python3",
      "display_name": "Python 3"
    },
    "language_info": {
      "name": "python"
    }
  },
  "cells": [
    {
      "cell_type": "code",
      "source": [
        "from bs4 import BeautifulSoup\n",
        "import requests\n",
        "import pandas as pd\n",
        "import io\n",
        "import numpy as np"
      ],
      "metadata": {
        "id": "DF_EmVh_2LPF"
      },
      "execution_count": 1,
      "outputs": []
    },
    {
      "cell_type": "code",
      "source": [
        "URLS = ['https://github.com/akutuzov/rushifteval_public/tree/main/durel/rushifteval1/data', 'https://github.com/akutuzov/rushifteval_public/tree/main/durel/rushifteval2/data', 'https://github.com/akutuzov/rushifteval_public/tree/main/durel/rushifteval3/data']\n",
        "find_by_class_list = []\n",
        "for i in URLS:\n",
        "    page = requests.get(i)\n",
        "    \n",
        "    soup = BeautifulSoup( page.content , 'html.parser')\n",
        "    find_by_class = soup.find_all('a', class_=\"Link--primary\")\n",
        "    find_by_class_list = find_by_class_list + find_by_class[3:]"
      ],
      "metadata": {
        "id": "xpsldp-xtTHX"
      },
      "execution_count": 2,
      "outputs": []
    },
    {
      "cell_type": "code",
      "source": [
        "judgements = []\n",
        "uses = []\n",
        "for i in find_by_class:\n",
        "    judgements.append(\"https://raw.githubusercontent.com/\"+i['href']+\"/judgments.csv\")\n",
        "    uses.append(\"https://raw.githubusercontent.com/\"+i['href']+\"/uses.csv\")"
      ],
      "metadata": {
        "id": "uTjddnWNuE1o"
      },
      "execution_count": 3,
      "outputs": []
    },
    {
      "cell_type": "code",
      "source": [
        "judgements_df = pd.DataFrame()\n",
        "for i in judgements:\n",
        "    judgements_df = pd.concat([judgements_df, pd.read_csv(io.StringIO(requests.get(i.replace(\"/tree\",\"\")).content.decode('utf-8')), delimiter='\\t')])"
      ],
      "metadata": {
        "id": "Qf3m3QQ6xJ-M"
      },
      "execution_count": 4,
      "outputs": []
    },
    {
      "cell_type": "code",
      "source": [
        "uses_df = pd.DataFrame()\n",
        "for i in uses:\n",
        "    uses_df = pd.concat([uses_df, pd.read_csv(io.StringIO(requests.get(i.replace(\"/tree\",\"\")).content.decode('utf-8')), delimiter='\\t')])"
      ],
      "metadata": {
        "id": "rhhOvgn30FtZ"
      },
      "execution_count": 5,
      "outputs": []
    },
    {
      "cell_type": "code",
      "source": [
        "judgements_df.to_csv(\"judgements.csv\", index=False)\n",
        "uses_df.to_csv(\"uses.csv\", index=False)"
      ],
      "metadata": {
        "id": "k_VTTO_u1TIe"
      },
      "execution_count": 6,
      "outputs": []
    },
    {
      "cell_type": "code",
      "source": [
        "# Aggregate use pairs and extract median column\n",
        "judgements_df = judgements_df.groupby(['identifier1', 'identifier2', 'lemma'])['judgment'].apply(list).reset_index(name='judgments')\n",
        "# judgements_df['median_judgment'] = judgements_df['judgments'].apply(lambda x: np.nanmedian(list(x)))\n",
        "\n",
        "# Remove pairs with nan median\n",
        "# judgements_df = judgements_df[~judgements_df['median_judgment'].isnull()]\n",
        "display(judgements_df)"
      ],
      "metadata": {
        "colab": {
          "base_uri": "https://localhost:8080/",
          "height": 419
        },
        "id": "wBIXVQ1E5J7O",
        "outputId": "aad637d3-6d25-4ae0-fb35-a1e75a765404"
      },
      "execution_count": 7,
      "outputs": [
        {
          "output_type": "display_data",
          "data": {
            "text/plain": [
              "      identifier1  identifier2     lemma        judgments\n",
              "0             0.0          1.0  верховье  [4.0, 4.0, 4.0]\n",
              "1             2.0          3.0  верховье  [4.0, 4.0, 4.0]\n",
              "2             4.0          5.0  верховье  [3.0, 4.0, 4.0]\n",
              "3             6.0          7.0  верховье  [4.0, 4.0, 1.0]\n",
              "4             8.0          9.0  верховье  [4.0, 4.0, 4.0]\n",
              "...           ...          ...       ...              ...\n",
              "3302       6604.0       6605.0      ясли  [4.0, 4.0, 4.0]\n",
              "3303       6606.0       6607.0      ясли  [1.0, 1.0, 1.0]\n",
              "3304       6608.0       6609.0      ясли  [4.0, 4.0, 4.0]\n",
              "3305       6610.0       6611.0      ясли  [2.0, 1.0, 1.0]\n",
              "3306       6612.0       6613.0      ясли  [1.0, 1.0, 1.0]\n",
              "\n",
              "[3307 rows x 4 columns]"
            ],
            "text/html": [
              "\n",
              "  <div id=\"df-ea6dc84d-5742-4345-a57d-5d34fc93847e\">\n",
              "    <div class=\"colab-df-container\">\n",
              "      <div>\n",
              "<style scoped>\n",
              "    .dataframe tbody tr th:only-of-type {\n",
              "        vertical-align: middle;\n",
              "    }\n",
              "\n",
              "    .dataframe tbody tr th {\n",
              "        vertical-align: top;\n",
              "    }\n",
              "\n",
              "    .dataframe thead th {\n",
              "        text-align: right;\n",
              "    }\n",
              "</style>\n",
              "<table border=\"1\" class=\"dataframe\">\n",
              "  <thead>\n",
              "    <tr style=\"text-align: right;\">\n",
              "      <th></th>\n",
              "      <th>identifier1</th>\n",
              "      <th>identifier2</th>\n",
              "      <th>lemma</th>\n",
              "      <th>judgments</th>\n",
              "    </tr>\n",
              "  </thead>\n",
              "  <tbody>\n",
              "    <tr>\n",
              "      <th>0</th>\n",
              "      <td>0.0</td>\n",
              "      <td>1.0</td>\n",
              "      <td>верховье</td>\n",
              "      <td>[4.0, 4.0, 4.0]</td>\n",
              "    </tr>\n",
              "    <tr>\n",
              "      <th>1</th>\n",
              "      <td>2.0</td>\n",
              "      <td>3.0</td>\n",
              "      <td>верховье</td>\n",
              "      <td>[4.0, 4.0, 4.0]</td>\n",
              "    </tr>\n",
              "    <tr>\n",
              "      <th>2</th>\n",
              "      <td>4.0</td>\n",
              "      <td>5.0</td>\n",
              "      <td>верховье</td>\n",
              "      <td>[3.0, 4.0, 4.0]</td>\n",
              "    </tr>\n",
              "    <tr>\n",
              "      <th>3</th>\n",
              "      <td>6.0</td>\n",
              "      <td>7.0</td>\n",
              "      <td>верховье</td>\n",
              "      <td>[4.0, 4.0, 1.0]</td>\n",
              "    </tr>\n",
              "    <tr>\n",
              "      <th>4</th>\n",
              "      <td>8.0</td>\n",
              "      <td>9.0</td>\n",
              "      <td>верховье</td>\n",
              "      <td>[4.0, 4.0, 4.0]</td>\n",
              "    </tr>\n",
              "    <tr>\n",
              "      <th>...</th>\n",
              "      <td>...</td>\n",
              "      <td>...</td>\n",
              "      <td>...</td>\n",
              "      <td>...</td>\n",
              "    </tr>\n",
              "    <tr>\n",
              "      <th>3302</th>\n",
              "      <td>6604.0</td>\n",
              "      <td>6605.0</td>\n",
              "      <td>ясли</td>\n",
              "      <td>[4.0, 4.0, 4.0]</td>\n",
              "    </tr>\n",
              "    <tr>\n",
              "      <th>3303</th>\n",
              "      <td>6606.0</td>\n",
              "      <td>6607.0</td>\n",
              "      <td>ясли</td>\n",
              "      <td>[1.0, 1.0, 1.0]</td>\n",
              "    </tr>\n",
              "    <tr>\n",
              "      <th>3304</th>\n",
              "      <td>6608.0</td>\n",
              "      <td>6609.0</td>\n",
              "      <td>ясли</td>\n",
              "      <td>[4.0, 4.0, 4.0]</td>\n",
              "    </tr>\n",
              "    <tr>\n",
              "      <th>3305</th>\n",
              "      <td>6610.0</td>\n",
              "      <td>6611.0</td>\n",
              "      <td>ясли</td>\n",
              "      <td>[2.0, 1.0, 1.0]</td>\n",
              "    </tr>\n",
              "    <tr>\n",
              "      <th>3306</th>\n",
              "      <td>6612.0</td>\n",
              "      <td>6613.0</td>\n",
              "      <td>ясли</td>\n",
              "      <td>[1.0, 1.0, 1.0]</td>\n",
              "    </tr>\n",
              "  </tbody>\n",
              "</table>\n",
              "<p>3307 rows × 4 columns</p>\n",
              "</div>\n",
              "      <button class=\"colab-df-convert\" onclick=\"convertToInteractive('df-ea6dc84d-5742-4345-a57d-5d34fc93847e')\"\n",
              "              title=\"Convert this dataframe to an interactive table.\"\n",
              "              style=\"display:none;\">\n",
              "        \n",
              "  <svg xmlns=\"http://www.w3.org/2000/svg\" height=\"24px\"viewBox=\"0 0 24 24\"\n",
              "       width=\"24px\">\n",
              "    <path d=\"M0 0h24v24H0V0z\" fill=\"none\"/>\n",
              "    <path d=\"M18.56 5.44l.94 2.06.94-2.06 2.06-.94-2.06-.94-.94-2.06-.94 2.06-2.06.94zm-11 1L8.5 8.5l.94-2.06 2.06-.94-2.06-.94L8.5 2.5l-.94 2.06-2.06.94zm10 10l.94 2.06.94-2.06 2.06-.94-2.06-.94-.94-2.06-.94 2.06-2.06.94z\"/><path d=\"M17.41 7.96l-1.37-1.37c-.4-.4-.92-.59-1.43-.59-.52 0-1.04.2-1.43.59L10.3 9.45l-7.72 7.72c-.78.78-.78 2.05 0 2.83L4 21.41c.39.39.9.59 1.41.59.51 0 1.02-.2 1.41-.59l7.78-7.78 2.81-2.81c.8-.78.8-2.07 0-2.86zM5.41 20L4 18.59l7.72-7.72 1.47 1.35L5.41 20z\"/>\n",
              "  </svg>\n",
              "      </button>\n",
              "      \n",
              "  <style>\n",
              "    .colab-df-container {\n",
              "      display:flex;\n",
              "      flex-wrap:wrap;\n",
              "      gap: 12px;\n",
              "    }\n",
              "\n",
              "    .colab-df-convert {\n",
              "      background-color: #E8F0FE;\n",
              "      border: none;\n",
              "      border-radius: 50%;\n",
              "      cursor: pointer;\n",
              "      display: none;\n",
              "      fill: #1967D2;\n",
              "      height: 32px;\n",
              "      padding: 0 0 0 0;\n",
              "      width: 32px;\n",
              "    }\n",
              "\n",
              "    .colab-df-convert:hover {\n",
              "      background-color: #E2EBFA;\n",
              "      box-shadow: 0px 1px 2px rgba(60, 64, 67, 0.3), 0px 1px 3px 1px rgba(60, 64, 67, 0.15);\n",
              "      fill: #174EA6;\n",
              "    }\n",
              "\n",
              "    [theme=dark] .colab-df-convert {\n",
              "      background-color: #3B4455;\n",
              "      fill: #D2E3FC;\n",
              "    }\n",
              "\n",
              "    [theme=dark] .colab-df-convert:hover {\n",
              "      background-color: #434B5C;\n",
              "      box-shadow: 0px 1px 3px 1px rgba(0, 0, 0, 0.15);\n",
              "      filter: drop-shadow(0px 1px 2px rgba(0, 0, 0, 0.3));\n",
              "      fill: #FFFFFF;\n",
              "    }\n",
              "  </style>\n",
              "\n",
              "      <script>\n",
              "        const buttonEl =\n",
              "          document.querySelector('#df-ea6dc84d-5742-4345-a57d-5d34fc93847e button.colab-df-convert');\n",
              "        buttonEl.style.display =\n",
              "          google.colab.kernel.accessAllowed ? 'block' : 'none';\n",
              "\n",
              "        async function convertToInteractive(key) {\n",
              "          const element = document.querySelector('#df-ea6dc84d-5742-4345-a57d-5d34fc93847e');\n",
              "          const dataTable =\n",
              "            await google.colab.kernel.invokeFunction('convertToInteractive',\n",
              "                                                     [key], {});\n",
              "          if (!dataTable) return;\n",
              "\n",
              "          const docLinkHtml = 'Like what you see? Visit the ' +\n",
              "            '<a target=\"_blank\" href=https://colab.research.google.com/notebooks/data_table.ipynb>data table notebook</a>'\n",
              "            + ' to learn more about interactive tables.';\n",
              "          element.innerHTML = '';\n",
              "          dataTable['output_type'] = 'display_data';\n",
              "          await google.colab.output.renderOutput(dataTable, element);\n",
              "          const docLink = document.createElement('div');\n",
              "          docLink.innerHTML = docLinkHtml;\n",
              "          element.appendChild(docLink);\n",
              "        }\n",
              "      </script>\n",
              "    </div>\n",
              "  </div>\n",
              "  "
            ]
          },
          "metadata": {}
        }
      ]
    },
    {
      "cell_type": "code",
      "source": [
        "judgements_df.to_csv(\"judgements_grouped.csv\", index=False)"
      ],
      "metadata": {
        "id": "WSJnOLLT5jGi"
      },
      "execution_count": 8,
      "outputs": []
    },
    {
      "cell_type": "code",
      "source": [],
      "metadata": {
        "id": "PaBY0P_n5sU3"
      },
      "execution_count": 8,
      "outputs": []
    }
  ]
}