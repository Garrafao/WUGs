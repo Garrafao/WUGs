{
 "cells": [
  {
   "cell_type": "code",
   "execution_count": 1,
   "id": "40ee7c55",
   "metadata": {
    "id": "40ee7c55"
   },
   "outputs": [],
   "source": [
    "import requests\n",
    "import networkx as nx\n",
    "import warnings\n",
    "\n",
    "warnings.filterwarnings(\"ignore\")\n",
    "\n",
    "import os\n",
    "import numpy as np\n",
    "import pandas as pd\n"
   ]
  },
  {
   "cell_type": "code",
   "execution_count": 2,
   "id": "a7b279ee",
   "metadata": {
    "id": "a7b279ee"
   },
   "outputs": [],
   "source": [
    "URL = \"https://zenodo.org/record/7295410/files/dwug_de.zip\"\n",
    "download = requests.get(URL).content"
   ]
  },
  {
   "cell_type": "code",
   "execution_count": 3,
   "id": "1f34e74e",
   "metadata": {
    "colab": {
     "base_uri": "https://localhost:8080/"
    },
    "id": "1f34e74e",
    "outputId": "1fc3680f-ee47-4e11-9e93-e7a4a5360f37"
   },
   "outputs": [
    {
     "name": "stdout",
     "output_type": "stream",
     "text": [
      "--2022-11-29 18:36:02--  https://zenodo.org/record/7295410/files/dwug_de.zip\n",
      "Resolving zenodo.org (zenodo.org)... 188.185.124.72\n",
      "Connecting to zenodo.org (zenodo.org)|188.185.124.72|:443... connected.\n",
      "HTTP request sent, awaiting response... 200 OK\n",
      "Length: 13856210 (13M) [application/octet-stream]\n",
      "Saving to: ‘dwug_de.zip.2’\n",
      "\n",
      "dwug_de.zip.2       100%[===================>]  13.21M  3.17MB/s    in 5.5s    \n",
      "\n",
      "2022-11-29 18:36:08 (2.42 MB/s) - ‘dwug_de.zip.2’ saved [13856210/13856210]\n",
      "\n"
     ]
    }
   ],
   "source": [
    "!wget https://zenodo.org/record/7295410/files/dwug_de.zip"
   ]
  },
  {
   "cell_type": "code",
   "execution_count": 4,
   "id": "8bafe693",
   "metadata": {
    "id": "8bafe693"
   },
   "outputs": [],
   "source": [
    "from zipfile import ZipFile\n",
    "with ZipFile('dwug_de.zip', 'r') as dwug_de:\n",
    "   dwug_de.extractall()"
   ]
  },
  {
   "cell_type": "code",
   "execution_count": 6,
   "id": "4f2ffa61",
   "metadata": {
    "id": "4f2ffa61"
   },
   "outputs": [],
   "source": [
    "dir_list = os.listdir(\"/Users/tejaswichoppa/dwug_de/data\")"
   ]
  },
  {
   "cell_type": "code",
   "execution_count": 7,
   "id": "1e64a822",
   "metadata": {
    "colab": {
     "base_uri": "https://localhost:8080/"
    },
    "id": "1e64a822",
    "outputId": "b2c4590a-07f3-4f41-f562-3e8b0be5f7e2"
   },
   "outputs": [
    {
     "data": {
      "text/plain": [
       "['Behandlung',\n",
       " 'Gesichtsausdruck',\n",
       " 'Engpaß',\n",
       " 'Armenhaus',\n",
       " 'Tragfähigkeit',\n",
       " 'Entscheidung',\n",
       " 'Titel',\n",
       " 'Kubikmeter',\n",
       " 'Manschette',\n",
       " 'Dynamik',\n",
       " 'aufrechterhalten',\n",
       " 'Sensation',\n",
       " 'Knotenpunkt',\n",
       " 'weitgreifend',\n",
       " 'Abgesang',\n",
       " 'abbauen',\n",
       " 'Ausnahmegesetz',\n",
       " 'Rezeption',\n",
       " 'beimischen',\n",
       " 'Schmiere',\n",
       " 'vergönnen',\n",
       " 'Einreichung',\n",
       " 'ausspannen',\n",
       " 'Frechheit',\n",
       " 'Ackergerät',\n",
       " 'zersetzen',\n",
       " 'Unentschlossenheit',\n",
       " 'Spielball',\n",
       " 'überspannen',\n",
       " 'verbauen',\n",
       " 'Mut',\n",
       " 'Ohrwurm',\n",
       " 'abdecken',\n",
       " 'Festspiel',\n",
       " 'Seminar',\n",
       " 'Eintagsfliege',\n",
       " 'Mißklang',\n",
       " 'vorweisen',\n",
       " 'abgebrüht',\n",
       " 'voranstellen',\n",
       " 'vorliegen',\n",
       " 'Lyzeum',\n",
       " 'Pachtzins',\n",
       " 'Truppenteil',\n",
       " 'Fuß',\n",
       " 'Naturschönheit',\n",
       " 'artikulieren',\n",
       " 'Mulatte',\n",
       " 'packen',\n",
       " 'Tier']"
      ]
     },
     "execution_count": 7,
     "metadata": {},
     "output_type": "execute_result"
    }
   ],
   "source": [
    "dir_list"
   ]
  },
  {
   "cell_type": "code",
   "execution_count": 11,
   "id": "W195sjszaF_U",
   "metadata": {
    "id": "W195sjszaF_U"
   },
   "outputs": [],
   "source": [
    "uses = []\n",
    "for i in dir_list:\n",
    "  uses.append(\"/Users/tejaswichoppa/dwug_de/data/\"+ i+\"/uses.csv\")"
   ]
  },
  {
   "cell_type": "code",
   "execution_count": 12,
   "id": "_IDznSWBav9q",
   "metadata": {
    "colab": {
     "base_uri": "https://localhost:8080/"
    },
    "id": "_IDznSWBav9q",
    "outputId": "1a1a746a-76d1-412e-fe13-185b00e2363b"
   },
   "outputs": [
    {
     "data": {
      "text/plain": [
       "['/Users/tejaswichoppa/dwug_de/data/Behandlung/uses.csv',\n",
       " '/Users/tejaswichoppa/dwug_de/data/Gesichtsausdruck/uses.csv',\n",
       " '/Users/tejaswichoppa/dwug_de/data/Engpaß/uses.csv',\n",
       " '/Users/tejaswichoppa/dwug_de/data/Armenhaus/uses.csv',\n",
       " '/Users/tejaswichoppa/dwug_de/data/Tragfähigkeit/uses.csv',\n",
       " '/Users/tejaswichoppa/dwug_de/data/Entscheidung/uses.csv',\n",
       " '/Users/tejaswichoppa/dwug_de/data/Titel/uses.csv',\n",
       " '/Users/tejaswichoppa/dwug_de/data/Kubikmeter/uses.csv',\n",
       " '/Users/tejaswichoppa/dwug_de/data/Manschette/uses.csv',\n",
       " '/Users/tejaswichoppa/dwug_de/data/Dynamik/uses.csv',\n",
       " '/Users/tejaswichoppa/dwug_de/data/aufrechterhalten/uses.csv',\n",
       " '/Users/tejaswichoppa/dwug_de/data/Sensation/uses.csv',\n",
       " '/Users/tejaswichoppa/dwug_de/data/Knotenpunkt/uses.csv',\n",
       " '/Users/tejaswichoppa/dwug_de/data/weitgreifend/uses.csv',\n",
       " '/Users/tejaswichoppa/dwug_de/data/Abgesang/uses.csv',\n",
       " '/Users/tejaswichoppa/dwug_de/data/abbauen/uses.csv',\n",
       " '/Users/tejaswichoppa/dwug_de/data/Ausnahmegesetz/uses.csv',\n",
       " '/Users/tejaswichoppa/dwug_de/data/Rezeption/uses.csv',\n",
       " '/Users/tejaswichoppa/dwug_de/data/beimischen/uses.csv',\n",
       " '/Users/tejaswichoppa/dwug_de/data/Schmiere/uses.csv',\n",
       " '/Users/tejaswichoppa/dwug_de/data/vergönnen/uses.csv',\n",
       " '/Users/tejaswichoppa/dwug_de/data/Einreichung/uses.csv',\n",
       " '/Users/tejaswichoppa/dwug_de/data/ausspannen/uses.csv',\n",
       " '/Users/tejaswichoppa/dwug_de/data/Frechheit/uses.csv',\n",
       " '/Users/tejaswichoppa/dwug_de/data/Ackergerät/uses.csv',\n",
       " '/Users/tejaswichoppa/dwug_de/data/zersetzen/uses.csv',\n",
       " '/Users/tejaswichoppa/dwug_de/data/Unentschlossenheit/uses.csv',\n",
       " '/Users/tejaswichoppa/dwug_de/data/Spielball/uses.csv',\n",
       " '/Users/tejaswichoppa/dwug_de/data/überspannen/uses.csv',\n",
       " '/Users/tejaswichoppa/dwug_de/data/verbauen/uses.csv',\n",
       " '/Users/tejaswichoppa/dwug_de/data/Mut/uses.csv',\n",
       " '/Users/tejaswichoppa/dwug_de/data/Ohrwurm/uses.csv',\n",
       " '/Users/tejaswichoppa/dwug_de/data/abdecken/uses.csv',\n",
       " '/Users/tejaswichoppa/dwug_de/data/Festspiel/uses.csv',\n",
       " '/Users/tejaswichoppa/dwug_de/data/Seminar/uses.csv',\n",
       " '/Users/tejaswichoppa/dwug_de/data/Eintagsfliege/uses.csv',\n",
       " '/Users/tejaswichoppa/dwug_de/data/Mißklang/uses.csv',\n",
       " '/Users/tejaswichoppa/dwug_de/data/vorweisen/uses.csv',\n",
       " '/Users/tejaswichoppa/dwug_de/data/abgebrüht/uses.csv',\n",
       " '/Users/tejaswichoppa/dwug_de/data/voranstellen/uses.csv',\n",
       " '/Users/tejaswichoppa/dwug_de/data/vorliegen/uses.csv',\n",
       " '/Users/tejaswichoppa/dwug_de/data/Lyzeum/uses.csv',\n",
       " '/Users/tejaswichoppa/dwug_de/data/Pachtzins/uses.csv',\n",
       " '/Users/tejaswichoppa/dwug_de/data/Truppenteil/uses.csv',\n",
       " '/Users/tejaswichoppa/dwug_de/data/Fuß/uses.csv',\n",
       " '/Users/tejaswichoppa/dwug_de/data/Naturschönheit/uses.csv',\n",
       " '/Users/tejaswichoppa/dwug_de/data/artikulieren/uses.csv',\n",
       " '/Users/tejaswichoppa/dwug_de/data/Mulatte/uses.csv',\n",
       " '/Users/tejaswichoppa/dwug_de/data/packen/uses.csv',\n",
       " '/Users/tejaswichoppa/dwug_de/data/Tier/uses.csv']"
      ]
     },
     "execution_count": 12,
     "metadata": {},
     "output_type": "execute_result"
    }
   ],
   "source": [
    "uses"
   ]
  },
  {
   "cell_type": "code",
   "execution_count": 13,
   "id": "h-I7gZ0Oaxss",
   "metadata": {
    "id": "h-I7gZ0Oaxss"
   },
   "outputs": [],
   "source": [
    "import pandas as pd\n",
    "uses_df = pd.DataFrame()\n",
    "for i in uses:\n",
    "    uses_df = pd.concat([uses_df, pd.read_csv(i, delimiter='\\t', quoting = 3)])"
   ]
  },
  {
   "cell_type": "code",
   "execution_count": 14,
   "id": "65XduMc8bGap",
   "metadata": {
    "id": "65XduMc8bGap"
   },
   "outputs": [],
   "source": [
    "df_final = uses_df[['lemma', 'pos', 'date', 'grouping', 'identifier', 'description','context', 'indexes_target_token', 'indexes_target_sentence' ]]"
   ]
  },
  {
   "cell_type": "code",
   "execution_count": 15,
   "id": "E7FXIa3hcaI9",
   "metadata": {
    "colab": {
     "base_uri": "https://localhost:8080/",
     "height": 574
    },
    "id": "E7FXIa3hcaI9",
    "outputId": "bc6d2c0c-7656-4e01-8bf2-8ec698249595"
   },
   "outputs": [
    {
     "data": {
      "text/html": [
       "<div>\n",
       "<style scoped>\n",
       "    .dataframe tbody tr th:only-of-type {\n",
       "        vertical-align: middle;\n",
       "    }\n",
       "\n",
       "    .dataframe tbody tr th {\n",
       "        vertical-align: top;\n",
       "    }\n",
       "\n",
       "    .dataframe thead th {\n",
       "        text-align: right;\n",
       "    }\n",
       "</style>\n",
       "<table border=\"1\" class=\"dataframe\">\n",
       "  <thead>\n",
       "    <tr style=\"text-align: right;\">\n",
       "      <th></th>\n",
       "      <th>lemma</th>\n",
       "      <th>pos</th>\n",
       "      <th>date</th>\n",
       "      <th>grouping</th>\n",
       "      <th>identifier</th>\n",
       "      <th>description</th>\n",
       "      <th>context</th>\n",
       "      <th>indexes_target_token</th>\n",
       "      <th>indexes_target_sentence</th>\n",
       "    </tr>\n",
       "  </thead>\n",
       "  <tbody>\n",
       "    <tr>\n",
       "      <th>0</th>\n",
       "      <td>Behandlung</td>\n",
       "      <td>NN</td>\n",
       "      <td>1820</td>\n",
       "      <td>1</td>\n",
       "      <td>carus_gynaekologie02_1820-4963-3</td>\n",
       "      <td></td>\n",
       "      <td>Auch die weitere Behandlung richtet sich nach ...</td>\n",
       "      <td>17:27</td>\n",
       "      <td>0:70</td>\n",
       "    </tr>\n",
       "    <tr>\n",
       "      <th>1</th>\n",
       "      <td>Behandlung</td>\n",
       "      <td>NN</td>\n",
       "      <td>1880</td>\n",
       "      <td>1</td>\n",
       "      <td>laband_staatsrecht0301_1880-1648-10</td>\n",
       "      <td></td>\n",
       "      <td>In größeren Garnisonsorten werden überdies Gar...</td>\n",
       "      <td>79:89</td>\n",
       "      <td>0:290</td>\n",
       "    </tr>\n",
       "    <tr>\n",
       "      <th>2</th>\n",
       "      <td>Behandlung</td>\n",
       "      <td>NN</td>\n",
       "      <td>1883</td>\n",
       "      <td>1</td>\n",
       "      <td>dilthey_geisteswissenschaften_1883-1419-20</td>\n",
       "      <td></td>\n",
       "      <td>Zwei Wendungen treten ein, welche beide zu die...</td>\n",
       "      <td>128:138</td>\n",
       "      <td>0:165</td>\n",
       "    </tr>\n",
       "    <tr>\n",
       "      <th>3</th>\n",
       "      <td>Behandlung</td>\n",
       "      <td>NN</td>\n",
       "      <td>1875</td>\n",
       "      <td>1</td>\n",
       "      <td>sachs_botanik_1875-1922-53</td>\n",
       "      <td></td>\n",
       "      <td>Die Ernährung und Saftbewegung der Pflanzen tr...</td>\n",
       "      <td>342:352</td>\n",
       "      <td>0:363</td>\n",
       "    </tr>\n",
       "    <tr>\n",
       "      <th>4</th>\n",
       "      <td>Behandlung</td>\n",
       "      <td>NN</td>\n",
       "      <td>1830</td>\n",
       "      <td>1</td>\n",
       "      <td>mueller_kunst_1830-12071-40</td>\n",
       "      <td></td>\n",
       "      <td>Doch wer über diesen Gegenstand ordentlich ric...</td>\n",
       "      <td>202:212</td>\n",
       "      <td>0:383</td>\n",
       "    </tr>\n",
       "  </tbody>\n",
       "</table>\n",
       "</div>"
      ],
      "text/plain": [
       "        lemma pos  date  grouping                                  identifier  \\\n",
       "0  Behandlung  NN  1820         1            carus_gynaekologie02_1820-4963-3   \n",
       "1  Behandlung  NN  1880         1         laband_staatsrecht0301_1880-1648-10   \n",
       "2  Behandlung  NN  1883         1  dilthey_geisteswissenschaften_1883-1419-20   \n",
       "3  Behandlung  NN  1875         1                  sachs_botanik_1875-1922-53   \n",
       "4  Behandlung  NN  1830         1                 mueller_kunst_1830-12071-40   \n",
       "\n",
       "  description                                            context  \\\n",
       "0              Auch die weitere Behandlung richtet sich nach ...   \n",
       "1              In größeren Garnisonsorten werden überdies Gar...   \n",
       "2              Zwei Wendungen treten ein, welche beide zu die...   \n",
       "3              Die Ernährung und Saftbewegung der Pflanzen tr...   \n",
       "4              Doch wer über diesen Gegenstand ordentlich ric...   \n",
       "\n",
       "  indexes_target_token indexes_target_sentence  \n",
       "0                17:27                    0:70  \n",
       "1                79:89                   0:290  \n",
       "2              128:138                   0:165  \n",
       "3              342:352                   0:363  \n",
       "4              202:212                   0:383  "
      ]
     },
     "execution_count": 15,
     "metadata": {},
     "output_type": "execute_result"
    }
   ],
   "source": [
    "df_final.head()"
   ]
  },
  {
   "cell_type": "code",
   "execution_count": 16,
   "id": "kyonL7gWcecR",
   "metadata": {
    "id": "kyonL7gWcecR"
   },
   "outputs": [],
   "source": [
    "\n",
    "for i in list(df_final[\"lemma\"].value_counts().index):\n",
    "    df_temp = df_final[df_final[\"lemma\"]==i]\n",
    "    numpy_df = df_temp.to_numpy()\n",
    "    header = list(df_temp.columns)\n",
    "    numpy_df = np.vstack([header, numpy_df])\n",
    "    if not os.path.exists(i):\n",
    "        os.mkdir(i)\n",
    "    np.savetxt(i+\"/uses.csv\", numpy_df,fmt='%s', delimiter='\\t')"
   ]
  },
  {
   "cell_type": "code",
   "execution_count": 19,
   "id": "2ulsGvCJI3tJ",
   "metadata": {
    "colab": {
     "base_uri": "https://localhost:8080/"
    },
    "id": "2ulsGvCJI3tJ",
    "outputId": "b3b87f82-97ff-405f-f7c2-5de6260c9e78"
   },
   "outputs": [],
   "source": [
    "import os\n",
    "import shutil\n",
    "src = []\n",
    "for i in dir_list:\n",
    "    src.append((\"/Users/tejaswichoppa/dwugg/\"+ i ))\n",
    "    \n",
    "\n",
    "dest = \"/Users/tejaswichoppa/Desktop/dwuguses_modif\"\n",
    "for m in src:\n",
    "    src_files = os.listdir(m)\n",
    "    for file_name in m:\n",
    "        full_file_name = os.path.join(m, \"uses.csv\")\n",
    "        dest_file = os.path.join(dest, m.split('/')[-1] + \"_uses.csv\")\n",
    "        #print(full_file_name)\n",
    "        if os.path.isfile(full_file_name):\n",
    "            shutil.copy(full_file_name, dest_file)"
   ]
  },
  {
   "cell_type": "code",
   "execution_count": null,
   "id": "RtJgsCbBYknl",
   "metadata": {
    "id": "RtJgsCbBYknl"
   },
   "outputs": [],
   "source": [
    "from google.colab import drive\n",
    "drive.mount('/content/drive')"
   ]
  },
  {
   "cell_type": "code",
   "execution_count": null,
   "id": "GStgxp1eSDNQ",
   "metadata": {
    "id": "GStgxp1eSDNQ"
   },
   "outputs": [],
   "source": []
  },
  {
   "cell_type": "code",
   "execution_count": null,
   "id": "ATOvDdWeQJru",
   "metadata": {
    "colab": {
     "base_uri": "https://localhost:8080/"
    },
    "id": "ATOvDdWeQJru",
    "outputId": "c78cc57b-f3d0-4f1c-ebf6-0cf6d22d284d"
   },
   "outputs": [
    {
     "data": {
      "text/plain": [
       "['judgments.csv']"
      ]
     },
     "execution_count": 64,
     "metadata": {},
     "output_type": "execute_result"
    }
   ],
   "source": [
    "src_files"
   ]
  },
  {
   "cell_type": "code",
   "execution_count": null,
   "id": "eb2c88c4",
   "metadata": {
    "id": "eb2c88c4"
   },
   "outputs": [],
   "source": [
    "for i in list(df_final[\"lemma\"].value_counts().index):\n",
    "    df_temp = df_final[df_final[\"lemma\"]==i]\n",
    "    numpy_df = df_temp.to_numpy()\n",
    "    header = list(df_temp.columns)\n",
    "    numpy_df = np.vstack([header, numpy_df])\n",
    "    if not os.path.exists(i):\n",
    "        os.mkdir(i)\n",
    "    np.savetxt(i+\"_instances.csv\", numpy_df,fmt='%s', delimiter='\\t')"
   ]
  }
 ],
 "metadata": {
  "colab": {
   "provenance": []
  },
  "kernelspec": {
   "display_name": "Python 3",
   "language": "python",
   "name": "python3"
  },
  "language_info": {
   "codemirror_mode": {
    "name": "ipython",
    "version": 3
   },
   "file_extension": ".py",
   "mimetype": "text/x-python",
   "name": "python",
   "nbconvert_exporter": "python",
   "pygments_lexer": "ipython3",
   "version": "3.10.8"
  }
 },
 "nbformat": 4,
 "nbformat_minor": 5
}
