{
 "cells": [
  {
   "cell_type": "markdown",
   "metadata": {},
   "source": [
    "**To-dos, June 24**\n",
    "- formulate most simple stochastic block model with likelihood from Aicher et al., *done*"
   ]
  },
  {
   "cell_type": "markdown",
   "metadata": {},
   "source": [
    "**To-dos, July 27**\n",
    "- read pymc3 introduction\n",
    "    - https://docs.pymc.io/en/v3/pymc-examples/examples/getting_started.html\n",
    "    - https://docs.pymc.io/en/v3/Probability_Distributions.html\n",
    "- switch to English data, *done*\n",
    "- implement cluster visualization, *done*\n",
    "- try to make simple model converge, *done*\n",
    "- get intuition for Categorial, Dirichlet, Bernoulli and Beta distribution\n",
    "- find ways to visualize model parts, especially distributions, *done*"
   ]
  },
  {
   "cell_type": "markdown",
   "metadata": {},
   "source": [
    "**To-dos, August 3**\n",
    "- add Katrin's insight as comments to model code, *done*\n",
    "- add more efficient way to get samples for specific parameter from posterior, *done*\n",
    "- formulate weighted blockmodel mathematically and implementation, implement first like Katrin\n",
    "- simplify wsbm with edge existence = 1\n",
    "- read chapter 9, 12\n",
    "- read bayesian multidimensional scaling\n",
    "- implement degree correction for simple block model"
   ]
  },
  {
   "cell_type": "code",
   "execution_count": 1,
   "metadata": {},
   "outputs": [],
   "source": [
    "import matplotlib.colors as mcolors\n",
    "nice_colors = [x for x in mcolors.get_named_colors_mapping().values() if isinstance(x, str)] # Nice colors\n",
    "colors_global = ['#377eb8', '#ff7f00', '#4daf4a', '#f781bf', '#a65628', '#984ea3', '#999999', '#e41a1c', '#dede00'] # color-blind colors\n",
    "colors_global = colors_global + nice_colors"
   ]
  },
  {
   "cell_type": "markdown",
   "metadata": {},
   "source": [
    "### Load data"
   ]
  },
  {
   "cell_type": "code",
   "execution_count": 2,
   "metadata": {},
   "outputs": [],
   "source": [
    "# reference data set for experiments: DWUG EN (V2.0.0)\n",
    "import requests\n",
    "dwug_en = 'https://zenodo.org/record/5796878/files/dwug_en.zip?download=1'\n",
    "r = requests.get(dwug_en, allow_redirects=True)\n",
    "f = 'dwug_en.zip'\n",
    "open(f, 'wb').write(r.content)\n",
    "\n",
    "import zipfile\n",
    "with zipfile.ZipFile(f) as z:\n",
    "    z.extractall()"
   ]
  },
  {
   "cell_type": "code",
   "execution_count": 3,
   "metadata": {},
   "outputs": [
    {
     "data": {
      "text/html": [
       "<div>\n",
       "<style scoped>\n",
       "    .dataframe tbody tr th:only-of-type {\n",
       "        vertical-align: middle;\n",
       "    }\n",
       "\n",
       "    .dataframe tbody tr th {\n",
       "        vertical-align: top;\n",
       "    }\n",
       "\n",
       "    .dataframe thead th {\n",
       "        text-align: right;\n",
       "    }\n",
       "</style>\n",
       "<table border=\"1\" class=\"dataframe\">\n",
       "  <thead>\n",
       "    <tr style=\"text-align: right;\">\n",
       "      <th></th>\n",
       "      <th>identifier1</th>\n",
       "      <th>identifier2</th>\n",
       "      <th>lemma</th>\n",
       "      <th>judgments</th>\n",
       "      <th>median_judgment</th>\n",
       "    </tr>\n",
       "  </thead>\n",
       "  <tbody>\n",
       "    <tr>\n",
       "      <th>0</th>\n",
       "      <td>use1</td>\n",
       "      <td>use2</td>\n",
       "      <td>word1</td>\n",
       "      <td>[1]</td>\n",
       "      <td>1.0</td>\n",
       "    </tr>\n",
       "    <tr>\n",
       "      <th>1</th>\n",
       "      <td>use1</td>\n",
       "      <td>use3</td>\n",
       "      <td>word1</td>\n",
       "      <td>[1]</td>\n",
       "      <td>1.0</td>\n",
       "    </tr>\n",
       "    <tr>\n",
       "      <th>2</th>\n",
       "      <td>use2</td>\n",
       "      <td>use3</td>\n",
       "      <td>word1</td>\n",
       "      <td>[4]</td>\n",
       "      <td>4.0</td>\n",
       "    </tr>\n",
       "  </tbody>\n",
       "</table>\n",
       "</div>"
      ],
      "text/plain": [
       "  identifier1 identifier2  lemma judgments  median_judgment\n",
       "0        use1        use2  word1       [1]              1.0\n",
       "1        use1        use3  word1       [1]              1.0\n",
       "2        use2        use3  word1       [4]              4.0"
      ]
     },
     "metadata": {},
     "output_type": "display_data"
    }
   ],
   "source": [
    "import pandas as pd\n",
    "from pathlib import Path\n",
    "import numpy as np\n",
    "\n",
    "# Define data on which models will be fit\n",
    "# big dataset\n",
    "#dataset_path = 'dwug_en'\n",
    "        \n",
    "# small dataset:\n",
    "# one pseudoword, 3 judgments of 1,1,4\n",
    "dataset_path = 'test1'\n",
    "\n",
    "# Load pairwise proximity data\n",
    "df = pd.DataFrame()\n",
    "for p in Path(dataset_path+'/data').glob('*/judgments.csv'):\n",
    "    df = pd.concat([df, pd.read_csv(p, delimiter='\\t')])\n",
    "\n",
    "# Load uses data\n",
    "df_uses = pd.DataFrame()\n",
    "for p in Path(dataset_path+'/data').glob('*/uses.csv'):    \n",
    "    df_uses = pd.concat([df_uses, pd.read_csv(p, delimiter='\\t', quoting=3)])\n",
    "\n",
    "# Replace 0.0 judgments with nan\n",
    "df['judgment'] = df['judgment'].replace(0.0, np.NaN)\n",
    "\n",
    "# Aggregate use pairs and extract median column\n",
    "df = df.groupby(['identifier1', 'identifier2', 'lemma'])['judgment'].apply(list).reset_index(name='judgments')\n",
    "df['median_judgment'] = df['judgments'].apply(lambda x: np.nanmedian(list(x)))\n",
    "\n",
    "# Remove pairs with nan median\n",
    "df = df[~df['median_judgment'].isnull()]\n",
    "display(df)"
   ]
  },
  {
   "cell_type": "markdown",
   "metadata": {},
   "source": [
    "### Make graphs from data"
   ]
  },
  {
   "cell_type": "code",
   "execution_count": 4,
   "metadata": {},
   "outputs": [
    {
     "name": "stdout",
     "output_type": "stream",
     "text": [
      "word1\n",
      "Graph with 2 nodes and 1 edges\n"
     ]
    },
    {
     "data": {
      "image/png": "[encoded data removed]",
      "text/plain": [
       "<Figure size 720x720 with 1 Axes>"
      ]
     },
     "metadata": {},
     "output_type": "display_data"
    }
   ],
   "source": [
    "import networkx as nx\n",
    "from networkx.drawing.nx_agraph import graphviz_layout\n",
    "import matplotlib.pyplot as plt\n",
    "\n",
    "def draw_graph(graph, is_weighted=False, blocks=None):\n",
    "    \n",
    "    if blocks is None:        \n",
    "       blocks = [0 for node in graph.nodes()] \n",
    "    \n",
    "    fig = plt.figure(1, figsize=(12, 12), dpi=60)\n",
    "\n",
    "    if is_weighted:\n",
    "    \n",
    "        edges = graph.edges()\n",
    "        weights = [graph[i][j]['weight'] for (i,j) in graph.edges()]\n",
    "\n",
    "        # Find positions of nodes\n",
    "        graph_pos = graph.copy()\n",
    "        # edge weights are transformed for finding positions, pure weights don't reveal cluster structure in 2D\n",
    "        edges_transformed = [(i,j,graph[i][j]['weight']**5) for (i,j) in graph.edges()]\n",
    "        graph_pos.add_weighted_edges_from(edges_transformed)\n",
    "        #pos = graphviz_layout(graph_pos,prog='sfdp')   \n",
    "        pos=nx.spring_layout(graph_pos)\n",
    "        # Reduce picture size\n",
    "        pos = {node:(p[0]/2,p[1]/2) for (node,p) in pos.items()} \n",
    "\n",
    "        # Draw graph\n",
    "        nx.draw(graph, pos=pos,\n",
    "                node_size=30, \n",
    "                node_color=np.array(colors_global)[blocks],\n",
    "                edgelist=edges,\n",
    "                edge_color=weights, \n",
    "                edge_cmap=plt.cm.Greys,\n",
    "                edge_vmin=0.0,\n",
    "                edge_vmax=4.0\n",
    "               )\n",
    "    \n",
    "    else:\n",
    "        nx.draw(graph, node_size=30, node_color=np.array(colors_global)[blocks])\n",
    "\n",
    "\n",
    "is_weighted = False\n",
    "\n",
    "# Prepare the data\n",
    "# Group by lemma\n",
    "gb = df.groupby('lemma')    \n",
    "groups = gb.groups\n",
    "\n",
    "gb_uses = df_uses.groupby('lemma')    \n",
    "groups_uses = gb_uses.groups\n",
    "\n",
    "# fit separately for each lemma\n",
    "target2graph = {}\n",
    "for word in groups.keys():\n",
    "    # For testing, comment for run on full data set\n",
    "    if not word in ['graft_nn', 'word1']:\n",
    "        continue\n",
    "    print(word)\n",
    "    df_group = gb.get_group(word)\n",
    "    df_uses_group = gb_uses.get_group(word)\n",
    "    graph = nx.Graph()\n",
    "    graph.add_nodes_from(df_uses_group['identifier'])\n",
    "    \n",
    "    if is_weighted:\n",
    "        \n",
    "        # Add edge data to graph\n",
    "        edges = list(zip(*[df_group['identifier1'], df_group['identifier2'], df_group['median_judgment']]))\n",
    "        weights = list(df_group['median_judgment'])\n",
    "        graph.add_weighted_edges_from(edges)\n",
    "        \n",
    "        # we remove isolated nodes\n",
    "        graph.remove_nodes_from(list(nx.isolates(graph)))\n",
    "        \n",
    "        # Draw graph\n",
    "        draw_graph(graph, is_weighted=is_weighted)\n",
    "        \n",
    "    else:\n",
    "        # Remove use pairs below threshold for reasonable binarization\n",
    "        df_group = df_group[df_group['median_judgment'] >= 2.5]  \n",
    "        \n",
    "        # Add edge data to graph\n",
    "        edges = list(zip(*[df_group['identifier1'], df_group['identifier2']]))\n",
    "        graph.add_edges_from(edges)\n",
    "        \n",
    "        # we remove isolated nodes\n",
    "        graph.remove_nodes_from(list(nx.isolates(graph)))\n",
    "        \n",
    "        # Draw graph\n",
    "        draw_graph(graph, is_weighted=is_weighted)\n",
    "        \n",
    "    target2graph[word] = graph\n",
    "    print(graph)"
   ]
  },
  {
   "cell_type": "markdown",
   "metadata": {},
   "source": [
    "### Stochastic Block Model\n",
    "\n",
    "- aims to put nodes with similar edge connectivity patterns into the same block (cluster)\n",
    "- does not handle edge weights\n",
    "- reference: Aicher et al., https://arxiv.org/abs/1404.0431\n",
    "\n",
    "- source of code below: https://github.com/pymc-devs/pymc/issues/1063\n",
    "     - categorical distribution: https://docs.pymc.io/en/latest/api/distributions/generated/pymc.Categorical.html\n",
    "- alternative implementation: https://discourse.pymc.io/t/model-works-with-nuts-prior-predictive-but-not-with-smc/9585    "
   ]
  },
  {
   "cell_type": "markdown",
   "metadata": {},
   "source": [
    "#### Model definition\n",
    "\n",
    "##### Likelihood\n",
    "$\\Pr(A \\, | \\, z,\\theta) = \\prod_{ij} \\theta_{z_i z_j}^{A_{ij}} \\left(1-\\theta_{z_i z_j}\\right)^{1-A_{ij}} \\enspace $"
   ]
  },
  {
   "cell_type": "code",
   "execution_count": 6,
   "metadata": {
    "scrolled": false
   },
   "outputs": [
    {
     "name": "stderr",
     "output_type": "stream",
     "text": [
      "<ipython-input-6-94593fa05825>:63: FutureWarning: In v4.0, pm.sample will return an `arviz.InferenceData` object instead of a `MultiTrace` by default. You can pass return_inferencedata=True or return_inferencedata=False to be safe and silence this warning.\n",
      "  trace = pm.sample(5000)\n",
      "Multiprocess sampling (4 chains in 4 jobs)\n",
      "CompoundStep\n",
      ">NUTS: [edgeprob, blockprob]\n",
      ">BinaryGibbsMetropolis: [blockmembership]\n"
     ]
    },
    {
     "data": {
      "text/html": [
       "\n",
       "    <div>\n",
       "        <style>\n",
       "            /* Turns off some styling */\n",
       "            progress {\n",
       "                /* gets rid of default border in Firefox and Opera. */\n",
       "                border: none;\n",
       "                /* Needs to be in here for Safari polyfill so background images work as expected. */\n",
       "                background-size: auto;\n",
       "            }\n",
       "            .progress-bar-interrupted, .progress-bar-interrupted::-webkit-progress-bar {\n",
       "                background: #F44336;\n",
       "            }\n",
       "        </style>\n",
       "      <progress value='24000' class='' max='24000' style='width:300px; height:20px; vertical-align: middle;'></progress>\n",
       "      100.00% [24000/24000 00:15<00:00 Sampling 4 chains, 0 divergences]\n",
       "    </div>\n",
       "    "
      ],
      "text/plain": [
       "<IPython.core.display.HTML object>"
      ]
     },
     "metadata": {},
     "output_type": "display_data"
    },
    {
     "name": "stderr",
     "output_type": "stream",
     "text": [
      "Sampling 4 chains for 1_000 tune and 5_000 draw iterations (4_000 + 20_000 draws total) took 16 seconds.\n"
     ]
    },
    {
     "data": {
      "image/png": "[encoded data removed]",
      "text/plain": [
       "<Figure size 720x720 with 1 Axes>"
      ]
     },
     "metadata": {},
     "output_type": "display_data"
    }
   ],
   "source": [
    "import pymc3 as pm\n",
    "#print(pm.__version__)\n",
    "import numpy as np\n",
    "#print(np.__version__)\n",
    "import matplotlib.pyplot as plt\n",
    "import arviz as az\n",
    "import theano.tensor as tt\n",
    "from collections import defaultdict, Counter\n",
    "\n",
    "for word, graph in target2graph.items():\n",
    "\n",
    "    # Number of blocks\n",
    "    k = 2\n",
    "    # Number of nodes\n",
    "    num_nodes = len(graph)\n",
    "\n",
    "    # Return the indices (as tuple of two arrays) for the \n",
    "    # upper-triangle of an (n, n) array.\n",
    "    triu_indices = np.triu_indices(num_nodes)\n",
    "    # convert to adjacency matrix\n",
    "    # as graph is undirected, we just need the upper triangular part\n",
    "    A_obs = nx.to_numpy_array(graph)[triu_indices]\n",
    "\n",
    "    # Define model\n",
    "    model = pm.Model()\n",
    "    with model:\n",
    "        # sample probabilities of belonging to each block\n",
    "        blockprob = pm.Dirichlet('blockprob', a=np.ones(k), shape=(k,))\n",
    "        \n",
    "        # for each node, sample a block\n",
    "        blockmembership = pm.Categorical('blockmembership', p=blockprob, shape=(num_nodes,))\n",
    "        \n",
    "        # for each pair of blocks i j, sample a probability\n",
    "        # of having an edge between i and j\n",
    "        edgeprob = pm.Beta('edgeprob', alpha=1, beta=1, shape=(k, k))\n",
    "\n",
    "        # parameters to sample the adjacency matrix\n",
    "        # nodepair_edgeprob[i, j] = edgeprob[blockmembership[i], blockmembership[j]]\n",
    "        # is the parameter corresponding to A[i, j]\n",
    "        # restrict to the upper triangle, return as a one-dimensional array\n",
    "        nodepair_edgeprob = edgeprob[(blockmembership.reshape((num_nodes,1)),\n",
    "                              blockmembership.reshape((1, num_nodes)))][triu_indices]\n",
    "        \n",
    "        # diagonal set to 0.0??, done because there are no self-loops\n",
    "        #tt.set_subtensor(p[np.diag_indices(n)], 0.)\n",
    "\n",
    "        # sample an adjacency matrix using these probabilities\n",
    "        adjacency = pm.Bernoulli('adjacency', p=nodepair_edgeprob, shape=A_obs.shape, observed=A_obs) \n",
    "        # check A_obs[0].shape!\n",
    "        \n",
    "        #print(z.distribution.dist())\n",
    "        #print(dir(z.distribution))\n",
    "        \n",
    "\n",
    "    # Display model structure\n",
    "    #display(model.model)\n",
    "\n",
    "    # Generate plate diagram\n",
    "    #display(pm.model_to_graphviz(model))\n",
    "         \n",
    "    # Fit model\n",
    "    with model:\n",
    "        trace = pm.sample(5000)\n",
    "\n",
    "    #print(trace.posterior)  \n",
    "    \n",
    "    # Get posterior samples per block parameter\n",
    "    # old code\n",
    "    #parameter2samples = defaultdict(lambda:[])\n",
    "    #for chain in trace.posterior['blockmembership']:\n",
    "    #    #print(chain)\n",
    "    #    for draw in chain:\n",
    "    #        #print(draw)\n",
    "    #        for i, parameter_value in enumerate(draw):\n",
    "    #            #print(int(parameter_value))\n",
    "    #            parameter2samples[i].append(int(parameter_value))\n",
    "                \n",
    "    # Get posterior samples per block parameter\n",
    "    parameter2samples = {i:list(trace[\"blockmembership\"][::, i]) for i in range(num_nodes)}\n",
    "\n",
    "    # Plot posterior distribution per block parameter\n",
    "    blocks = []\n",
    "    for i, p in parameter2samples.items():\n",
    "        #print(i, p)\n",
    "        #freqs, bins, _ = plt.hist(p)\n",
    "        #plt.title(f\"parameter z{i}\")\n",
    "        #plt.show()\n",
    "        #plt.close() \n",
    "        #print(f\"parameter z{i}\", freqs) \n",
    "        # Choose block assignment with maximum posterior probability\n",
    "        block = Counter(p).most_common()[0][0]\n",
    "        #print(block)\n",
    "        blocks.append(block)\n",
    "\n",
    "    # For now not very helpful    \n",
    "    '''    \n",
    "    # Plot posterior\n",
    "    az.plot_trace(trace)\n",
    "\n",
    "    # Plot parameter summary table \n",
    "    summary = az.summary(trace)\n",
    "    display(summary)   \n",
    "\n",
    "    # Forest plot showing the mean and 94% HDIs from our posterior approximation\n",
    "    az.plot_forest(trace)\n",
    "    plt.show()\n",
    "    plt.close()    \n",
    "    '''\n",
    "\n",
    "    # Print graph with inferred clusters\n",
    "    n2b = {node:blocks[i] for i, node in enumerate(graph.nodes())}\n",
    "    #print(n2b)\n",
    "    #b2n = {blocks[i]:node for i, node in enumerate(graph.nodes())}\n",
    "    isolates = list(nx.isolates(graph))\n",
    "    nodes_clean = [node for node in graph.nodes() if not node in isolates]\n",
    "    blocks_clean = [block for node, block in n2b.items() if not node in isolates]\n",
    "        \n",
    "        \n",
    "    # Draw graph\n",
    "    draw_graph(graph, is_weighted=is_weighted, blocks = blocks_clean)\n",
    "        \n"
   ]
  },
  {
   "cell_type": "markdown",
   "metadata": {},
   "source": [
    "### Observations\n",
    "- high-degree vertices are placed in one group. This is known behavior and is normally solved with degree-correction (see Aicher et al.)"
   ]
  },
  {
   "cell_type": "code",
   "execution_count": 16,
   "metadata": {},
   "outputs": [
    {
     "name": "stdout",
     "output_type": "stream",
     "text": [
      "4000\n",
      "[[0 0]\n",
      " [1 0]\n",
      " [1 0]\n",
      " ...\n",
      " [0 1]\n",
      " [1 0]\n",
      " [1 0]]\n"
     ]
    }
   ],
   "source": [
    "# Some testing\n",
    "parameter2samples = {i:list(trace[\"blockmembership\"][::5, i]) for i in range(num_nodes)}\n",
    "print(len(trace[\"blockmembership\"][::5, 0]))\n",
    "print(trace[\"blockmembership\"][::])"
   ]
  },
  {
   "cell_type": "markdown",
   "metadata": {},
   "source": [
    "### Weighted Stochastic Block Model\n",
    "\n",
    "- aims to put nodes with similar edge connectivity patterns into the same block (cluster)\n",
    "- does not handle edge weights\n",
    "- reference: Aicher et al., https://arxiv.org/abs/1404.0431\n",
    "\n",
    "- source of code below: https://github.com/pymc-devs/pymc/issues/1063"
   ]
  },
  {
   "cell_type": "markdown",
   "metadata": {},
   "source": [
    "#### Model definition\n",
    "\n",
    "##### Likelihood\n",
    "$\\Pr(A \\, | \\, z,\\theta) = \\prod_{ij} \\theta_{z_i z_j}^{A_{ij}} \\left(1-\\theta_{z_i z_j}\\right)^{1-A_{ij}} \\enspace $\n",
    "\n",
    "Herleitung?\n",
    "\n",
    "$\\Pr(A \\, | \\, z,\\theta) = \\prod_{ij} \\exp\\!\\left( A_{ij} \\cdot \\log\\!\\left(\\frac{\\theta_{z_i z_j}}{1-\\theta_{z_i z_j}}\\right) + \\log\\left(1-\\theta_{z_i z_j}\\right) \\right) \\enspace $"
   ]
  },
  {
   "cell_type": "code",
   "execution_count": null,
   "metadata": {},
   "outputs": [],
   "source": []
  }
 ],
 "metadata": {
  "kernelspec": {
   "display_name": "Python 3",
   "language": "python",
   "name": "python3"
  },
  "language_info": {
   "codemirror_mode": {
    "name": "ipython",
    "version": 3
   },
   "file_extension": ".py",
   "mimetype": "text/x-python",
   "name": "python",
   "nbconvert_exporter": "python",
   "pygments_lexer": "ipython3",
   "version": "3.10.8"
  }
 },
 "nbformat": 4,
 "nbformat_minor": 4
}
