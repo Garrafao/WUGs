{
  "nbformat": 4,
  "nbformat_minor": 0,
  "metadata": {
    "colab": {
      "provenance": [],
      "authorship_tag": "ABX9TyO6TtB9uthUhCIRmYLDm8gC"
    },
    "kernelspec": {
      "name": "python3",
      "display_name": "Python 3"
    },
    "language_info": {
      "name": "python"
    }
  },
  "cells": [
    {
      "cell_type": "code",
      "execution_count": 26,
      "metadata": {
        "colab": {
          "base_uri": "https://localhost:8080/"
        },
        "id": "zASMJ4H54r0-",
        "outputId": "dd224d54-2653-41cb-d6b7-ef72becab212"
      },
      "outputs": [
        {
          "output_type": "stream",
          "name": "stdout",
          "text": [
            "--2023-05-21 06:37:39--  https://pilehvar.github.io/wic/package/WiC_dataset.zip\n",
            "Resolving pilehvar.github.io (pilehvar.github.io)... 185.199.108.153, 185.199.109.153, 185.199.110.153, ...\n",
            "Connecting to pilehvar.github.io (pilehvar.github.io)|185.199.108.153|:443... connected.\n",
            "HTTP request sent, awaiting response... 200 OK\n",
            "Length: 275984 (270K) [application/zip]\n",
            "Saving to: ‘WiC_dataset.zip.1’\n",
            "\n",
            "\rWiC_dataset.zip.1     0%[                    ]       0  --.-KB/s               \rWiC_dataset.zip.1   100%[===================>] 269.52K  --.-KB/s    in 0.005s  \n",
            "\n",
            "2023-05-21 06:37:39 (49.5 MB/s) - ‘WiC_dataset.zip.1’ saved [275984/275984]\n",
            "\n"
          ]
        }
      ],
      "source": [
        "!wget https://pilehvar.github.io/wic/package/WiC_dataset.zip"
      ]
    },
    {
      "cell_type": "code",
      "source": [
        "import pandas as pd\n",
        "import numpy as np\n",
        "import os\n",
        "import io\n",
        "import spacy\n",
        "nlp = spacy.load(\"en_core_web_sm\")"
      ],
      "metadata": {
        "id": "aNQkbcRaC6B5"
      },
      "execution_count": 27,
      "outputs": []
    },
    {
      "cell_type": "code",
      "source": [
        "directory = os.makedirs( '/content/WIC_data', exist_ok=True )"
      ],
      "metadata": {
        "id": "5WhCmopMAQ86"
      },
      "execution_count": 28,
      "outputs": []
    },
    {
      "cell_type": "code",
      "source": [
        "dev = os.makedirs( '/content/WIC/dev', exist_ok=True )\n",
        "train = os.makedirs( '/content/WIC/train', exist_ok=True )\n",
        "test = os.makedirs( '/content/WIC/test', exist_ok=True )\n"
      ],
      "metadata": {
        "id": "PU7JiunOJINI"
      },
      "execution_count": 29,
      "outputs": []
    },
    {
      "cell_type": "code",
      "source": [
        "#path = \"/content/dev/dev.data.txt\""
      ],
      "metadata": {
        "id": "vQtjXRG1zOL8"
      },
      "execution_count": 30,
      "outputs": []
    },
    {
      "cell_type": "code",
      "source": [
        "#directory = path.split('/')[2]"
      ],
      "metadata": {
        "id": "xxBg-7aPzSKB"
      },
      "execution_count": 31,
      "outputs": []
    },
    {
      "cell_type": "code",
      "source": [
        "!pip install spacy  "
      ],
      "metadata": {
        "colab": {
          "base_uri": "https://localhost:8080/"
        },
        "id": "SyIzMi43Nl8M",
        "outputId": "cbf52f14-86c7-4305-f6f2-eee538173735"
      },
      "execution_count": 32,
      "outputs": [
        {
          "output_type": "stream",
          "name": "stdout",
          "text": [
            "Looking in indexes: https://pypi.org/simple, https://us-python.pkg.dev/colab-wheels/public/simple/\n",
            "Requirement already satisfied: spacy in /usr/local/lib/python3.10/dist-packages (3.5.2)\n",
            "Requirement already satisfied: spacy-legacy<3.1.0,>=3.0.11 in /usr/local/lib/python3.10/dist-packages (from spacy) (3.0.12)\n",
            "Requirement already satisfied: spacy-loggers<2.0.0,>=1.0.0 in /usr/local/lib/python3.10/dist-packages (from spacy) (1.0.4)\n",
            "Requirement already satisfied: murmurhash<1.1.0,>=0.28.0 in /usr/local/lib/python3.10/dist-packages (from spacy) (1.0.9)\n",
            "Requirement already satisfied: cymem<2.1.0,>=2.0.2 in /usr/local/lib/python3.10/dist-packages (from spacy) (2.0.7)\n",
            "Requirement already satisfied: preshed<3.1.0,>=3.0.2 in /usr/local/lib/python3.10/dist-packages (from spacy) (3.0.8)\n",
            "Requirement already satisfied: thinc<8.2.0,>=8.1.8 in /usr/local/lib/python3.10/dist-packages (from spacy) (8.1.9)\n",
            "Requirement already satisfied: wasabi<1.2.0,>=0.9.1 in /usr/local/lib/python3.10/dist-packages (from spacy) (1.1.1)\n",
            "Requirement already satisfied: srsly<3.0.0,>=2.4.3 in /usr/local/lib/python3.10/dist-packages (from spacy) (2.4.6)\n",
            "Requirement already satisfied: catalogue<2.1.0,>=2.0.6 in /usr/local/lib/python3.10/dist-packages (from spacy) (2.0.8)\n",
            "Requirement already satisfied: typer<0.8.0,>=0.3.0 in /usr/local/lib/python3.10/dist-packages (from spacy) (0.7.0)\n",
            "Requirement already satisfied: pathy>=0.10.0 in /usr/local/lib/python3.10/dist-packages (from spacy) (0.10.1)\n",
            "Requirement already satisfied: smart-open<7.0.0,>=5.2.1 in /usr/local/lib/python3.10/dist-packages (from spacy) (6.3.0)\n",
            "Requirement already satisfied: tqdm<5.0.0,>=4.38.0 in /usr/local/lib/python3.10/dist-packages (from spacy) (4.65.0)\n",
            "Requirement already satisfied: numpy>=1.15.0 in /usr/local/lib/python3.10/dist-packages (from spacy) (1.22.4)\n",
            "Requirement already satisfied: requests<3.0.0,>=2.13.0 in /usr/local/lib/python3.10/dist-packages (from spacy) (2.27.1)\n",
            "Requirement already satisfied: pydantic!=1.8,!=1.8.1,<1.11.0,>=1.7.4 in /usr/local/lib/python3.10/dist-packages (from spacy) (1.10.7)\n",
            "Requirement already satisfied: jinja2 in /usr/local/lib/python3.10/dist-packages (from spacy) (3.1.2)\n",
            "Requirement already satisfied: setuptools in /usr/local/lib/python3.10/dist-packages (from spacy) (67.7.2)\n",
            "Requirement already satisfied: packaging>=20.0 in /usr/local/lib/python3.10/dist-packages (from spacy) (23.1)\n",
            "Requirement already satisfied: langcodes<4.0.0,>=3.2.0 in /usr/local/lib/python3.10/dist-packages (from spacy) (3.3.0)\n",
            "Requirement already satisfied: typing-extensions>=4.2.0 in /usr/local/lib/python3.10/dist-packages (from pydantic!=1.8,!=1.8.1,<1.11.0,>=1.7.4->spacy) (4.5.0)\n",
            "Requirement already satisfied: urllib3<1.27,>=1.21.1 in /usr/local/lib/python3.10/dist-packages (from requests<3.0.0,>=2.13.0->spacy) (1.26.15)\n",
            "Requirement already satisfied: certifi>=2017.4.17 in /usr/local/lib/python3.10/dist-packages (from requests<3.0.0,>=2.13.0->spacy) (2022.12.7)\n",
            "Requirement already satisfied: charset-normalizer~=2.0.0 in /usr/local/lib/python3.10/dist-packages (from requests<3.0.0,>=2.13.0->spacy) (2.0.12)\n",
            "Requirement already satisfied: idna<4,>=2.5 in /usr/local/lib/python3.10/dist-packages (from requests<3.0.0,>=2.13.0->spacy) (3.4)\n",
            "Requirement already satisfied: blis<0.8.0,>=0.7.8 in /usr/local/lib/python3.10/dist-packages (from thinc<8.2.0,>=8.1.8->spacy) (0.7.9)\n",
            "Requirement already satisfied: confection<1.0.0,>=0.0.1 in /usr/local/lib/python3.10/dist-packages (from thinc<8.2.0,>=8.1.8->spacy) (0.0.4)\n",
            "Requirement already satisfied: click<9.0.0,>=7.1.1 in /usr/local/lib/python3.10/dist-packages (from typer<0.8.0,>=0.3.0->spacy) (8.1.3)\n",
            "Requirement already satisfied: MarkupSafe>=2.0 in /usr/local/lib/python3.10/dist-packages (from jinja2->spacy) (2.1.2)\n"
          ]
        }
      ]
    },
    {
      "cell_type": "code",
      "source": [
        "from zipfile import ZipFile\n",
        "with ZipFile('WiC_dataset.zip', 'r') as WiC:\n",
        "   WiC.extractall('/content/WiC_data')"
      ],
      "metadata": {
        "id": "U21Til5c5CnA"
      },
      "execution_count": 33,
      "outputs": []
    },
    {
      "cell_type": "code",
      "source": [
        "ds = os.listdir('/content/WiC_data')"
      ],
      "metadata": {
        "id": "eFcviWmS3saH"
      },
      "execution_count": 34,
      "outputs": []
    },
    {
      "cell_type": "code",
      "source": [
        "ds.remove('README.txt')"
      ],
      "metadata": {
        "id": "nCdIytsf7F87"
      },
      "execution_count": 36,
      "outputs": []
    },
    {
      "cell_type": "code",
      "source": [
        "pathss = []\n",
        "for i in ds:\n",
        "  pathss.append('/content/WiC_data/' + i + '/' + i+'.data.txt')\n"
      ],
      "metadata": {
        "id": "A9unNJtRB9NA"
      },
      "execution_count": 37,
      "outputs": []
    },
    {
      "cell_type": "code",
      "source": [
        "path_jud = []\n",
        "for i in ds:\n",
        "  path_jud.append('/content/WiC_data/' + i + '/' + i+'.gold.txt')"
      ],
      "metadata": {
        "id": "s_hVKk_87Oyd"
      },
      "execution_count": 38,
      "outputs": []
    },
    {
      "cell_type": "code",
      "source": [
        "df_all = pd.DataFrame()\n",
        "for i in pathss:\n",
        "  df_3 = pd.read_csv(i, sep = '\\t', names=[\"lemma\", \"pos\", \"index\", \"sent1\", \"sent2\"], encoding = 'UTF-8')\n",
        "  df_3['dataset'] = i.split('/')[3]\n",
        "  df_all = pd.concat([df_all, df_3])"
      ],
      "metadata": {
        "id": "5MHbaruW5enp"
      },
      "execution_count": 39,
      "outputs": []
    },
    {
      "cell_type": "code",
      "source": [
        "df_all_labels = pd.DataFrame()\n",
        "for i in path_jud:\n",
        "  tmp = pd.read_csv(i, sep = '\\t', names = ['judgment'], encoding = 'UTF-8')\n",
        "  tmp['dataset'] = i.split('/')[3]\n",
        "  df_all_labels = pd.concat([df_all_labels, tmp])"
      ],
      "metadata": {
        "id": "SFeVzJy_7Znz"
      },
      "execution_count": 40,
      "outputs": []
    },
    {
      "cell_type": "code",
      "source": [
        "x= df_all['index'].tolist()\n"
      ],
      "metadata": {
        "id": "7UShtKK95Sdo"
      },
      "execution_count": 42,
      "outputs": []
    },
    {
      "cell_type": "code",
      "source": [
        "df_dash = df_all[['lemma', 'sent1', 'sent2', 'dataset']]"
      ],
      "metadata": {
        "id": "vLI1oPkw1Rii"
      },
      "execution_count": 43,
      "outputs": []
    },
    {
      "cell_type": "code",
      "source": [
        "df1 = df_dash[['lemma', 'sent1', 'dataset']]\n",
        "df1.columns =  ['word', 'sent', 'dataset']\n",
        "df1[\"index\"] = df1.groupby(\"word\").cumcount()*2"
      ],
      "metadata": {
        "id": "-ANHu2jj1YZ8"
      },
      "execution_count": 44,
      "outputs": []
    },
    {
      "cell_type": "code",
      "source": [
        "df2 =  df_dash[['lemma', 'sent2', 'dataset']]\n",
        "df2.columns =  ['word', 'sent', 'dataset']\n",
        "df2[\"index\"] = df2.groupby(\"word\").cumcount()*2+1"
      ],
      "metadata": {
        "id": "8ENUewpV5lH-"
      },
      "execution_count": 45,
      "outputs": []
    },
    {
      "cell_type": "code",
      "source": [
        "df_final = pd.concat([df1, df2])\n",
        "df_final= df_final.sort_values(by = ['word', 'index'], ascending = [True, True]) "
      ],
      "metadata": {
        "id": "npdDVwrR5w_5"
      },
      "execution_count": 46,
      "outputs": []
    },
    {
      "cell_type": "code",
      "source": [
        "df_final[\"identifier\"] = df_final[\"word\"]+\"-\"+df_final[\"index\"].astype(str)\n"
      ],
      "metadata": {
        "id": "64T1JBGB6BGP"
      },
      "execution_count": 47,
      "outputs": []
    },
    {
      "cell_type": "code",
      "source": [
        "df_odd = df_final[1::2]\n",
        "df_odd.columns = [\"word2\", \"sent2\", 'dataset1',\"index2\", \"identifier2\"]\n",
        "df_even = df_final[::2]\n",
        "df_even.columns = [\"word1\", \"sent1\", 'dataset2', \"index1\", \"identifier1\"]\n",
        "df_final_ = pd.concat([df_even, df_odd], axis=1)\n"
      ],
      "metadata": {
        "id": "RlOUbrv86eCw"
      },
      "execution_count": 55,
      "outputs": []
    },
    {
      "cell_type": "code",
      "source": [
        "df_final_ = df_final_[[\"word2\", \"sent2\", \"identifier2\", \"sent1\", \"identifier1\", 'dataset1','index1', 'index2']]\n",
        "df_final_ = df_final_.rename(columns={\"word2\":\"lemma\"})\n"
      ],
      "metadata": {
        "id": "rr-ckvAc6q6y"
      },
      "execution_count": 56,
      "outputs": []
    },
    {
      "cell_type": "code",
      "source": [
        "df_final_[\"judgment\"] = df_all_labels[\"judgment\"].values.tolist()"
      ],
      "metadata": {
        "id": "rOw5QTJR63HD"
      },
      "execution_count": 58,
      "outputs": []
    },
    {
      "cell_type": "code",
      "source": [
        "df_final_ = df_final_[['lemma', 'identifier2', 'identifier1', 'judgment', 'dataset1']]"
      ],
      "metadata": {
        "id": "7ocKdC-Z7OXC"
      },
      "execution_count": 60,
      "outputs": []
    },
    {
      "cell_type": "code",
      "source": [
        "df_final_[\"annotator\"] = \"gold\"\n",
        "df_final_['comment'] = \" \""
      ],
      "metadata": {
        "id": "p5-qiLq37jzm",
        "colab": {
          "base_uri": "https://localhost:8080/"
        },
        "outputId": "acd39416-478b-456f-cb3f-697051e0b223"
      },
      "execution_count": 62,
      "outputs": [
        {
          "output_type": "stream",
          "name": "stderr",
          "text": [
            "<ipython-input-62-9f1458d95f3a>:1: SettingWithCopyWarning: \n",
            "A value is trying to be set on a copy of a slice from a DataFrame.\n",
            "Try using .loc[row_indexer,col_indexer] = value instead\n",
            "\n",
            "See the caveats in the documentation: https://pandas.pydata.org/pandas-docs/stable/user_guide/indexing.html#returning-a-view-versus-a-copy\n",
            "  df_final_[\"annotator\"] = \"gold\"\n",
            "<ipython-input-62-9f1458d95f3a>:2: SettingWithCopyWarning: \n",
            "A value is trying to be set on a copy of a slice from a DataFrame.\n",
            "Try using .loc[row_indexer,col_indexer] = value instead\n",
            "\n",
            "See the caveats in the documentation: https://pandas.pydata.org/pandas-docs/stable/user_guide/indexing.html#returning-a-view-versus-a-copy\n",
            "  df_final_['comment'] = \" \"\n"
          ]
        }
      ]
    },
    {
      "cell_type": "code",
      "source": [
        "df_final_ = df_final_[[\"identifier1\", \"identifier2\", \"annotator\", \"judgment\", \"comment\", \"lemma\", 'dataset1']]"
      ],
      "metadata": {
        "id": "2BW6UdCn7snM"
      },
      "execution_count": 64,
      "outputs": []
    },
    {
      "cell_type": "code",
      "source": [
        "df_final_ = df_final_.reset_index(drop =True)"
      ],
      "metadata": {
        "id": "Rlq5vTgr76Xe"
      },
      "execution_count": 65,
      "outputs": []
    },
    {
      "cell_type": "code",
      "source": [
        "ind1 = []\n",
        "ind2 = []\n",
        "for i in x:\n",
        "    ind1.append(i.split('-')[0])\n",
        "    ind2.append(i.split('-')[1])"
      ],
      "metadata": {
        "id": "ViTntw-4GRaD"
      },
      "execution_count": 67,
      "outputs": []
    },
    {
      "cell_type": "code",
      "source": [
        "df_all.loc[:,'ind1'] = ind1\n",
        "df_all.loc[:,'ind2'] = ind2\n"
      ],
      "metadata": {
        "id": "HqWbHmIGGzQU"
      },
      "execution_count": 68,
      "outputs": []
    },
    {
      "cell_type": "code",
      "source": [
        "df1 = df_all[['lemma', 'pos', 'sent1', 'ind1', 'dataset']]\n",
        "df1.columns =  ['lemma','pos', 'context_tokenized','ind', 'dataset']\n"
      ],
      "metadata": {
        "id": "YUtnwQu9F8ZD"
      },
      "execution_count": 70,
      "outputs": []
    },
    {
      "cell_type": "code",
      "source": [
        "df2 = df_all[['lemma', 'pos', 'sent2', 'ind2', 'dataset']]\n",
        "df2.columns =  ['lemma','pos', 'context_tokenized','ind', 'dataset']"
      ],
      "metadata": {
        "id": "3f_E_QijHH4X"
      },
      "execution_count": 71,
      "outputs": []
    },
    {
      "cell_type": "code",
      "source": [
        "df_final_uses = pd.concat([df1, df2])\n",
        "df_final_uses = df_final_uses.sort_values(by = ['lemma'], ascending = True)\n"
      ],
      "metadata": {
        "id": "A4nAuBb7Kbmi"
      },
      "execution_count": 73,
      "outputs": []
    },
    {
      "cell_type": "code",
      "source": [
        "df_final_uses = df_final_uses.reset_index(drop =True)"
      ],
      "metadata": {
        "id": "6s47rUQm873_"
      },
      "execution_count": 74,
      "outputs": []
    },
    {
      "cell_type": "code",
      "source": [
        "def get_indice(sent, indice):\n",
        "  tag = ''\n",
        "  indice = int(indice)\n",
        "  tok = sent.split(\" \")\n",
        "  #print(tok)\n",
        "  for i in range(len(tok)):\n",
        "    if i == indice:\n",
        "      tag = tok[i]\n",
        "  return str(sent.find(tag))+\":\"+str(sent.find(tag)+len(tag))"
      ],
      "metadata": {
        "id": "unW1QgHvNMle"
      },
      "execution_count": 76,
      "outputs": []
    },
    {
      "cell_type": "code",
      "source": [
        "df_final_uses[\"indexes_target_token\"] = df_final_uses.apply(lambda x: get_indice(x.context_tokenized, x.ind), axis=1)\n"
      ],
      "metadata": {
        "id": "bsgDiCA4VfBM"
      },
      "execution_count": 78,
      "outputs": []
    },
    {
      "cell_type": "code",
      "source": [
        "def get_indices_of_sent(sentence):\n",
        "    return \"0:\"+str(len(sentence))"
      ],
      "metadata": {
        "id": "KdfdHVEMtid9"
      },
      "execution_count": 79,
      "outputs": []
    },
    {
      "cell_type": "code",
      "source": [
        "df_final_uses[\"indexes_target_sentence\"] = df_final_uses[\"context_tokenized\"].apply(get_indices_of_sent)"
      ],
      "metadata": {
        "id": "_5jXzydPujr9"
      },
      "execution_count": 80,
      "outputs": []
    },
    {
      "cell_type": "code",
      "source": [
        "def get_len_tok(sentence):\n",
        "  return \"0:\"+str(len(sentence.split(\" \")))"
      ],
      "metadata": {
        "id": "s6_TKjfTu_Xz"
      },
      "execution_count": 81,
      "outputs": []
    },
    {
      "cell_type": "code",
      "source": [
        "df_final_uses['indexes_target_sentence_tokenized'] = df_final_uses[\"context_tokenized\"].apply(get_len_tok)\n"
      ],
      "metadata": {
        "id": "UR4qpS2vumQ2"
      },
      "execution_count": 82,
      "outputs": []
    },
    {
      "cell_type": "code",
      "source": [
        "lem = ''\n",
        "def lemmatizr(sent):\n",
        "  doc = nlp(sent)\n",
        "  for i in doc:\n",
        "    lem += i.lemma_\n",
        "    return lem"
      ],
      "metadata": {
        "id": "NxwyUqX0vS2t"
      },
      "execution_count": 83,
      "outputs": []
    },
    {
      "cell_type": "code",
      "source": [
        "df_final_uses['context_lemmatized'] = df_final_uses[\"context_tokenized\"].apply(lambda row: \" \".join([w.lemma_ for w in nlp(row)]))"
      ],
      "metadata": {
        "id": "Ru8yyJVexlq1"
      },
      "execution_count": 84,
      "outputs": []
    },
    {
      "cell_type": "code",
      "source": [
        "df_final_uses[\"index\"] = df_final_uses.groupby(\"lemma\").cumcount()"
      ],
      "metadata": {
        "id": "hw3iFPaxBl3h"
      },
      "execution_count": 85,
      "outputs": []
    },
    {
      "cell_type": "code",
      "source": [
        "df_final_uses['context_pos'] = df_final_uses[\"context_tokenized\"].apply(lambda row: \" \".join([w.pos_ for w in nlp(row)]))"
      ],
      "metadata": {
        "id": "S76RLldcZ1k4"
      },
      "execution_count": 87,
      "outputs": []
    },
    {
      "cell_type": "code",
      "source": [
        "df_final_uses['date'] = \" \"\n",
        "df_final_uses['grouping'] = 1\n",
        "df_final_uses['description'] = \" \"\n",
        "df_final_uses['context'] = df_final_uses['context_tokenized']\n",
        "#df_final_dev_uses['identifier'] = \"\"\n",
        "df_final_uses['indexes_target_token_tokenized'] = df_final_uses['ind']\n"
      ],
      "metadata": {
        "id": "MLQGcdXCRbzU"
      },
      "execution_count": 89,
      "outputs": []
    },
    {
      "cell_type": "code",
      "source": [
        "df_final_uses = df_final_uses.drop_duplicates().reset_index(drop = True)"
      ],
      "metadata": {
        "id": "aJBMou5pdKO_"
      },
      "execution_count": 90,
      "outputs": []
    },
    {
      "cell_type": "code",
      "source": [
        "df_final_uses[\"identifier\"] = df_final_uses[\"lemma\"]+\"-\"+df_final_uses[\"index\"].astype(str)"
      ],
      "metadata": {
        "id": "-6xNClgodJVI"
      },
      "execution_count": 92,
      "outputs": []
    },
    {
      "cell_type": "code",
      "source": [
        "final_df = df_final_uses[['lemma', 'pos', 'date', 'grouping', 'identifier', 'description', 'context', 'indexes_target_token', 'indexes_target_sentence', 'context_tokenized', 'indexes_target_token_tokenized', 'indexes_target_sentence_tokenized', 'context_lemmatized', 'context_pos', 'dataset']]\n"
      ],
      "metadata": {
        "id": "2O9FfJ9yagcw"
      },
      "execution_count": 98,
      "outputs": []
    },
    {
      "cell_type": "code",
      "source": [
        "!git clone https://github.com/Garrafao/WUGs.git"
      ],
      "metadata": {
        "colab": {
          "base_uri": "https://localhost:8080/"
        },
        "id": "lYeQa_mEJxyg",
        "outputId": "d8956b4d-f04b-43cd-f4a7-805639bddb7d"
      },
      "execution_count": 94,
      "outputs": [
        {
          "output_type": "stream",
          "name": "stdout",
          "text": [
            "Cloning into 'WUGs'...\n",
            "remote: Enumerating objects: 1379, done.\u001b[K\n",
            "remote: Counting objects: 100% (305/305), done.\u001b[K\n",
            "remote: Compressing objects: 100% (143/143), done.\u001b[K\n",
            "remote: Total 1379 (delta 168), reused 275 (delta 149), pack-reused 1074\u001b[K\n",
            "Receiving objects: 100% (1379/1379), 1.79 MiB | 17.46 MiB/s, done.\n",
            "Resolving deltas: 100% (846/846), done.\n"
          ]
        }
      ]
    },
    {
      "cell_type": "code",
      "source": [
        "os.makedirs('/content/WUGs/scripts/misc/data/dwug_en/data/*/', exist_ok=True )"
      ],
      "metadata": {
        "id": "wueVeCgDKKWm"
      },
      "execution_count": 95,
      "outputs": []
    },
    {
      "cell_type": "code",
      "source": [
        "import csv\n",
        "final_df.to_csv('/content/WUGs/scripts/misc/data/dwug_en/data/*/uses.csv', sep='\\t', encoding='utf-8', quoting = csv.QUOTE_NONE, quotechar='')\n"
      ],
      "metadata": {
        "id": "ZtFEzco-JCuA"
      },
      "execution_count": 99,
      "outputs": []
    },
    {
      "cell_type": "code",
      "source": [
        "%run /content/WUGs/scripts/misc/use2normalize.py /content/WUGs/scripts/misc/data/dwug_en/data/*/uses.csv dwug_en output"
      ],
      "metadata": {
        "id": "tl5-d216I5dd"
      },
      "execution_count": null,
      "outputs": []
    },
    {
      "cell_type": "code",
      "source": [
        "final_uses = pd.read_csv('/content/output', delimiter = '\\t',quoting =3)\n"
      ],
      "metadata": {
        "id": "Oqvk7yD_KsHN"
      },
      "execution_count": 101,
      "outputs": []
    },
    {
      "cell_type": "code",
      "source": [
        "final_uses['context_tokenized'] = final_df['context_tokenized']\n",
        "final_uses['pos'] = final_df['pos']\n",
        "final_uses['dataset'] = final_df['dataset']\n",
        "final_uses['grouping'] = final_df['grouping']\n",
        "final_uses['lemma'] = final_df['lemma']\n",
        "final_uses['indexes_target_token_tokenized'] = final_df['indexes_target_token_tokenized']\n",
        "final_uses['indexes_target_sentence_tokenized'] = final_df['indexes_target_sentence_tokenized']\n",
        "final_uses['date'] = \" \"\n",
        "final_uses['description'] = \" \"\n",
        "final_uses['context_lemmatized'] = final_df['context_lemmatized']\n",
        "final_uses['context_pos'] = final_df['context_pos']\n"
      ],
      "metadata": {
        "id": "UCY5M8-ALP_f"
      },
      "execution_count": 102,
      "outputs": []
    },
    {
      "cell_type": "code",
      "source": [
        "final_uses = final_uses[['lemma', 'pos', 'date', 'grouping', 'identifier', 'description', 'context', 'indexes_target_token', 'indexes_target_sentence', 'context_tokenized', 'indexes_target_token_tokenized', 'indexes_target_sentence_tokenized', 'context_lemmatized', 'context_pos', 'dataset']]\n"
      ],
      "metadata": {
        "id": "k3m86CLlMgpR"
      },
      "execution_count": 103,
      "outputs": []
    },
    {
      "cell_type": "code",
      "source": [
        "for i in list(final_uses[\"dataset\"].value_counts().index):\n",
        "    df_temp = final_uses[final_uses[\"dataset\"]==i]\n",
        "    if not os.path.exists(i):\n",
        "        os.mkdir(i)\n",
        "    df_temp.to_csv('/content/WIC/' + i +'/uses.csv',index = False, sep='\\t', encoding='utf-8', quoting=csv.QUOTE_NONE, quotechar = '')"
      ],
      "metadata": {
        "id": "yGZVOY-FIRyh"
      },
      "execution_count": 110,
      "outputs": []
    },
    {
      "cell_type": "code",
      "source": [
        "for i in list(df_final_[\"dataset1\"].value_counts().index):\n",
        "    df_temp = df_final_[df_final_[\"dataset1\"]==i]\n",
        "    if not os.path.exists(i):\n",
        "        os.mkdir(i)\n",
        "    df_temp.to_csv('/content/WIC/' + i +'/judgments.csv',index = False, sep='\\t', encoding='utf-8', quoting=csv.QUOTE_NONE, quotechar = '')"
      ],
      "metadata": {
        "id": "9G6ip5jEJEc1"
      },
      "execution_count": 109,
      "outputs": []
    },
    {
      "cell_type": "code",
      "source": [
        "#c = final_df.context.tolist()"
      ],
      "metadata": {
        "id": "YpxhwSmzbh9E"
      },
      "execution_count": null,
      "outputs": []
    },
    {
      "cell_type": "code",
      "source": [
        "#y = []\n",
        "#for m in c:\n",
        " # y.append(m.split(\" \"))"
      ],
      "metadata": {
        "id": "JfSGw06odNMb"
      },
      "execution_count": null,
      "outputs": []
    },
    {
      "cell_type": "code",
      "source": [
        "#lengthh = []\n",
        "#for i in y:\n",
        " #   lengthh.append(len(i))"
      ],
      "metadata": {
        "id": "oHjCAMVccKuD"
      },
      "execution_count": null,
      "outputs": []
    },
    {
      "cell_type": "code",
      "source": [
        "#final_df.loc[:,'lengthh'] = lengthh"
      ],
      "metadata": {
        "id": "77G-ZeOmcQ5A"
      },
      "execution_count": null,
      "outputs": []
    },
    {
      "cell_type": "code",
      "source": [
        "#d = final_df.context_pos.tolist()"
      ],
      "metadata": {
        "id": "iFAO6ji3ccX9"
      },
      "execution_count": null,
      "outputs": []
    },
    {
      "cell_type": "code",
      "source": [
        "#z = []\n",
        "#for m in d:\n",
        " # z.append(m.split(\" \"))"
      ],
      "metadata": {
        "id": "XOYe_cIAeFS7"
      },
      "execution_count": null,
      "outputs": []
    },
    {
      "cell_type": "code",
      "source": [
        "#lengthh2 = []\n",
        "#for i in z:\n",
        " #   lengthh2.append(len(i))"
      ],
      "metadata": {
        "id": "MclqrUxycgrg"
      },
      "execution_count": null,
      "outputs": []
    },
    {
      "cell_type": "code",
      "source": [
        "#final_df.loc[:,'lengthh2'] = lengthh2"
      ],
      "metadata": {
        "id": "wacseLJ7ckfj"
      },
      "execution_count": null,
      "outputs": []
    },
    {
      "cell_type": "code",
      "source": [],
      "metadata": {
        "id": "CYMtdcQvWuDJ"
      },
      "execution_count": null,
      "outputs": []
    }
  ]
}