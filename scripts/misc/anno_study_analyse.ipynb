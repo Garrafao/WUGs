{
  "nbformat": 4,
  "nbformat_minor": 0,
  "metadata": {
    "colab": {
      "provenance": [],
      "authorship_tag": "ABX9TyNUEmna0NOlXJzeJiKqQzWV"
    },
    "kernelspec": {
      "name": "python3",
      "display_name": "Python 3"
    },
    "language_info": {
      "name": "python"
    }
  },
  "cells": [
    {
      "cell_type": "code",
      "execution_count": null,
      "metadata": {
        "id": "5fQYL5zx5cRh"
      },
      "outputs": [],
      "source": [
        "import requests\n",
        "import warnings\n",
        "\n",
        "warnings.filterwarnings(\"ignore\")\n",
        "\n",
        "import os\n",
        "import numpy as np\n",
        "import pandas as pd\n",
        "import csv\n",
        "from matplotlib import pyplot as plt\n",
        "import seaborn as sns\n",
        "from zipfile import ZipFile\n",
        "\n"
      ]
    },
    {
      "cell_type": "code",
      "source": [
        "from google.colab import drive\n",
        "drive.mount(\"/content/drive\", force_remount=True)"
      ],
      "metadata": {
        "colab": {
          "base_uri": "https://localhost:8080/"
        },
        "id": "QjcWWb4F5j1V",
        "outputId": "caf83779-a963-4341-c89f-4a31ccce5c34"
      },
      "execution_count": null,
      "outputs": [
        {
          "output_type": "stream",
          "name": "stdout",
          "text": [
            "Mounted at /content/drive\n"
          ]
        }
      ]
    },
    {
      "cell_type": "code",
      "source": [
        "path = \"drive/MyDrive/excluded_anno_data/\""
      ],
      "metadata": {
        "id": "dq1zZRKr5luq"
      },
      "execution_count": null,
      "outputs": []
    },
    {
      "cell_type": "markdown",
      "source": [
        "#**Dwug_study_analysis**\n"
      ],
      "metadata": {
        "id": "0DXN9eQd6u6_"
      }
    },
    {
      "cell_type": "code",
      "source": [
        "path_dwug = os.path.join(path, 'dwug_uses/')"
      ],
      "metadata": {
        "id": "B-nn6E1BhNF-"
      },
      "execution_count": null,
      "outputs": []
    },
    {
      "cell_type": "code",
      "source": [
        "dir_list = os.listdir(path_dwug)"
      ],
      "metadata": {
        "id": "dei7b46Z5y9o"
      },
      "execution_count": null,
      "outputs": []
    },
    {
      "cell_type": "code",
      "source": [
        "paths = []\n",
        "for i in dir_list:\n",
        "    paths.append(path_dwug + i)"
      ],
      "metadata": {
        "id": "OfZImFAX55m_"
      },
      "execution_count": null,
      "outputs": []
    },
    {
      "cell_type": "code",
      "source": [
        "fold = []\n",
        "for i in paths:\n",
        "    fold.append(i + '/judgments.csv')"
      ],
      "metadata": {
        "id": "HhG8POcZ5_QD"
      },
      "execution_count": null,
      "outputs": []
    },
    {
      "cell_type": "markdown",
      "source": [
        "#dwug_sv"
      ],
      "metadata": {
        "id": "Kfcdo3f964ru"
      }
    },
    {
      "cell_type": "code",
      "source": [
        "analyse_df_sv = pd.read_csv(fold[0], delimiter='\\t', quoting = 3)"
      ],
      "metadata": {
        "id": "TqssDytl6MZ8"
      },
      "execution_count": null,
      "outputs": []
    },
    {
      "cell_type": "code",
      "source": [
        "analyse_df_sv.annotator.unique().tolist()"
      ],
      "metadata": {
        "colab": {
          "base_uri": "https://localhost:8080/"
        },
        "id": "TxayWXkdsghj",
        "outputId": "77a6e48a-b83a-4115-eaca-c4cb5091c4d9"
      },
      "execution_count": null,
      "outputs": [
        {
          "output_type": "execute_result",
          "data": {
            "text/plain": [
              "['stekade', 'Zori', 'FWetzel']"
            ]
          },
          "metadata": {},
          "execution_count": 115
        }
      ]
    },
    {
      "cell_type": "code",
      "source": [
        "len(analyse_df_sv.index)"
      ],
      "metadata": {
        "colab": {
          "base_uri": "https://localhost:8080/"
        },
        "id": "WWcsnMNT6ZjR",
        "outputId": "1dbaa056-7a30-49b4-9751-393cfb3796a2"
      },
      "execution_count": null,
      "outputs": [
        {
          "output_type": "execute_result",
          "data": {
            "text/plain": [
              "11535"
            ]
          },
          "metadata": {},
          "execution_count": 9
        }
      ]
    },
    {
      "cell_type": "code",
      "source": [
        "all_sv = []\n",
        "for i in range(0,5):\n",
        "  j= (analyse_df_sv[analyse_df_sv[\"judgment\"]==i]).shape[0]\n",
        "  all_sv.append(j)"
      ],
      "metadata": {
        "id": "OOvz71zjeQZv"
      },
      "execution_count": null,
      "outputs": []
    },
    {
      "cell_type": "code",
      "source": [
        "all_sv #no. of judgments with judgment = 0, 1, 2, 3, 4 in same order"
      ],
      "metadata": {
        "colab": {
          "base_uri": "https://localhost:8080/"
        },
        "id": "KabljkCD64fF",
        "outputId": "da054c26-3138-4277-e5fc-0e54e6013599"
      },
      "execution_count": null,
      "outputs": [
        {
          "output_type": "execute_result",
          "data": {
            "text/plain": [
              "[1211, 1516, 2128, 3283, 3397]"
            ]
          },
          "metadata": {},
          "execution_count": 11
        }
      ]
    },
    {
      "cell_type": "code",
      "source": [
        "np.sum(all_sv)"
      ],
      "metadata": {
        "colab": {
          "base_uri": "https://localhost:8080/"
        },
        "id": "hVQQMpfT6e6Q",
        "outputId": "f04afb34-673e-425a-953d-503217db33df"
      },
      "execution_count": null,
      "outputs": [
        {
          "output_type": "execute_result",
          "data": {
            "text/plain": [
              "11535"
            ]
          },
          "metadata": {},
          "execution_count": 12
        }
      ]
    },
    {
      "cell_type": "code",
      "source": [
        "sns.histplot(analyse_df_sv, x=\"judgment\", bins = 5)\n",
        "plt.title('dwug_sv')"
      ],
      "metadata": {
        "colab": {
          "base_uri": "https://localhost:8080/",
          "height": 489
        },
        "id": "YYwXwsJg41dp",
        "outputId": "d116edc8-de7e-44f4-a873-5591cca5d740"
      },
      "execution_count": null,
      "outputs": [
        {
          "output_type": "execute_result",
          "data": {
            "text/plain": [
              "Text(0.5, 1.0, 'dwug_sv')"
            ]
          },
          "metadata": {},
          "execution_count": 13
        },
        {
          "output_type": "display_data",
          "data": {
            "text/plain": [
              "<Figure size 640x480 with 1 Axes>"
            ],
            "image/png": "[encoded data removed]"
          },
          "metadata": {}
        }
      ]
    },
    {
      "cell_type": "markdown",
      "source": [
        "#dwug_en"
      ],
      "metadata": {
        "id": "dP_6tgaCaubj"
      }
    },
    {
      "cell_type": "code",
      "source": [
        "analyse_df_en = pd.read_csv(fold[1], delimiter='\\t', quoting = 3)"
      ],
      "metadata": {
        "id": "oMrxRhgta1-h"
      },
      "execution_count": null,
      "outputs": []
    },
    {
      "cell_type": "code",
      "source": [
        "analyse_df_en.annotator.unique().tolist()"
      ],
      "metadata": {
        "colab": {
          "base_uri": "https://localhost:8080/"
        },
        "id": "hxTGHnWjstzE",
        "outputId": "b8d5a6ca-dea0-4af6-cbe9-520a87c6d24e"
      },
      "execution_count": null,
      "outputs": [
        {
          "output_type": "execute_result",
          "data": {
            "text/plain": [
              "['emmaccaulfield', 'amariac810', 'shur', 'JoshuaC99']"
            ]
          },
          "metadata": {},
          "execution_count": 117
        }
      ]
    },
    {
      "cell_type": "code",
      "source": [
        "len(analyse_df_en.index)"
      ],
      "metadata": {
        "colab": {
          "base_uri": "https://localhost:8080/"
        },
        "id": "8OQG-ZEAa5yU",
        "outputId": "a3adc39a-18ec-4887-9692-f70b07f94447"
      },
      "execution_count": null,
      "outputs": [
        {
          "output_type": "execute_result",
          "data": {
            "text/plain": [
              "12121"
            ]
          },
          "metadata": {},
          "execution_count": 15
        }
      ]
    },
    {
      "cell_type": "code",
      "source": [
        "all_en = []\n",
        "for i in range(0,5):\n",
        "  j= (analyse_df_en[analyse_df_en[\"judgment\"]==i]).shape[0]\n",
        "  all_en.append(j)"
      ],
      "metadata": {
        "id": "bhNRvdw1bg8Y"
      },
      "execution_count": null,
      "outputs": []
    },
    {
      "cell_type": "code",
      "source": [
        "all_en #no. of judgments with judgment = 0, 1, 2, 3, 4 in same order"
      ],
      "metadata": {
        "colab": {
          "base_uri": "https://localhost:8080/"
        },
        "id": "xNIQILI9eHcy",
        "outputId": "972bd1aa-ea2b-4500-a3be-80ab2461faef"
      },
      "execution_count": null,
      "outputs": [
        {
          "output_type": "execute_result",
          "data": {
            "text/plain": [
              "[1152, 1381, 2354, 2156, 5078]"
            ]
          },
          "metadata": {},
          "execution_count": 17
        }
      ]
    },
    {
      "cell_type": "code",
      "source": [
        "np.sum(all_en)"
      ],
      "metadata": {
        "colab": {
          "base_uri": "https://localhost:8080/"
        },
        "id": "8L-p6Y-jevFi",
        "outputId": "de890ddb-a83f-4b14-c814-08cf908a9150"
      },
      "execution_count": null,
      "outputs": [
        {
          "output_type": "execute_result",
          "data": {
            "text/plain": [
              "12121"
            ]
          },
          "metadata": {},
          "execution_count": 18
        }
      ]
    },
    {
      "cell_type": "code",
      "source": [
        "sns.histplot(analyse_df_en, x=\"judgment\", bins = 5)\n",
        "plt.title('dwug_en')"
      ],
      "metadata": {
        "colab": {
          "base_uri": "https://localhost:8080/",
          "height": 489
        },
        "id": "X6mwGE_gbX7E",
        "outputId": "85eb3c69-9c92-4772-a666-d2e49ad432c3"
      },
      "execution_count": null,
      "outputs": [
        {
          "output_type": "execute_result",
          "data": {
            "text/plain": [
              "Text(0.5, 1.0, 'dwug_en')"
            ]
          },
          "metadata": {},
          "execution_count": 19
        },
        {
          "output_type": "display_data",
          "data": {
            "text/plain": [
              "<Figure size 640x480 with 1 Axes>"
            ],
            "image/png": "[encoded data removed]"
          },
          "metadata": {}
        }
      ]
    },
    {
      "cell_type": "markdown",
      "source": [
        "#dwug_de"
      ],
      "metadata": {
        "id": "HmLGifH-fspJ"
      }
    },
    {
      "cell_type": "code",
      "source": [
        "analyse_df_de = pd.read_csv(fold[2], delimiter='\\t', quoting = 3)"
      ],
      "metadata": {
        "id": "rR2OjCr8bbRA"
      },
      "execution_count": null,
      "outputs": []
    },
    {
      "cell_type": "code",
      "source": [
        "analyse_df_de.annotator.unique().tolist()"
      ],
      "metadata": {
        "colab": {
          "base_uri": "https://localhost:8080/"
        },
        "id": "FplTw8M3s1Ec",
        "outputId": "def65a0f-b4b7-4037-cb29-d74905fc44ca"
      },
      "execution_count": null,
      "outputs": [
        {
          "output_type": "execute_result",
          "data": {
            "text/plain": [
              "['katarinalbrekt', 'Tegehall', 'hatsab', 'AngelikaM', 'Magdalena']"
            ]
          },
          "metadata": {},
          "execution_count": 118
        }
      ]
    },
    {
      "cell_type": "code",
      "source": [
        "len(analyse_df_de.index)"
      ],
      "metadata": {
        "colab": {
          "base_uri": "https://localhost:8080/"
        },
        "id": "c7c2T8xGf0KE",
        "outputId": "aebf08be-3247-4af6-bfce-77429fcba66d"
      },
      "execution_count": null,
      "outputs": [
        {
          "output_type": "execute_result",
          "data": {
            "text/plain": [
              "9330"
            ]
          },
          "metadata": {},
          "execution_count": 21
        }
      ]
    },
    {
      "cell_type": "code",
      "source": [
        "all_de = []\n",
        "for i in range(0,5):\n",
        "  j= (analyse_df_de[analyse_df_de[\"judgment\"]==i]).shape[0]\n",
        "  all_de.append(j)"
      ],
      "metadata": {
        "id": "fPfAXqaWf4eP"
      },
      "execution_count": null,
      "outputs": []
    },
    {
      "cell_type": "code",
      "source": [
        "all_de #no. of judgments with judgment = 0, 1, 2, 3, 4 in same order"
      ],
      "metadata": {
        "colab": {
          "base_uri": "https://localhost:8080/"
        },
        "id": "3dhtlR0xgCck",
        "outputId": "f456a3f3-eac9-46eb-c947-ee85e53940e5"
      },
      "execution_count": null,
      "outputs": [
        {
          "output_type": "execute_result",
          "data": {
            "text/plain": [
              "[1014, 1380, 949, 1423, 4564]"
            ]
          },
          "metadata": {},
          "execution_count": 23
        }
      ]
    },
    {
      "cell_type": "code",
      "source": [
        "np.sum(all_de)"
      ],
      "metadata": {
        "colab": {
          "base_uri": "https://localhost:8080/"
        },
        "id": "-CXqKxM-gGqF",
        "outputId": "be655f37-4cf3-43a9-a309-c4f71a5cbc2e"
      },
      "execution_count": null,
      "outputs": [
        {
          "output_type": "execute_result",
          "data": {
            "text/plain": [
              "9330"
            ]
          },
          "metadata": {},
          "execution_count": 24
        }
      ]
    },
    {
      "cell_type": "code",
      "source": [
        "sns.histplot(analyse_df_de, x=\"judgment\", bins = 5)\n",
        "plt.title('dwug_de')"
      ],
      "metadata": {
        "colab": {
          "base_uri": "https://localhost:8080/",
          "height": 489
        },
        "id": "MI-ch18WgNnK",
        "outputId": "ad61d29c-af2d-4890-d37e-e1b66fab133b"
      },
      "execution_count": null,
      "outputs": [
        {
          "output_type": "execute_result",
          "data": {
            "text/plain": [
              "Text(0.5, 1.0, 'dwug_de')"
            ]
          },
          "metadata": {},
          "execution_count": 25
        },
        {
          "output_type": "display_data",
          "data": {
            "text/plain": [
              "<Figure size 640x480 with 1 Axes>"
            ],
            "image/png": "[encoded data removed]"
          },
          "metadata": {}
        }
      ]
    },
    {
      "cell_type": "markdown",
      "source": [
        "#**Resampled_study**"
      ],
      "metadata": {
        "id": "WiPbUE30gl4C"
      }
    },
    {
      "cell_type": "code",
      "source": [
        "path_resam = os.path.join(path, 'resampled/')"
      ],
      "metadata": {
        "id": "lmImVpFmgSrb"
      },
      "execution_count": null,
      "outputs": []
    },
    {
      "cell_type": "code",
      "source": [
        "list_re = os.listdir(path_resam)"
      ],
      "metadata": {
        "id": "vcNH16adiOK-"
      },
      "execution_count": null,
      "outputs": []
    },
    {
      "cell_type": "code",
      "source": [
        "paths_re = []\n",
        "for i in list_re:\n",
        "  paths_re.append(path_resam + i)"
      ],
      "metadata": {
        "id": "hyZ_Cw4-iaEp"
      },
      "execution_count": null,
      "outputs": []
    },
    {
      "cell_type": "code",
      "source": [
        "fold_re = []\n",
        "for i in paths_re:\n",
        "    fold_re.append(i + '/judgments.csv')"
      ],
      "metadata": {
        "id": "nqUnsap2jrfT"
      },
      "execution_count": null,
      "outputs": []
    },
    {
      "cell_type": "markdown",
      "source": [
        "#dwug_sv_resampled"
      ],
      "metadata": {
        "id": "mYIHIZikj88B"
      }
    },
    {
      "cell_type": "code",
      "source": [
        "df_sv_re = pd.read_csv(fold_re[2], delimiter='\\t', quoting = 3)"
      ],
      "metadata": {
        "id": "BajJltbpj5sx"
      },
      "execution_count": null,
      "outputs": []
    },
    {
      "cell_type": "code",
      "source": [
        "df_sv_re.annotator.unique().tolist()"
      ],
      "metadata": {
        "colab": {
          "base_uri": "https://localhost:8080/"
        },
        "id": "DI0iomN7s6_k",
        "outputId": "3cb9197e-521e-4f13-ce95-64b769776b57"
      },
      "execution_count": null,
      "outputs": [
        {
          "output_type": "execute_result",
          "data": {
            "text/plain": [
              "['katarinalbrekt', 'Tegehall', 'AngelikaM', 'hatsab', 'Magdalena']"
            ]
          },
          "metadata": {},
          "execution_count": 119
        }
      ]
    },
    {
      "cell_type": "code",
      "source": [
        "len(df_sv_re.index)"
      ],
      "metadata": {
        "colab": {
          "base_uri": "https://localhost:8080/"
        },
        "id": "lRT84jQCkHHk",
        "outputId": "bd1bc9ef-fb8e-4bf6-b622-5af959760805"
      },
      "execution_count": null,
      "outputs": [
        {
          "output_type": "execute_result",
          "data": {
            "text/plain": [
              "12507"
            ]
          },
          "metadata": {},
          "execution_count": 61
        }
      ]
    },
    {
      "cell_type": "code",
      "source": [
        "count_re_sv = []\n",
        "for i in range(0,5):\n",
        "  j= (df_sv_re[df_sv_re[\"judgment\"]==i]).shape[0]\n",
        "  count_re_sv.append(j)"
      ],
      "metadata": {
        "id": "kQ_xuVE7kKQg"
      },
      "execution_count": null,
      "outputs": []
    },
    {
      "cell_type": "code",
      "source": [
        "count_re_sv  #no. of judgments with judgment = 0, 1, 2, 3, 4 in same order"
      ],
      "metadata": {
        "colab": {
          "base_uri": "https://localhost:8080/"
        },
        "id": "sPKQnbYhkggT",
        "outputId": "2c2ac47c-554d-4788-a3a7-8d1c48c1ee91"
      },
      "execution_count": null,
      "outputs": [
        {
          "output_type": "execute_result",
          "data": {
            "text/plain": [
              "[1919, 3174, 1357, 1779, 4278]"
            ]
          },
          "metadata": {},
          "execution_count": 63
        }
      ]
    },
    {
      "cell_type": "code",
      "source": [
        "np.sum(count_re_sv)"
      ],
      "metadata": {
        "colab": {
          "base_uri": "https://localhost:8080/"
        },
        "id": "a2tn6h6jkhlV",
        "outputId": "70a2217a-a289-40ee-85d8-c9cd46f4299f"
      },
      "execution_count": null,
      "outputs": [
        {
          "output_type": "execute_result",
          "data": {
            "text/plain": [
              "12507"
            ]
          },
          "metadata": {},
          "execution_count": 64
        }
      ]
    },
    {
      "cell_type": "code",
      "source": [
        "sns.histplot(df_sv_re, x=\"judgment\", bins = 5)\n",
        "plt.title('dwug_sv_resampled')"
      ],
      "metadata": {
        "colab": {
          "base_uri": "https://localhost:8080/",
          "height": 489
        },
        "id": "PFAgN6qOkqUv",
        "outputId": "452bf015-29a6-4665-ce2c-5f35eb97eabd"
      },
      "execution_count": null,
      "outputs": [
        {
          "output_type": "execute_result",
          "data": {
            "text/plain": [
              "Text(0.5, 1.0, 'dwug_sv_resampled')"
            ]
          },
          "metadata": {},
          "execution_count": 65
        },
        {
          "output_type": "display_data",
          "data": {
            "text/plain": [
              "<Figure size 640x480 with 1 Axes>"
            ],
            "image/png": "[encoded data removed]"
          },
          "metadata": {}
        }
      ]
    },
    {
      "cell_type": "markdown",
      "source": [
        "#dwug_en_resampled"
      ],
      "metadata": {
        "id": "dDy2ZokUk6-x"
      }
    },
    {
      "cell_type": "code",
      "source": [
        "df_en_re = pd.read_csv(fold_re[0], delimiter='\\t', quoting = 3)"
      ],
      "metadata": {
        "id": "RmC_LyBUlA0d"
      },
      "execution_count": null,
      "outputs": []
    },
    {
      "cell_type": "code",
      "source": [
        "df_en_re.annotator.unique().tolist()"
      ],
      "metadata": {
        "colab": {
          "base_uri": "https://localhost:8080/"
        },
        "id": "01wmg16_s_h1",
        "outputId": "63bd6ef4-b34b-4e6d-815a-c9400dfc654d"
      },
      "execution_count": null,
      "outputs": [
        {
          "output_type": "execute_result",
          "data": {
            "text/plain": [
              "['JoshuaC99', 'emmaccaulfield', 'amariac810', 'shur']"
            ]
          },
          "metadata": {},
          "execution_count": 120
        }
      ]
    },
    {
      "cell_type": "code",
      "source": [
        "len(df_en_re.index)"
      ],
      "metadata": {
        "colab": {
          "base_uri": "https://localhost:8080/"
        },
        "id": "jUvmZADQlGv_",
        "outputId": "e6ada99b-005f-40c1-fed6-17b6a1b0981a"
      },
      "execution_count": null,
      "outputs": [
        {
          "output_type": "execute_result",
          "data": {
            "text/plain": [
              "8125"
            ]
          },
          "metadata": {},
          "execution_count": 55
        }
      ]
    },
    {
      "cell_type": "code",
      "source": [
        "count_re_en = []\n",
        "for i in range(0,5):\n",
        "  j= (df_en_re[df_en_re[\"judgment\"]==i]).shape[0]\n",
        "  count_re_en.append(j)"
      ],
      "metadata": {
        "id": "tBuSBDP0lMFC"
      },
      "execution_count": null,
      "outputs": []
    },
    {
      "cell_type": "code",
      "source": [
        "count_re_en #no. of judgments with judgment = 0, 1, 2, 3, 4 in same order"
      ],
      "metadata": {
        "colab": {
          "base_uri": "https://localhost:8080/"
        },
        "id": "bb6bTcJrlR9a",
        "outputId": "9e0a8824-8b59-4088-bd9c-3360f9871cb2"
      },
      "execution_count": null,
      "outputs": [
        {
          "output_type": "execute_result",
          "data": {
            "text/plain": [
              "[830, 728, 2013, 1823, 2731]"
            ]
          },
          "metadata": {},
          "execution_count": 57
        }
      ]
    },
    {
      "cell_type": "code",
      "source": [
        "np.sum(count_re_en)"
      ],
      "metadata": {
        "colab": {
          "base_uri": "https://localhost:8080/"
        },
        "id": "VwcFkhANlTcX",
        "outputId": "e39a1ff2-b8fe-4675-f3cc-e52bbc22645b"
      },
      "execution_count": null,
      "outputs": [
        {
          "output_type": "execute_result",
          "data": {
            "text/plain": [
              "8125"
            ]
          },
          "metadata": {},
          "execution_count": 58
        }
      ]
    },
    {
      "cell_type": "code",
      "source": [
        "sns.histplot(df_en_re, x=\"judgment\", bins = 5)\n",
        "plt.title('dwug_en_resampled')"
      ],
      "metadata": {
        "colab": {
          "base_uri": "https://localhost:8080/",
          "height": 489
        },
        "id": "IXgHFtNPlXD4",
        "outputId": "5e1dbd5d-ce15-43dc-881b-9d79b4efaeb5"
      },
      "execution_count": null,
      "outputs": [
        {
          "output_type": "execute_result",
          "data": {
            "text/plain": [
              "Text(0.5, 1.0, 'dwug_en_resampled')"
            ]
          },
          "metadata": {},
          "execution_count": 49
        },
        {
          "output_type": "display_data",
          "data": {
            "text/plain": [
              "<Figure size 640x480 with 1 Axes>"
            ],
            "image/png": "[encoded data removed]"
          },
          "metadata": {}
        }
      ]
    },
    {
      "cell_type": "markdown",
      "source": [
        "#dwug_de_resampled"
      ],
      "metadata": {
        "id": "5o7bAcv3l7cg"
      }
    },
    {
      "cell_type": "code",
      "source": [
        "df_de_re = pd.read_csv(fold_re[1], delimiter='\\t', quoting = 3)"
      ],
      "metadata": {
        "id": "zkcvXq9Rl0aO"
      },
      "execution_count": null,
      "outputs": []
    },
    {
      "cell_type": "code",
      "source": [
        "df_de_re.annotator.unique().tolist()"
      ],
      "metadata": {
        "colab": {
          "base_uri": "https://localhost:8080/"
        },
        "id": "UwPw2nDPtCxe",
        "outputId": "47af79b9-f3b7-4fce-8664-3b973bc9d8a1"
      },
      "execution_count": null,
      "outputs": [
        {
          "output_type": "execute_result",
          "data": {
            "text/plain": [
              "['Zori', 'stekade', 'FWetzel']"
            ]
          },
          "metadata": {},
          "execution_count": 121
        }
      ]
    },
    {
      "cell_type": "code",
      "source": [
        "len(df_de_re.index)"
      ],
      "metadata": {
        "colab": {
          "base_uri": "https://localhost:8080/"
        },
        "id": "tcs5lKh4lpoM",
        "outputId": "20f9be35-8bfd-42b4-a2bd-2c11a21c9f6e"
      },
      "execution_count": null,
      "outputs": [
        {
          "output_type": "execute_result",
          "data": {
            "text/plain": [
              "10060"
            ]
          },
          "metadata": {},
          "execution_count": 67
        }
      ]
    },
    {
      "cell_type": "code",
      "source": [
        "count_re_de = []\n",
        "for i in range(0,5):\n",
        "  j= (df_de_re[df_de_re[\"judgment\"]==i]).shape[0]\n",
        "  count_re_de.append(j)"
      ],
      "metadata": {
        "id": "M4pIZaUgmrZW"
      },
      "execution_count": null,
      "outputs": []
    },
    {
      "cell_type": "code",
      "source": [
        "count_re_de #no. of judgments with judgment = 0, 1, 2, 3, 4 in same order"
      ],
      "metadata": {
        "colab": {
          "base_uri": "https://localhost:8080/"
        },
        "id": "n1YFyATimzER",
        "outputId": "1f048b93-1bb5-460d-d0f7-2fb4da55909a"
      },
      "execution_count": null,
      "outputs": [
        {
          "output_type": "execute_result",
          "data": {
            "text/plain": [
              "[1450, 1329, 1520, 2973, 2788]"
            ]
          },
          "metadata": {},
          "execution_count": 69
        }
      ]
    },
    {
      "cell_type": "code",
      "source": [
        "np.sum(count_re_de)"
      ],
      "metadata": {
        "colab": {
          "base_uri": "https://localhost:8080/"
        },
        "id": "Wt3ECQ8Tm49t",
        "outputId": "01e93082-f6fa-4a10-8488-78a5d76f800a"
      },
      "execution_count": null,
      "outputs": [
        {
          "output_type": "execute_result",
          "data": {
            "text/plain": [
              "10060"
            ]
          },
          "metadata": {},
          "execution_count": 70
        }
      ]
    },
    {
      "cell_type": "code",
      "source": [
        "sns.histplot(df_de_re, x=\"judgment\", bins = 5)\n",
        "plt.title('dwug_de_resampled')"
      ],
      "metadata": {
        "colab": {
          "base_uri": "https://localhost:8080/",
          "height": 489
        },
        "id": "5Naja56Lm7Qt",
        "outputId": "884b8cdf-9673-41d2-b1a2-3c72197b5f74"
      },
      "execution_count": null,
      "outputs": [
        {
          "output_type": "execute_result",
          "data": {
            "text/plain": [
              "Text(0.5, 1.0, 'dwug_de_resampled')"
            ]
          },
          "metadata": {},
          "execution_count": 71
        },
        {
          "output_type": "display_data",
          "data": {
            "text/plain": [
              "<Figure size 640x480 with 1 Axes>"
            ],
            "image/png": "[encoded data removed]"
          },
          "metadata": {}
        }
      ]
    },
    {
      "cell_type": "markdown",
      "source": [
        "#**unc_study**"
      ],
      "metadata": {
        "id": "FqrqjVLvnXfy"
      }
    },
    {
      "cell_type": "code",
      "source": [
        "path_unc = os.path.join(path, 'uncomp/')"
      ],
      "metadata": {
        "id": "i28-GkX8nBfn"
      },
      "execution_count": null,
      "outputs": []
    },
    {
      "cell_type": "code",
      "source": [
        "list_unc = os.listdir(path_unc)"
      ],
      "metadata": {
        "id": "QdbfC8okoGH-"
      },
      "execution_count": null,
      "outputs": []
    },
    {
      "cell_type": "code",
      "source": [
        "paths_unc = []\n",
        "for i in list_unc:\n",
        "  paths_unc.append(path_unc +i)"
      ],
      "metadata": {
        "id": "1RMvWPRioPZV"
      },
      "execution_count": null,
      "outputs": []
    },
    {
      "cell_type": "code",
      "source": [
        "fold_unc = []\n",
        "for i in paths_unc:\n",
        "    fold_unc.append(i + '/judgments.csv')"
      ],
      "metadata": {
        "id": "vA5Gj41FpHOf"
      },
      "execution_count": null,
      "outputs": []
    },
    {
      "cell_type": "code",
      "source": [
        "disco_use = []\n",
        "for i in paths_unc:\n",
        "  disco_use.append(i + '/uses.csv')"
      ],
      "metadata": {
        "id": "EOEiPzEebb4c"
      },
      "execution_count": null,
      "outputs": []
    },
    {
      "cell_type": "markdown",
      "source": [
        "#discowug_unc"
      ],
      "metadata": {
        "id": "BOT5etS0pQay"
      }
    },
    {
      "cell_type": "code",
      "source": [
        "disco_df = pd.read_csv(fold_unc[0], delimiter='\\t', quoting = 3)"
      ],
      "metadata": {
        "id": "uZNC30n2pPeG"
      },
      "execution_count": null,
      "outputs": []
    },
    {
      "cell_type": "code",
      "source": [
        "disco_df.annotator.unique().tolist()"
      ],
      "metadata": {
        "colab": {
          "base_uri": "https://localhost:8080/"
        },
        "id": "rmYjVy_OtLyX",
        "outputId": "bb20a0d0-0f08-4500-e9a4-9c9ea0d00f0e"
      },
      "execution_count": null,
      "outputs": [
        {
          "output_type": "execute_result",
          "data": {
            "text/plain": [
              "['stekade', 'FWetzel', 'Zori']"
            ]
          },
          "metadata": {},
          "execution_count": 122
        }
      ]
    },
    {
      "cell_type": "code",
      "source": [
        "len(disco_df.index)"
      ],
      "metadata": {
        "colab": {
          "base_uri": "https://localhost:8080/"
        },
        "id": "S4OSOITkpsoc",
        "outputId": "96c5a20a-8336-498a-869b-92fce901b465"
      },
      "execution_count": null,
      "outputs": [
        {
          "output_type": "execute_result",
          "data": {
            "text/plain": [
              "1989"
            ]
          },
          "metadata": {},
          "execution_count": 100
        }
      ]
    },
    {
      "cell_type": "code",
      "source": [
        "count_disco = []\n",
        "for i in range(0,5):\n",
        "  j= (disco_df[disco_df[\"judgment\"]==i]).shape[0]\n",
        "  count_disco.append(j)"
      ],
      "metadata": {
        "id": "o2I4TeDxpuIT"
      },
      "execution_count": null,
      "outputs": []
    },
    {
      "cell_type": "code",
      "source": [
        "count_disco"
      ],
      "metadata": {
        "colab": {
          "base_uri": "https://localhost:8080/"
        },
        "id": "ZM2CxTHkqAd_",
        "outputId": "60af03a1-c204-47a4-8c76-56529d8cea4b"
      },
      "execution_count": null,
      "outputs": [
        {
          "output_type": "execute_result",
          "data": {
            "text/plain": [
              "[250, 251, 622, 538, 328]"
            ]
          },
          "metadata": {},
          "execution_count": 102
        }
      ]
    },
    {
      "cell_type": "code",
      "source": [
        "np.sum(count_disco)"
      ],
      "metadata": {
        "colab": {
          "base_uri": "https://localhost:8080/"
        },
        "id": "7nI7PSkvqB01",
        "outputId": "79e0e2d1-73c0-4dbb-e1b1-95b805344212"
      },
      "execution_count": null,
      "outputs": [
        {
          "output_type": "execute_result",
          "data": {
            "text/plain": [
              "1989"
            ]
          },
          "metadata": {},
          "execution_count": 103
        }
      ]
    },
    {
      "cell_type": "code",
      "source": [
        "sns.histplot(disco_df, x=\"judgment\", bins = 5)\n",
        "plt.title('discowug_unc')"
      ],
      "metadata": {
        "colab": {
          "base_uri": "https://localhost:8080/",
          "height": 489
        },
        "id": "c9bgfeu5qFKl",
        "outputId": "229bfaba-c7da-4f45-abd3-a9083856a754"
      },
      "execution_count": null,
      "outputs": [
        {
          "output_type": "execute_result",
          "data": {
            "text/plain": [
              "Text(0.5, 1.0, 'discowug_unc')"
            ]
          },
          "metadata": {},
          "execution_count": 105
        },
        {
          "output_type": "display_data",
          "data": {
            "text/plain": [
              "<Figure size 640x480 with 1 Axes>"
            ],
            "image/png": "[encoded data removed]"
          },
          "metadata": {}
        }
      ]
    },
    {
      "cell_type": "markdown",
      "source": [
        "#dwug_de_unc"
      ],
      "metadata": {
        "id": "LAEPT3EBqoDU"
      }
    },
    {
      "cell_type": "code",
      "source": [
        "dwug_de_unc = pd.read_csv(fold_unc[1], delimiter='\\t', quoting = 3)"
      ],
      "metadata": {
        "id": "1YU0QvCJqhnA"
      },
      "execution_count": null,
      "outputs": []
    },
    {
      "cell_type": "code",
      "source": [
        "dwug_de_unc.annotator.unique().tolist()"
      ],
      "metadata": {
        "colab": {
          "base_uri": "https://localhost:8080/"
        },
        "id": "K612bQh1tVlO",
        "outputId": "a722df6d-5144-40a7-b999-3fbca2c11d1b"
      },
      "execution_count": null,
      "outputs": [
        {
          "output_type": "execute_result",
          "data": {
            "text/plain": [
              "['stekade', 'FWetzel', 'Zori']"
            ]
          },
          "metadata": {},
          "execution_count": 123
        }
      ]
    },
    {
      "cell_type": "code",
      "source": [
        "len(dwug_de_unc.index)"
      ],
      "metadata": {
        "colab": {
          "base_uri": "https://localhost:8080/"
        },
        "id": "nyMMAwEYqveH",
        "outputId": "7103aac4-4b26-4f43-f1dc-cdb4c61d81d2"
      },
      "execution_count": null,
      "outputs": [
        {
          "output_type": "execute_result",
          "data": {
            "text/plain": [
              "3333"
            ]
          },
          "metadata": {},
          "execution_count": 107
        }
      ]
    },
    {
      "cell_type": "code",
      "source": [
        "count_dwug_de_unc = []\n",
        "for i in range(0,5):\n",
        "  j= (dwug_de_unc[dwug_de_unc[\"judgment\"]==i]).shape[0]\n",
        "  count_dwug_de_unc.append(j)"
      ],
      "metadata": {
        "id": "y4MeciBkq5H3"
      },
      "execution_count": null,
      "outputs": []
    },
    {
      "cell_type": "code",
      "source": [
        "count_dwug_de_unc #no. of judgments with judgment = 0, 1, 2, 3, 4 in same order"
      ],
      "metadata": {
        "colab": {
          "base_uri": "https://localhost:8080/"
        },
        "id": "2ZPPuN0Jq1Pp",
        "outputId": "0e4675c4-6a32-4c09-accf-9c1c46850b63"
      },
      "execution_count": null,
      "outputs": [
        {
          "output_type": "execute_result",
          "data": {
            "text/plain": [
              "[268, 909, 968, 756, 432]"
            ]
          },
          "metadata": {},
          "execution_count": 111
        }
      ]
    },
    {
      "cell_type": "code",
      "source": [
        "np.sum(count_dwug_de_unc)"
      ],
      "metadata": {
        "colab": {
          "base_uri": "https://localhost:8080/"
        },
        "id": "80shuU5zrGDk",
        "outputId": "7940d54a-ee28-4fa7-fe7b-b6f5dde1cbe8"
      },
      "execution_count": null,
      "outputs": [
        {
          "output_type": "execute_result",
          "data": {
            "text/plain": [
              "3333"
            ]
          },
          "metadata": {},
          "execution_count": 112
        }
      ]
    },
    {
      "cell_type": "code",
      "source": [
        "sns.histplot(dwug_de_unc, x=\"judgment\", bins = 5)\n",
        "plt.title('dwug_de_unc')"
      ],
      "metadata": {
        "colab": {
          "base_uri": "https://localhost:8080/",
          "height": 489
        },
        "id": "iErO_cXorK-I",
        "outputId": "db6f426c-02ef-48c4-fe1a-e81724b9abd6"
      },
      "execution_count": null,
      "outputs": [
        {
          "output_type": "execute_result",
          "data": {
            "text/plain": [
              "Text(0.5, 1.0, 'dwug_de_unc')"
            ]
          },
          "metadata": {},
          "execution_count": 113
        },
        {
          "output_type": "display_data",
          "data": {
            "text/plain": [
              "<Figure size 640x480 with 1 Axes>"
            ],
            "image/png": "[encoded data removed]"
          },
          "metadata": {}
        }
      ]
    },
    {
      "cell_type": "code",
      "source": [
        "!wget https://zenodo.org/record/7441645/files/dwug_de.zip\n",
        "with ZipFile('dwug_de.zip', 'r') as dwug_de:\n",
        "    dwug_de.extractall()"
      ],
      "metadata": {
        "colab": {
          "base_uri": "https://localhost:8080/"
        },
        "id": "HyxNWc2SrSD9",
        "outputId": "c80e55d2-793e-4339-8845-6298211a24ca"
      },
      "execution_count": null,
      "outputs": [
        {
          "output_type": "stream",
          "name": "stdout",
          "text": [
            "--2023-06-23 10:14:21--  https://zenodo.org/record/7441645/files/dwug_de.zip\n",
            "Resolving zenodo.org (zenodo.org)... 188.185.124.72\n",
            "Connecting to zenodo.org (zenodo.org)|188.185.124.72|:443... connected.\n",
            "HTTP request sent, awaiting response... 200 OK\n",
            "Length: 14620222 (14M) [application/octet-stream]\n",
            "Saving to: ‘dwug_de.zip.1’\n",
            "\n",
            "dwug_de.zip.1       100%[===================>]  13.94M   406KB/s    in 35s     \n",
            "\n",
            "2023-06-23 10:14:58 (403 KB/s) - ‘dwug_de.zip.1’ saved [14620222/14620222]\n",
            "\n"
          ]
        }
      ]
    },
    {
      "cell_type": "code",
      "source": [
        "path = 'dwug_de/data/'"
      ],
      "metadata": {
        "id": "Y0CI5tV3wpQ6"
      },
      "execution_count": null,
      "outputs": []
    },
    {
      "cell_type": "code",
      "source": [
        "dwug_de_list = os.listdir(path)"
      ],
      "metadata": {
        "id": "19ucqXBIvreP"
      },
      "execution_count": null,
      "outputs": []
    },
    {
      "cell_type": "code",
      "source": [
        "dwug_de_path = []\n",
        "for i in dwug_de_list:\n",
        "  j = (os.path.join(path, i) + '/judgments.csv')\n",
        "  dwug_de_path.append(j)"
      ],
      "metadata": {
        "id": "xRxrblN6wkM4"
      },
      "execution_count": null,
      "outputs": []
    },
    {
      "cell_type": "code",
      "source": [
        "de_df = pd.DataFrame()\n",
        "for i in dwug_de_path:\n",
        "  Tmp = pd.read_csv(i, delimiter='\\t', quoting = 3)\n",
        "  de_df = pd.concat([de_df, Tmp])"
      ],
      "metadata": {
        "id": "3IqoGCEfxezL"
      },
      "execution_count": null,
      "outputs": []
    },
    {
      "cell_type": "code",
      "source": [
        "df = pd.concat([dwug_de_unc, de_df])"
      ],
      "metadata": {
        "id": "sl9DQczUyr-s"
      },
      "execution_count": null,
      "outputs": []
    },
    {
      "cell_type": "code",
      "source": [
        "for i in list(df[\"lemma\"].value_counts().index):\n",
        "    df_temp = df[df[\"lemma\"]==i]\n",
        "    if not os.path.exists(path + i):\n",
        "        os.mkdir(path + i)\n",
        "    df_temp.to_csv(path +i +'/judgments.csv',index = False, sep='\\t', encoding='utf-8', quoting=csv.QUOTE_NONE, quotechar = '')"
      ],
      "metadata": {
        "id": "XWBQcIzScAZX"
      },
      "execution_count": null,
      "outputs": []
    },
    {
      "cell_type": "code",
      "source": [
        "!git clone https://github.com/Garrafao/WUGs.git"
      ],
      "metadata": {
        "colab": {
          "base_uri": "https://localhost:8080/"
        },
        "id": "53pkKFnM1i21",
        "outputId": "4cf48751-f986-4637-9713-ed198445bb7f"
      },
      "execution_count": null,
      "outputs": [
        {
          "output_type": "stream",
          "name": "stdout",
          "text": [
            "Cloning into 'WUGs'...\n",
            "remote: Enumerating objects: 1458, done.\u001b[K\n",
            "remote: Counting objects: 100% (384/384), done.\u001b[K\n",
            "remote: Compressing objects: 100% (215/215), done.\u001b[K\n",
            "remote: Total 1458 (delta 222), reused 286 (delta 156), pack-reused 1074\u001b[K\n",
            "Receiving objects: 100% (1458/1458), 2.01 MiB | 3.84 MiB/s, done.\n",
            "Resolving deltas: 100% (900/900), done.\n"
          ]
        }
      ]
    },
    {
      "cell_type": "code",
      "source": [
        "!bash -e /content/WUGs/scripts/run_uug.sh"
      ],
      "metadata": {
        "colab": {
          "base_uri": "https://localhost:8080/"
        },
        "id": "Ct-_N6qDWrNZ",
        "outputId": "b95e9101-a2d6-4988-81b5-cbcdea6abdc6"
      },
      "execution_count": null,
      "outputs": [
        {
          "output_type": "stream",
          "name": "stdout",
          "text": [
            "\u001b[1m/content/WUGs/scripts/data2join.sh\u001b[m\n",
            "/content/dwug_de/data/abbauen\n",
            "/content/dwug_de/data/abdecken\n",
            "/content/dwug_de/data/abgebrüht\n",
            "/content/dwug_de/data/Abgesang\n",
            "/content/dwug_de/data/Ackergerät\n",
            "/content/dwug_de/data/Angesicht\n",
            "/content/dwug_de/data/anpflanzen\n",
            "/content/dwug_de/data/Armenhaus\n",
            "/content/dwug_de/data/artikulieren\n",
            "/content/dwug_de/data/Aufkommen\n",
            "/content/dwug_de/data/aufrechterhalten\n",
            "/content/dwug_de/data/Aufrichtung\n",
            "/content/dwug_de/data/aufstrebend\n",
            "/content/dwug_de/data/ausbilden\n",
            "/content/dwug_de/data/Ausnahmegesetz\n",
            "/content/dwug_de/data/ausspannen\n",
            "/content/dwug_de/data/Behandlung\n",
            "/content/dwug_de/data/beimischen\n",
            "/content/dwug_de/data/Bemerken\n",
            "/content/dwug_de/data/Berücksichtigung\n",
            "/content/dwug_de/data/durchdenken\n",
            "/content/dwug_de/data/Dynamik\n",
            "/content/dwug_de/data/einbinden\n",
            "/content/dwug_de/data/einmünden\n",
            "/content/dwug_de/data/Einreichung\n",
            "/content/dwug_de/data/Eintagsfliege\n",
            "/content/dwug_de/data/eintreten\n",
            "/content/dwug_de/data/Engpaß\n",
            "/content/dwug_de/data/Entscheidung\n",
            "/content/dwug_de/data/erlauben\n",
            "/content/dwug_de/data/Festspiel\n",
            "/content/dwug_de/data/finnisch\n",
            "/content/dwug_de/data/Fischerei\n",
            "/content/dwug_de/data/Frechheit\n",
            "/content/dwug_de/data/freigelaßen\n",
            "/content/dwug_de/data/Fuß\n",
            "/content/dwug_de/data/geehrt\n",
            "/content/dwug_de/data/gelagert\n",
            "/content/dwug_de/data/Gesichtsausdruck\n",
            "/content/dwug_de/data/gewahren\n",
            "/content/dwug_de/data/greifend\n",
            "/content/dwug_de/data/Handhabe\n",
            "/content/dwug_de/data/helfen\n",
            "/content/dwug_de/data/Knotenpunkt\n",
            "/content/dwug_de/data/Kompanie\n",
            "/content/dwug_de/data/Kubikmeter\n",
            "/content/dwug_de/data/Lebenslage\n",
            "/content/dwug_de/data/Losung\n",
            "/content/dwug_de/data/Lyzeum\n",
            "/content/dwug_de/data/Manschette\n",
            "/content/dwug_de/data/Mauer\n",
            "/content/dwug_de/data/Mißklang\n",
            "/content/dwug_de/data/Mulatte\n",
            "/content/dwug_de/data/Mut\n",
            "/content/dwug_de/data/Naturschönheit\n",
            "/content/dwug_de/data/neunjahrig\n",
            "/content/dwug_de/data/niederschlagen\n",
            "/content/dwug_de/data/Ohrwurm\n",
            "/content/dwug_de/data/Pachtzins\n",
            "/content/dwug_de/data/packen\n",
            "/content/dwug_de/data/preisgeben\n",
            "/content/dwug_de/data/Querschnitt\n",
            "/content/dwug_de/data/Rang\n",
            "/content/dwug_de/data/regelrecht\n",
            "/content/dwug_de/data/Rezeption\n",
            "/content/dwug_de/data/Schmiere\n",
            "/content/dwug_de/data/Seminar\n",
            "/content/dwug_de/data/Sensation\n",
            "/content/dwug_de/data/Spielball\n",
            "/content/dwug_de/data/Sprachrohr\n",
            "/content/dwug_de/data/Tier\n",
            "/content/dwug_de/data/Titel\n",
            "/content/dwug_de/data/Tote\n",
            "/content/dwug_de/data/Tragfähigkeit\n",
            "/content/dwug_de/data/Triebkraft\n",
            "/content/dwug_de/data/Truppenteil\n",
            "/content/dwug_de/data/überspannen\n",
            "/content/dwug_de/data/überwintern\n",
            "/content/dwug_de/data/unbedenklich\n",
            "/content/dwug_de/data/Unentschlossenheit\n",
            "/content/dwug_de/data/ungebrechen\n",
            "/content/dwug_de/data/verbauen\n",
            "/content/dwug_de/data/vergönnen\n",
            "/content/dwug_de/data/Vernehmen\n",
            "/content/dwug_de/data/Vernichtungskrieg\n",
            "/content/dwug_de/data/voranstellen\n",
            "/content/dwug_de/data/Vorbereitung\n",
            "/content/dwug_de/data/vorliegen\n",
            "/content/dwug_de/data/vorweisen\n",
            "/content/dwug_de/data/Warschauer\n",
            "/content/dwug_de/data/weitgreifend\n",
            "/content/dwug_de/data/Westen\n",
            "/content/dwug_de/data/wuchernd\n",
            "/content/dwug_de/data/Zehner\n",
            "/content/dwug_de/data/zersetzen\n",
            "/content/dwug_de/data/zurückwerfen\n",
            "/content/dwug_de/data/Zuwachs\n",
            "\u001b[1m/content/WUGs/scripts/data2annotators.sh\u001b[m\n",
            "\u001b[1m/content/WUGs/scripts/data2agr.sh\u001b[m\n",
            "Traceback (most recent call last):\n",
            "  File \"/content/WUGs/scripts/data2agr.py\", line 5, in <module>\n",
            "    from modules import *\n",
            "  File \"/content/WUGs/scripts/modules.py\", line 8, in <module>\n",
            "    from correlation import Loss \n",
            "  File \"/content/WUGs/scripts/correlation.py\", line 11, in <module>\n",
            "    import mlrose\n",
            "ModuleNotFoundError: No module named 'mlrose'\n"
          ]
        }
      ]
    },
    {
      "cell_type": "code",
      "source": [],
      "metadata": {
        "id": "w12_NmEOf-Kv"
      },
      "execution_count": null,
      "outputs": []
    }
  ]
}