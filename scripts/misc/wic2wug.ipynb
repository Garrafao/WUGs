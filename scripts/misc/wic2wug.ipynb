{
  "cells": [
    {
      "cell_type": "markdown",
      "metadata": {
        "id": "view-in-github",
        "colab_type": "text"
      },
      "source": [
        "<a href=\"https://colab.research.google.com/github/Garrafao/WUGs/blob/main/scripts/misc/wic2wug.ipynb\" target=\"_parent\"><img src=\"https://colab.research.google.com/assets/colab-badge.svg\" alt=\"Open In Colab\"/></a>"
      ]
    },
    {
      "cell_type": "code",
      "execution_count": null,
      "metadata": {
        "colab": {
          "base_uri": "https://localhost:8080/"
        },
        "id": "zASMJ4H54r0-",
        "outputId": "963ca66d-662d-45d6-ee05-1bb6f4d20daa"
      },
      "outputs": [
        {
          "output_type": "stream",
          "name": "stdout",
          "text": [
            "--2023-05-26 08:51:18--  https://pilehvar.github.io/wic/package/WiC_dataset.zip\n",
            "Resolving pilehvar.github.io (pilehvar.github.io)... 185.199.108.153, 185.199.109.153, 185.199.110.153, ...\n",
            "Connecting to pilehvar.github.io (pilehvar.github.io)|185.199.108.153|:443... connected.\n",
            "HTTP request sent, awaiting response... 200 OK\n",
            "Length: 275984 (270K) [application/zip]\n",
            "Saving to: ‘WiC_dataset.zip’\n",
            "\n",
            "WiC_dataset.zip     100%[===================>] 269.52K  --.-KB/s    in 0.04s   \n",
            "\n",
            "2023-05-26 08:51:19 (6.19 MB/s) - ‘WiC_dataset.zip’ saved [275984/275984]\n",
            "\n"
          ]
        }
      ],
      "source": [
        "!wget https://pilehvar.github.io/wic/package/WiC_dataset.zip"
      ]
    },
    {
      "cell_type": "code",
      "execution_count": null,
      "metadata": {
        "id": "aNQkbcRaC6B5"
      },
      "outputs": [],
      "source": [
        "import pandas as pd\n",
        "import numpy as np\n",
        "import os\n",
        "import io\n",
        "import spacy\n",
        "nlp = spacy.load(\"en_core_web_sm\")"
      ]
    },
    {
      "cell_type": "code",
      "execution_count": null,
      "metadata": {
        "id": "5WhCmopMAQ86"
      },
      "outputs": [],
      "source": [
        "os.makedirs('WiC_data', exist_ok=True)"
      ]
    },
    {
      "cell_type": "code",
      "execution_count": null,
      "metadata": {
        "id": "anEsLLliMf-P"
      },
      "outputs": [],
      "source": [
        "path = 'WiC_data'"
      ]
    },
    {
      "cell_type": "code",
      "execution_count": null,
      "metadata": {
        "id": "PU7JiunOJINI"
      },
      "outputs": [],
      "source": [
        "dev = os.makedirs(path + '/dev', exist_ok=True )\n",
        "train = os.makedirs(path + '/train', exist_ok=True )\n",
        "test = os.makedirs(path+ '/test', exist_ok=True )\n"
      ]
    },
    {
      "cell_type": "code",
      "execution_count": null,
      "metadata": {
        "id": "SyIzMi43Nl8M"
      },
      "outputs": [],
      "source": [
        "!pip install spacy  "
      ]
    },
    {
      "cell_type": "code",
      "execution_count": null,
      "metadata": {
        "id": "aKZGpmjJNoAB"
      },
      "outputs": [],
      "source": [
        "fold = 'WiC_dataset'"
      ]
    },
    {
      "cell_type": "code",
      "execution_count": null,
      "metadata": {
        "id": "U21Til5c5CnA"
      },
      "outputs": [],
      "source": [
        "from zipfile import ZipFile\n",
        "with ZipFile('WiC_dataset.zip', 'r') as WiC:\n",
        "   WiC.extractall(fold)"
      ]
    },
    {
      "cell_type": "code",
      "execution_count": null,
      "metadata": {
        "id": "eFcviWmS3saH"
      },
      "outputs": [],
      "source": [
        "ds = os.listdir(fold)"
      ]
    },
    {
      "cell_type": "code",
      "execution_count": null,
      "metadata": {
        "id": "nCdIytsf7F87"
      },
      "outputs": [],
      "source": [
        "ds.remove('README.txt')"
      ]
    },
    {
      "cell_type": "code",
      "execution_count": null,
      "metadata": {
        "id": "A9unNJtRB9NA"
      },
      "outputs": [],
      "source": [
        "pathss = []\n",
        "for i in ds:\n",
        "  pathss.append(fold +'/' + i + '/' + i+'.data.txt')\n"
      ]
    },
    {
      "cell_type": "code",
      "execution_count": null,
      "metadata": {
        "id": "s_hVKk_87Oyd"
      },
      "outputs": [],
      "source": [
        "path_jud = []\n",
        "for i in ds:\n",
        "  path_jud.append(fold + '/' + i + '/' + i+'.gold.txt')"
      ]
    },
    {
      "cell_type": "code",
      "execution_count": null,
      "metadata": {
        "id": "5MHbaruW5enp"
      },
      "outputs": [],
      "source": [
        "df_all = pd.DataFrame()\n",
        "for i in pathss:\n",
        "  df_3 = pd.read_csv(i, sep = '\\t', names=[\"lemma\", \"pos\", \"indice\", \"sent1\", \"sent2\"], encoding = 'UTF-8')\n",
        "  df_3['dataset'] = i.split('/')[1]\n",
        "  df_all = pd.concat([df_all, df_3])"
      ]
    },
    {
      "cell_type": "code",
      "execution_count": null,
      "metadata": {
        "id": "SFeVzJy_7Znz"
      },
      "outputs": [],
      "source": [
        "df_all_labels = pd.DataFrame()\n",
        "for i in path_jud:\n",
        "  tmp = pd.read_csv(i, sep = '\\t', names = ['judgment'], encoding = 'UTF-8')\n",
        "  tmp['dataset'] = i.split('/')[1]\n",
        "  df_all_labels = pd.concat([df_all_labels, tmp])"
      ]
    },
    {
      "cell_type": "code",
      "execution_count": null,
      "metadata": {
        "id": "7UShtKK95Sdo"
      },
      "outputs": [],
      "source": [
        "x= df_all['indice'].tolist()\n"
      ]
    },
    {
      "cell_type": "code",
      "execution_count": null,
      "metadata": {
        "id": "SMgjk6VXPX77"
      },
      "outputs": [],
      "source": [
        "def create_ident(sent1, ind, lemma, dataset):\n",
        "  x1 = str(ind).split('-')[0]\n",
        "  id1 = lemma+'_' + x1 +'_' + sent1 + '_'+ dataset\n",
        "  return id1\n"
      ]
    },
    {
      "cell_type": "code",
      "execution_count": null,
      "metadata": {
        "id": "erAZAk_PQOuv"
      },
      "outputs": [],
      "source": [
        "def create_ident2(sent2, ind, lemma, dataset):\n",
        "  x2 = str(ind).split('-')[1]\n",
        "  id2 = lemma+'_' + x2 +'_' + sent2 + '_'+ dataset\n",
        "  return id2"
      ]
    },
    {
      "cell_type": "code",
      "execution_count": null,
      "metadata": {
        "id": "XzEj0ecvQkAZ"
      },
      "outputs": [],
      "source": [
        "df_ = df_all"
      ]
    },
    {
      "cell_type": "code",
      "execution_count": null,
      "metadata": {
        "id": "bQpzp8M-Qu1I"
      },
      "outputs": [],
      "source": [
        "df_['id1'] = df_.apply(lambda x: create_ident(x.sent1, x.indice, x.lemma, x.dataset), axis=1)"
      ]
    },
    {
      "cell_type": "code",
      "execution_count": null,
      "metadata": {
        "id": "0jaJ1JiH0InE"
      },
      "outputs": [],
      "source": [
        "df_['id2'] = df_.apply(lambda x: create_ident2(x.sent2, x.indice, x.lemma, x.dataset), axis=1)"
      ]
    },
    {
      "cell_type": "code",
      "execution_count": null,
      "metadata": {
        "id": "ns6w4rzApOcg"
      },
      "outputs": [],
      "source": [
        "df_judgments = df_[['id1', 'id2', 'lemma', 'dataset']]\n",
        "df_judgments = df_judgments.rename(columns = {'id1':'identifier1', 'id2': 'identifier2'})"
      ]
    },
    {
      "cell_type": "code",
      "execution_count": null,
      "metadata": {
        "id": "RVr7AM80qxlv"
      },
      "outputs": [],
      "source": [
        "df_judgments['annotator'] = 'gold'\n",
        "df_judgments['comment'] = ' '\n",
        "df_judgments['judgment'] = df_all_labels[\"judgment\"].values.tolist()"
      ]
    },
    {
      "cell_type": "code",
      "execution_count": null,
      "metadata": {
        "id": "3MB6hzaOq8dy"
      },
      "outputs": [],
      "source": [
        "df_judgments = df_judgments[[\"identifier1\", \"identifier2\", \"annotator\", \"judgment\", \"comment\", \"lemma\", 'dataset']]"
      ]
    },
    {
      "cell_type": "code",
      "execution_count": null,
      "metadata": {
        "id": "yDdbcXfQ7gSh"
      },
      "outputs": [],
      "source": [
        "df_dash = df_[['lemma', 'sent1', 'sent2', 'dataset', 'id1', 'id2']]"
      ]
    },
    {
      "cell_type": "code",
      "execution_count": null,
      "metadata": {
        "id": "-ANHu2jj1YZ8"
      },
      "outputs": [],
      "source": [
        "df1 = df_dash[['lemma', 'sent1', 'dataset', 'id1']]\n",
        "df1.columns =  ['word', 'sent', 'dataset', 'id']"
      ]
    },
    {
      "cell_type": "code",
      "execution_count": null,
      "metadata": {
        "id": "8ENUewpV5lH-"
      },
      "outputs": [],
      "source": [
        "df2 =  df_dash[['lemma', 'sent2', 'dataset', 'id2']]\n",
        "df2.columns =  ['word', 'sent', 'dataset', 'id']"
      ]
    },
    {
      "cell_type": "code",
      "execution_count": null,
      "metadata": {
        "id": "npdDVwrR5w_5"
      },
      "outputs": [],
      "source": [
        "df_final = pd.concat([df1, df2])\n",
        "df_final= df_final.sort_values(by = ['word'], ascending = True) "
      ]
    },
    {
      "cell_type": "code",
      "execution_count": null,
      "metadata": {
        "id": "-U-Iagi49lvw"
      },
      "outputs": [],
      "source": [
        "dftodict = pd.unique(df_final[['sent', 'id']].values.ravel())"
      ]
    },
    {
      "cell_type": "code",
      "execution_count": null,
      "metadata": {
        "id": "cAOi9nuV-7Tk"
      },
      "outputs": [],
      "source": [
        "result_df = df_final.drop_duplicates()"
      ]
    },
    {
      "cell_type": "code",
      "execution_count": null,
      "metadata": {
        "id": "Mb2KEm3Q_Dxx"
      },
      "outputs": [],
      "source": [
        "sent_to_id = pd.Series(result_df.id.values,index=result_df.sent).to_dict()"
      ]
    },
    {
      "cell_type": "code",
      "execution_count": null,
      "metadata": {
        "id": "ViTntw-4GRaD"
      },
      "outputs": [],
      "source": [
        "ind1 = []\n",
        "ind2 = []\n",
        "for i in x:\n",
        "    ind1.append(i.split('-')[0])\n",
        "    ind2.append(i.split('-')[1])"
      ]
    },
    {
      "cell_type": "code",
      "execution_count": null,
      "metadata": {
        "id": "HqWbHmIGGzQU"
      },
      "outputs": [],
      "source": [
        "df_all.loc[:,'ind1'] = ind1\n",
        "df_all.loc[:,'ind2'] = ind2\n"
      ]
    },
    {
      "cell_type": "code",
      "execution_count": null,
      "metadata": {
        "id": "YUtnwQu9F8ZD"
      },
      "outputs": [],
      "source": [
        "df1 = df_all[['lemma', 'pos', 'sent1', 'ind1', 'dataset']]\n",
        "df1.columns =  ['lemma','pos', 'context_tokenized','ind', 'dataset']\n"
      ]
    },
    {
      "cell_type": "code",
      "execution_count": null,
      "metadata": {
        "id": "3f_E_QijHH4X"
      },
      "outputs": [],
      "source": [
        "df2 = df_all[['lemma', 'pos', 'sent2', 'ind2', 'dataset']]\n",
        "df2.columns =  ['lemma','pos', 'context_tokenized','ind', 'dataset']"
      ]
    },
    {
      "cell_type": "code",
      "execution_count": null,
      "metadata": {
        "id": "A4nAuBb7Kbmi"
      },
      "outputs": [],
      "source": [
        "df_final_uses = pd.concat([df1, df2])\n",
        "df_final_uses = df_final_uses.sort_values(by = ['lemma'], ascending = True)\n"
      ]
    },
    {
      "cell_type": "code",
      "execution_count": null,
      "metadata": {
        "id": "6s47rUQm873_"
      },
      "outputs": [],
      "source": [
        "df_final_uses = df_final_uses.reset_index(drop =True)"
      ]
    },
    {
      "cell_type": "code",
      "source": [
        "df_final_uses = df_final_uses.drop_duplicates()"
      ],
      "metadata": {
        "id": "12wMoPe6QfGp"
      },
      "execution_count": null,
      "outputs": []
    },
    {
      "cell_type": "code",
      "execution_count": null,
      "metadata": {
        "id": "unW1QgHvNMle"
      },
      "outputs": [],
      "source": [
        "def get_indice(sent, indice):\n",
        "  tag = ''\n",
        "  indice = int(indice)\n",
        "  tok = sent.split(\" \")\n",
        "  #print(tok)\n",
        "  for i in range(len(tok)):\n",
        "    if i == indice:\n",
        "      tag = tok[i]\n",
        "  return str(sent.find(tag))+\":\"+str(sent.find(tag)+len(tag))"
      ]
    },
    {
      "cell_type": "code",
      "execution_count": null,
      "metadata": {
        "id": "bsgDiCA4VfBM"
      },
      "outputs": [],
      "source": [
        "df_final_uses[\"indexes_target_token\"] = df_final_uses.apply(lambda x: get_indice(x.context_tokenized, x.ind), axis=1)\n"
      ]
    },
    {
      "cell_type": "code",
      "execution_count": null,
      "metadata": {
        "id": "KdfdHVEMtid9"
      },
      "outputs": [],
      "source": [
        "def get_indices_of_sent(sentence):\n",
        "    return \"0:\"+str(len(sentence))"
      ]
    },
    {
      "cell_type": "code",
      "execution_count": null,
      "metadata": {
        "id": "_5jXzydPujr9"
      },
      "outputs": [],
      "source": [
        "df_final_uses[\"indexes_target_sentence\"] = df_final_uses[\"context_tokenized\"].apply(get_indices_of_sent)"
      ]
    },
    {
      "cell_type": "code",
      "execution_count": null,
      "metadata": {
        "id": "s6_TKjfTu_Xz"
      },
      "outputs": [],
      "source": [
        "def get_len_tok(sentence):\n",
        "  return \"0:\"+str(len(sentence.split(\" \")))"
      ]
    },
    {
      "cell_type": "code",
      "execution_count": null,
      "metadata": {
        "id": "UR4qpS2vumQ2"
      },
      "outputs": [],
      "source": [
        "df_final_uses['indexes_target_sentence_tokenized'] = df_final_uses[\"context_tokenized\"].apply(get_len_tok)\n"
      ]
    },
    {
      "cell_type": "code",
      "execution_count": null,
      "metadata": {
        "id": "NxwyUqX0vS2t"
      },
      "outputs": [],
      "source": [
        "lem = ''\n",
        "def lemmatizr(sent):\n",
        "  doc = nlp(sent)\n",
        "  for i in doc:\n",
        "    lem += i.lemma_\n",
        "    return lem"
      ]
    },
    {
      "cell_type": "code",
      "execution_count": null,
      "metadata": {
        "id": "Ru8yyJVexlq1"
      },
      "outputs": [],
      "source": [
        "df_final_uses['context_lemmatized'] = df_final_uses[\"context_tokenized\"].apply(lambda row: \" \".join([w.lemma_ for w in nlp(row)]))"
      ]
    },
    {
      "cell_type": "code",
      "execution_count": null,
      "metadata": {
        "id": "hw3iFPaxBl3h"
      },
      "outputs": [],
      "source": [
        "df_final_uses[\"indice\"] = df_final_uses.groupby(\"lemma\").cumcount()"
      ]
    },
    {
      "cell_type": "code",
      "execution_count": null,
      "metadata": {
        "id": "S76RLldcZ1k4"
      },
      "outputs": [],
      "source": [
        "df_final_uses['context_pos'] = df_final_uses[\"context_tokenized\"].apply(lambda row: \" \".join([w.pos_ for w in nlp(row)]))"
      ]
    },
    {
      "cell_type": "code",
      "execution_count": null,
      "metadata": {
        "id": "MLQGcdXCRbzU"
      },
      "outputs": [],
      "source": [
        "df_final_uses['date'] = \" \"\n",
        "df_final_uses['grouping'] = 1\n",
        "df_final_uses['description'] = \" \"\n",
        "df_final_uses['context'] = df_final_uses['context_tokenized']\n",
        "#df_final_dev_uses['identifier'] = \"\"\n",
        "df_final_uses['indexes_target_token_tokenized'] = df_final_uses['ind']\n"
      ]
    },
    {
      "cell_type": "code",
      "execution_count": null,
      "metadata": {
        "id": "bY7whS1WtBqT"
      },
      "outputs": [],
      "source": [
        "def get_identifier(sent, dictionar):\n",
        "  for k, v in sent_to_id.items():\n",
        "    for i in v:\n",
        "      if sent == k:\n",
        "        return v"
      ]
    },
    {
      "cell_type": "code",
      "execution_count": null,
      "metadata": {
        "id": "aPgfAYTpte65"
      },
      "outputs": [],
      "source": [
        "sents = df_final_uses.context.tolist()"
      ]
    },
    {
      "cell_type": "code",
      "execution_count": null,
      "metadata": {
        "id": "SrkY9tgzt2Kd"
      },
      "outputs": [],
      "source": [
        "aggre = []\n",
        "for i in sents:\n",
        "  aggre.append(get_identifier(i, sent_to_id))"
      ]
    },
    {
      "cell_type": "code",
      "execution_count": null,
      "metadata": {
        "id": "-VNTzpM3uHLK"
      },
      "outputs": [],
      "source": [
        "df_final_uses['identifier'] = aggre"
      ]
    },
    {
      "cell_type": "code",
      "execution_count": null,
      "metadata": {
        "id": "2O9FfJ9yagcw"
      },
      "outputs": [],
      "source": [
        "final_dfs = df_final_uses[['lemma', 'pos', 'date', 'grouping', 'identifier', 'description', 'context', 'indexes_target_token', 'indexes_target_sentence', 'context_tokenized', 'indexes_target_token_tokenized', 'indexes_target_sentence_tokenized', 'context_lemmatized', 'context_pos', 'dataset']]\n"
      ]
    },
    {
      "cell_type": "code",
      "source": [
        "final_df = final_dfs.reset_index(drop= True)"
      ],
      "metadata": {
        "id": "8_Ezo4YBRxMq"
      },
      "execution_count": null,
      "outputs": []
    },
    {
      "cell_type": "code",
      "execution_count": null,
      "metadata": {
        "id": "lYeQa_mEJxyg"
      },
      "outputs": [],
      "source": [
        "!git clone https://github.com/Garrafao/WUGs.git"
      ]
    },
    {
      "cell_type": "code",
      "execution_count": null,
      "metadata": {
        "id": "wueVeCgDKKWm"
      },
      "outputs": [],
      "source": [
        "os.makedirs('/content/WUGs/scripts/misc/data/dwug_en/data/*/', exist_ok=True )"
      ]
    },
    {
      "cell_type": "code",
      "execution_count": null,
      "metadata": {
        "id": "ZtFEzco-JCuA"
      },
      "outputs": [],
      "source": [
        "import csv\n",
        "final_df.to_csv('/content/WUGs/scripts/misc/data/dwug_en/data/*/uses.csv', sep='\\t', encoding='utf-8', quoting = csv.QUOTE_NONE, quotechar='')\n"
      ]
    },
    {
      "cell_type": "code",
      "execution_count": null,
      "metadata": {
        "id": "tl5-d216I5dd"
      },
      "outputs": [],
      "source": [
        "%run /content/WUGs/scripts/misc/use2normalize.py /content/WUGs/scripts/misc/data/dwug_en/data/*/uses.csv dwug_en output"
      ]
    },
    {
      "cell_type": "code",
      "execution_count": null,
      "metadata": {
        "id": "Oqvk7yD_KsHN"
      },
      "outputs": [],
      "source": [
        "final_uses = pd.read_csv('/content/output', delimiter = '\\t',quoting =3)\n"
      ]
    },
    {
      "cell_type": "code",
      "execution_count": null,
      "metadata": {
        "id": "UCY5M8-ALP_f"
      },
      "outputs": [],
      "source": [
        "final_uses['context_tokenized'] = final_df['context_tokenized']\n",
        "final_uses['pos'] = final_df['pos']\n",
        "final_uses['dataset'] = final_df['dataset']\n",
        "final_uses['grouping'] = final_df['grouping']\n",
        "final_uses['lemma'] = final_df['lemma']\n",
        "final_uses['indexes_target_token_tokenized'] = final_df['indexes_target_token_tokenized']\n",
        "final_uses['indexes_target_sentence_tokenized'] = final_df['indexes_target_sentence_tokenized']\n",
        "final_uses['date'] = \" \"\n",
        "final_uses['description'] = \" \"\n",
        "final_uses['context_lemmatized'] = final_df['context_lemmatized']\n",
        "final_uses['context_pos'] = final_df['context_pos']\n"
      ]
    },
    {
      "cell_type": "code",
      "execution_count": null,
      "metadata": {
        "id": "k3m86CLlMgpR"
      },
      "outputs": [],
      "source": [
        "final_uses = final_uses[['lemma', 'pos', 'date', 'grouping', 'identifier', 'description', 'context', 'indexes_target_token', 'indexes_target_sentence', 'context_tokenized', 'indexes_target_token_tokenized', 'indexes_target_sentence_tokenized', 'context_lemmatized', 'context_pos', 'dataset']]\n"
      ]
    },
    {
      "cell_type": "code",
      "execution_count": null,
      "metadata": {
        "id": "yGZVOY-FIRyh"
      },
      "outputs": [],
      "source": [
        "for i in list(final_uses[\"dataset\"].value_counts().index):\n",
        "    df_temp = final_uses[final_uses[\"dataset\"]==i]\n",
        "    if not os.path.exists(i):\n",
        "        os.mkdir(i)\n",
        "    df_temp.to_csv(path +'/'+ i +'/uses.csv',index = False, sep='\\t', encoding='utf-8', quoting=csv.QUOTE_NONE, quotechar = '')"
      ]
    },
    {
      "cell_type": "code",
      "execution_count": null,
      "metadata": {
        "id": "9G6ip5jEJEc1"
      },
      "outputs": [],
      "source": [
        "for i in list(df_judgments[\"dataset\"].value_counts().index):\n",
        "    df_temp = df_judgments[df_judgments[\"dataset\"]==i]\n",
        "    if not os.path.exists(i):\n",
        "        os.mkdir(i)\n",
        "    df_temp.to_csv(path + '/' + i +'/judgments.csv',index = False, sep='\\t', encoding='utf-8', quoting=csv.QUOTE_NONE, quotechar = '')"
      ]
    },
    {
      "cell_type": "code",
      "source": [
        "df_u = pd.read_csv('WiC_data/train/uses.csv', delimiter = '\\t', quoting =3)"
      ],
      "metadata": {
        "id": "SEUEtJFH5bpE"
      },
      "execution_count": null,
      "outputs": []
    },
    {
      "cell_type": "code",
      "source": [
        "df_j = pd.read_csv('WiC_data/train/judgments.csv', delimiter = '\\t', quoting =3)"
      ],
      "metadata": {
        "id": "cIoTF9fgLLB0"
      },
      "execution_count": null,
      "outputs": []
    },
    {
      "cell_type": "code",
      "source": [
        "os.makedirs('outputs-train', exist_ok=True)"
      ],
      "metadata": {
        "id": "4gDnJvSn6PYU"
      },
      "execution_count": null,
      "outputs": []
    },
    {
      "cell_type": "code",
      "source": [
        "outpath = 'outputs-train/'"
      ],
      "metadata": {
        "id": "N5jEtyHEK58U"
      },
      "execution_count": null,
      "outputs": []
    },
    {
      "cell_type": "code",
      "source": [
        "for i in list(df_u[\"lemma\"].value_counts().index):\n",
        "    df_temp = df_u[df_u[\"lemma\"]==i]\n",
        "    if not os.path.exists(outpath+i):\n",
        "        os.mkdir(outpath + i)\n",
        "    df_temp.to_csv(outpath+i +'/uses.csv',index = False, sep='\\t', encoding='utf-8', quoting=csv.QUOTE_NONE, quotechar = '')"
      ],
      "metadata": {
        "id": "5wblT8Ic5v-m"
      },
      "execution_count": null,
      "outputs": []
    },
    {
      "cell_type": "code",
      "source": [
        "for i in list(df_j[\"lemma\"].value_counts().index):\n",
        "    df_temp = df_j[df_j[\"lemma\"]==i]\n",
        "    if not os.path.exists(outpath+i):\n",
        "        os.mkdir(outpath + i)\n",
        "    df_temp.to_csv(outpath+i +'/judgments.csv',index = False, sep='\\t', encoding='utf-8', quoting=csv.QUOTE_NONE, quotechar = '')"
      ],
      "metadata": {
        "id": "r05PLUTnLTa5"
      },
      "execution_count": null,
      "outputs": []
    },
    {
      "cell_type": "code",
      "source": [
        "!zip -r /content/outputs-train.zip /content/outputs-train"
      ],
      "metadata": {
        "id": "RgRaHhZVLuf1"
      },
      "execution_count": null,
      "outputs": []
    },
    {
      "cell_type": "code",
      "source": [
        "from google.colab import files\n",
        "files.download(\"/content/outputs-train.zip\")"
      ],
      "metadata": {
        "colab": {
          "base_uri": "https://localhost:8080/",
          "height": 17
        },
        "id": "5CP28ZtXMMoX",
        "outputId": "667e56ac-65a4-40b9-abcd-a4301ad1cfec"
      },
      "execution_count": null,
      "outputs": [
        {
          "output_type": "display_data",
          "data": {
            "text/plain": [
              "<IPython.core.display.Javascript object>"
            ],
            "application/javascript": [
              "\n",
              "    async function download(id, filename, size) {\n",
              "      if (!google.colab.kernel.accessAllowed) {\n",
              "        return;\n",
              "      }\n",
              "      const div = document.createElement('div');\n",
              "      const label = document.createElement('label');\n",
              "      label.textContent = `Downloading \"${filename}\": `;\n",
              "      div.appendChild(label);\n",
              "      const progress = document.createElement('progress');\n",
              "      progress.max = size;\n",
              "      div.appendChild(progress);\n",
              "      document.body.appendChild(div);\n",
              "\n",
              "      const buffers = [];\n",
              "      let downloaded = 0;\n",
              "\n",
              "      const channel = await google.colab.kernel.comms.open(id);\n",
              "      // Send a message to notify the kernel that we're ready.\n",
              "      channel.send({})\n",
              "\n",
              "      for await (const message of channel.messages) {\n",
              "        // Send a message to notify the kernel that we're ready.\n",
              "        channel.send({})\n",
              "        if (message.buffers) {\n",
              "          for (const buffer of message.buffers) {\n",
              "            buffers.push(buffer);\n",
              "            downloaded += buffer.byteLength;\n",
              "            progress.value = downloaded;\n",
              "          }\n",
              "        }\n",
              "      }\n",
              "      const blob = new Blob(buffers, {type: 'application/binary'});\n",
              "      const a = document.createElement('a');\n",
              "      a.href = window.URL.createObjectURL(blob);\n",
              "      a.download = filename;\n",
              "      div.appendChild(a);\n",
              "      a.click();\n",
              "      div.remove();\n",
              "    }\n",
              "  "
            ]
          },
          "metadata": {}
        },
        {
          "output_type": "display_data",
          "data": {
            "text/plain": [
              "<IPython.core.display.Javascript object>"
            ],
            "application/javascript": [
              "download(\"download_c6509fe0-26e4-4f61-80b9-18c97e1740fc\", \"outputs-train.zip\", 1599665)"
            ]
          },
          "metadata": {}
        }
      ]
    },
    {
      "cell_type": "code",
      "source": [
        "!zip -r /WiC_data.zip /content/WiC_data"
      ],
      "metadata": {
        "id": "wuY3mwjZTWFX"
      },
      "execution_count": null,
      "outputs": []
    },
    {
      "cell_type": "code",
      "source": [
        "from google.colab import files\n",
        "files.download(\"/WiC_data.zip\")"
      ],
      "metadata": {
        "colab": {
          "base_uri": "https://localhost:8080/",
          "height": 34
        },
        "id": "YNUw3BhBTt02",
        "outputId": "151987ad-4fe7-495d-c4d3-d440ae9482ab"
      },
      "execution_count": null,
      "outputs": [
        {
          "output_type": "display_data",
          "data": {
            "text/plain": [
              "<IPython.core.display.Javascript object>"
            ],
            "application/javascript": [
              "\n",
              "    async function download(id, filename, size) {\n",
              "      if (!google.colab.kernel.accessAllowed) {\n",
              "        return;\n",
              "      }\n",
              "      const div = document.createElement('div');\n",
              "      const label = document.createElement('label');\n",
              "      label.textContent = `Downloading \"${filename}\": `;\n",
              "      div.appendChild(label);\n",
              "      const progress = document.createElement('progress');\n",
              "      progress.max = size;\n",
              "      div.appendChild(progress);\n",
              "      document.body.appendChild(div);\n",
              "\n",
              "      const buffers = [];\n",
              "      let downloaded = 0;\n",
              "\n",
              "      const channel = await google.colab.kernel.comms.open(id);\n",
              "      // Send a message to notify the kernel that we're ready.\n",
              "      channel.send({})\n",
              "\n",
              "      for await (const message of channel.messages) {\n",
              "        // Send a message to notify the kernel that we're ready.\n",
              "        channel.send({})\n",
              "        if (message.buffers) {\n",
              "          for (const buffer of message.buffers) {\n",
              "            buffers.push(buffer);\n",
              "            downloaded += buffer.byteLength;\n",
              "            progress.value = downloaded;\n",
              "          }\n",
              "        }\n",
              "      }\n",
              "      const blob = new Blob(buffers, {type: 'application/binary'});\n",
              "      const a = document.createElement('a');\n",
              "      a.href = window.URL.createObjectURL(blob);\n",
              "      a.download = filename;\n",
              "      div.appendChild(a);\n",
              "      a.click();\n",
              "      div.remove();\n",
              "    }\n",
              "  "
            ]
          },
          "metadata": {}
        },
        {
          "output_type": "display_data",
          "data": {
            "text/plain": [
              "<IPython.core.display.Javascript object>"
            ],
            "application/javascript": [
              "download(\"download_e50bedd3-8ef0-4f4a-91e8-5463e77db64f\", \"WiC_data.zip\", 1705368)"
            ]
          },
          "metadata": {}
        }
      ]
    }
  ],
  "metadata": {
    "colab": {
      "provenance": [],
      "authorship_tag": "ABX9TyNUwxj5pGLoru4fQp/gTh9L",
      "include_colab_link": true
    },
    "kernelspec": {
      "display_name": "Python 3",
      "name": "python3"
    },
    "language_info": {
      "name": "python"
    }
  },
  "nbformat": 4,
  "nbformat_minor": 0
}