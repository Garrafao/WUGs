{
 "cells": [
  {
   "attachments": {},
   "cell_type": "markdown",
   "metadata": {},
   "source": [
    "# Introduction\n",
    "From December 2022 to July 2023 we conducted several annotation studies on the data from the DWUG DE/EN/SV data sets. These can be distinguished into basically three studies:\n",
    "- Study 1: Small number of randomly selected edges\n",
    "- Study 2: resample 25+25 uses and annotate them rather densely\n",
    "- Study 3: extra round with uncompared clusters\n",
    "\n",
    "## Study 1 ('uses')\n",
    "Study 1 has been done with DWUG DE/EN/SV\n",
    "\n",
    "- Annotator JoshuaC99 didn't finish the study and should be excluded if low agreement with other annotators.\n",
    "\n",
    "## Study 2 ('resampled')\n",
    "\n",
    "## Study 3 ('unc')\n",
    "\n",
    "### General notes\n",
    "- During the annotation we observed several bugs in the annotation system. These were subsequently solved but may have had minor influences on the annotation:\n",
    " * In the first round of study 2 some of the indices of target words were erroneous (mostly off by small number of characters). This led to a bug in the annotation system showing annotators a message that everything was annotated. After the bug was solved annotators were instructed to continue the annotation.\n",
    " * In June we discovered some bugs concerning randomization:\n",
    "     * randomization of pairs: Wobei der Fehler nur bei Pairs-Projekten und den Tutorials gegriffen hat. solved early July\n",
    "     * randomization of sequence: \n",
    "     * skipped instances\n",
    "- todo Dominik: validate the statistics calculated in this notebook with previous calculations on earlier data versions"
   ]
  },
  {
   "cell_type": "markdown",
   "metadata": {},
   "source": [
    "#### Prerequisites\n",
    "- install packages as described in the readme of this repository\n",
    "\n",
    "- if you observe any problems, please open an issue in this repository"
   ]
  },
  {
   "cell_type": "code",
   "execution_count": null,
   "metadata": {},
   "outputs": [],
   "source": [
    "# Download re-annotated data"
   ]
  },
  {
   "cell_type": "code",
   "execution_count": null,
   "metadata": {},
   "outputs": [],
   "source": [
    "# Download original data for comparison"
   ]
  },
  {
   "cell_type": "code",
   "execution_count": null,
   "metadata": {},
   "outputs": [],
   "source": [
    "# Preprocess annotated data\n",
    "\n",
    "# map identifiers of uses"
   ]
  }
 ],
 "metadata": {
  "kernelspec": {
   "display_name": "Python 3",
   "language": "python",
   "name": "python3"
  },
  "language_info": {
   "codemirror_mode": {
    "name": "ipython",
    "version": 3
   },
   "file_extension": ".py",
   "mimetype": "text/x-python",
   "name": "python",
   "nbconvert_exporter": "python",
   "pygments_lexer": "ipython3",
   "version": "3.10.8"
  }
 },
 "nbformat": 4,
 "nbformat_minor": 4
}
